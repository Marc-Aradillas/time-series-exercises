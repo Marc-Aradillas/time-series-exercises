{
 "cells": [
  {
   "cell_type": "code",
   "execution_count": 1,
   "id": "a816a177-9814-42e7-8f48-eac96ed3ec5e",
   "metadata": {},
   "outputs": [
    {
     "data": {
      "application/javascript": [
       "IPython.notebook.set_autosave_interval(0)"
      ]
     },
     "metadata": {},
     "output_type": "display_data"
    },
    {
     "name": "stdout",
     "output_type": "stream",
     "text": [
      "Autosave disabled\n"
     ]
    }
   ],
   "source": [
    " #imports\n",
    "import warnings\n",
    "\n",
    "warnings.filterwarnings(\"ignore\")\n",
    "%autosave 0"
   ]
  },
  {
   "cell_type": "code",
   "execution_count": 2,
   "id": "2d2bd07c-9eb7-4fab-b9d5-7e4babf74d1c",
   "metadata": {},
   "outputs": [],
   "source": [
    "import os\n",
    "import pandas as pd\n",
    "import numpy as np\n",
    "\n",
    "import matplotlib.pyplot as plt\n",
    "import seaborn as sns\n",
    "\n",
    "#custom imports\n",
    "from env import get_connection"
   ]
  },
  {
   "cell_type": "markdown",
   "id": "b63f6f81-1e7c-47fe-8be5-762b765459b2",
   "metadata": {},
   "source": [
    "  "
   ]
  },
  {
   "cell_type": "markdown",
   "id": "af1fb1f1-1a4f-400c-9aab-ed32762b4f16",
   "metadata": {},
   "source": [
    "  "
   ]
  },
  {
   "cell_type": "markdown",
   "id": "18a1d63c-6edb-4057-b712-6800679fef14",
   "metadata": {},
   "source": [
    "  "
   ]
  },
  {
   "cell_type": "markdown",
   "id": "237877f6-d59e-4cf2-9afd-3f505f340dc8",
   "metadata": {},
   "source": [
    "  "
   ]
  },
  {
   "cell_type": "markdown",
   "id": "0cdcb675-9dd7-4a35-93fc-ecfc36be1fb1",
   "metadata": {},
   "source": [
    "# Exercises\n",
    "> The end result of this exercise should be a file named prepare.py."
   ]
  },
  {
   "cell_type": "markdown",
   "id": "58598e99-46d4-46e7-8eca-c3ec51c43fe1",
   "metadata": {},
   "source": [
    "* **Using your store items data:**"
   ]
  },
  {
   "cell_type": "markdown",
   "id": "272109f7-e8d7-4072-9fad-df03ae36be40",
   "metadata": {},
   "source": [
    "  "
   ]
  },
  {
   "cell_type": "markdown",
   "id": "8da236f7-40c1-4d6a-8f72-ac78409e3056",
   "metadata": {},
   "source": [
    "  "
   ]
  },
  {
   "cell_type": "code",
   "execution_count": 3,
   "id": "b0793c63-ca14-4e4a-acb8-b1cb8332b3fd",
   "metadata": {},
   "outputs": [],
   "source": [
    "url = get_connection('tsa_item_demand')\n",
    "\n",
    "query = '''\n",
    "        SELECT sale_date, sale_amount, \n",
    "        item_brand, item_name, item_price, \n",
    "        store_address, store_zipcode, \n",
    "        store_city, store_state\n",
    "        FROM sales\n",
    "        LEFT JOIN items USING(item_id)\n",
    "        LEFT JOIN stores USING(store_id)\n",
    "        '''\n",
    "\n",
    "def get_tsa():\n",
    "    '''\n",
    "    a function that searches for and retieves data. \n",
    "    if it does not find it it will retirve the data \n",
    "    from os it will query database and pull from\n",
    "    url\n",
    "    '''\n",
    "\n",
    "    filename = 'tsa_item_data.csv'\n",
    "\n",
    "    if os.path.isfile(filename):\n",
    "\n",
    "        return pd.read_csv(filename)\n",
    "        \n",
    "    else:\n",
    "        \n",
    "        df = pd.read_sql(query, url)\n",
    "        df.to_csv(filename, index=0)\n",
    "\n",
    "        return df"
   ]
  },
  {
   "cell_type": "code",
   "execution_count": 4,
   "id": "465d9adb-fb21-4219-bd31-ee5e69b6c08f",
   "metadata": {
    "scrolled": true
   },
   "outputs": [
    {
     "data": {
      "text/html": [
       "<div>\n",
       "<style scoped>\n",
       "    .dataframe tbody tr th:only-of-type {\n",
       "        vertical-align: middle;\n",
       "    }\n",
       "\n",
       "    .dataframe tbody tr th {\n",
       "        vertical-align: top;\n",
       "    }\n",
       "\n",
       "    .dataframe thead th {\n",
       "        text-align: right;\n",
       "    }\n",
       "</style>\n",
       "<table border=\"1\" class=\"dataframe\">\n",
       "  <thead>\n",
       "    <tr style=\"text-align: right;\">\n",
       "      <th></th>\n",
       "      <th>sale_date</th>\n",
       "      <th>sale_amount</th>\n",
       "      <th>item_brand</th>\n",
       "      <th>item_name</th>\n",
       "      <th>item_price</th>\n",
       "      <th>store_address</th>\n",
       "      <th>store_zipcode</th>\n",
       "      <th>store_city</th>\n",
       "      <th>store_state</th>\n",
       "    </tr>\n",
       "  </thead>\n",
       "  <tbody>\n",
       "    <tr>\n",
       "      <th>0</th>\n",
       "      <td>2013-01-01</td>\n",
       "      <td>13</td>\n",
       "      <td>Riceland</td>\n",
       "      <td>Riceland American Jazmine Rice</td>\n",
       "      <td>0.84</td>\n",
       "      <td>12125 Alamo Ranch Pkwy</td>\n",
       "      <td>78253</td>\n",
       "      <td>San Antonio</td>\n",
       "      <td>TX</td>\n",
       "    </tr>\n",
       "    <tr>\n",
       "      <th>1</th>\n",
       "      <td>2013-01-02</td>\n",
       "      <td>11</td>\n",
       "      <td>Riceland</td>\n",
       "      <td>Riceland American Jazmine Rice</td>\n",
       "      <td>0.84</td>\n",
       "      <td>12125 Alamo Ranch Pkwy</td>\n",
       "      <td>78253</td>\n",
       "      <td>San Antonio</td>\n",
       "      <td>TX</td>\n",
       "    </tr>\n",
       "    <tr>\n",
       "      <th>2</th>\n",
       "      <td>2013-01-03</td>\n",
       "      <td>14</td>\n",
       "      <td>Riceland</td>\n",
       "      <td>Riceland American Jazmine Rice</td>\n",
       "      <td>0.84</td>\n",
       "      <td>12125 Alamo Ranch Pkwy</td>\n",
       "      <td>78253</td>\n",
       "      <td>San Antonio</td>\n",
       "      <td>TX</td>\n",
       "    </tr>\n",
       "    <tr>\n",
       "      <th>3</th>\n",
       "      <td>2013-01-04</td>\n",
       "      <td>13</td>\n",
       "      <td>Riceland</td>\n",
       "      <td>Riceland American Jazmine Rice</td>\n",
       "      <td>0.84</td>\n",
       "      <td>12125 Alamo Ranch Pkwy</td>\n",
       "      <td>78253</td>\n",
       "      <td>San Antonio</td>\n",
       "      <td>TX</td>\n",
       "    </tr>\n",
       "    <tr>\n",
       "      <th>4</th>\n",
       "      <td>2013-01-05</td>\n",
       "      <td>10</td>\n",
       "      <td>Riceland</td>\n",
       "      <td>Riceland American Jazmine Rice</td>\n",
       "      <td>0.84</td>\n",
       "      <td>12125 Alamo Ranch Pkwy</td>\n",
       "      <td>78253</td>\n",
       "      <td>San Antonio</td>\n",
       "      <td>TX</td>\n",
       "    </tr>\n",
       "  </tbody>\n",
       "</table>\n",
       "</div>"
      ],
      "text/plain": [
       "    sale_date  sale_amount item_brand                       item_name  \\\n",
       "0  2013-01-01           13   Riceland  Riceland American Jazmine Rice   \n",
       "1  2013-01-02           11   Riceland  Riceland American Jazmine Rice   \n",
       "2  2013-01-03           14   Riceland  Riceland American Jazmine Rice   \n",
       "3  2013-01-04           13   Riceland  Riceland American Jazmine Rice   \n",
       "4  2013-01-05           10   Riceland  Riceland American Jazmine Rice   \n",
       "\n",
       "   item_price           store_address  store_zipcode   store_city store_state  \n",
       "0        0.84  12125 Alamo Ranch Pkwy          78253  San Antonio          TX  \n",
       "1        0.84  12125 Alamo Ranch Pkwy          78253  San Antonio          TX  \n",
       "2        0.84  12125 Alamo Ranch Pkwy          78253  San Antonio          TX  \n",
       "3        0.84  12125 Alamo Ranch Pkwy          78253  San Antonio          TX  \n",
       "4        0.84  12125 Alamo Ranch Pkwy          78253  San Antonio          TX  "
      ]
     },
     "execution_count": 4,
     "metadata": {},
     "output_type": "execute_result"
    }
   ],
   "source": [
    "df = get_tsa()\n",
    "df.head()"
   ]
  },
  {
   "cell_type": "markdown",
   "id": "f2937b76-9362-4a56-8b08-df331b5ed090",
   "metadata": {},
   "source": [
    "  "
   ]
  },
  {
   "cell_type": "markdown",
   "id": "15566035-2bb7-4b60-a16a-654044c241c5",
   "metadata": {},
   "source": [
    "  "
   ]
  },
  {
   "cell_type": "markdown",
   "id": "9069c25b-7e87-47e1-88b1-08d633dcffd7",
   "metadata": {},
   "source": [
    "  "
   ]
  },
  {
   "cell_type": "markdown",
   "id": "4cc531bf-227f-4e2d-adc6-d47d9afdb030",
   "metadata": {},
   "source": [
    "  "
   ]
  },
  {
   "cell_type": "markdown",
   "id": "a6b09af9-c1fb-402c-86c1-c36d45d2f614",
   "metadata": {},
   "source": [
    "  "
   ]
  },
  {
   "cell_type": "markdown",
   "id": "769760d3-74f3-43ec-9823-822ce30718a4",
   "metadata": {},
   "source": [
    "## 1. Convert date column to datetime format."
   ]
  },
  {
   "cell_type": "code",
   "execution_count": 5,
   "id": "5e6a9e10-408e-4b8e-b7d0-ae1dff6a486f",
   "metadata": {},
   "outputs": [
    {
     "name": "stdout",
     "output_type": "stream",
     "text": [
      "<class 'pandas.core.frame.DataFrame'>\n",
      "RangeIndex: 913000 entries, 0 to 912999\n",
      "Data columns (total 9 columns):\n",
      " #   Column         Non-Null Count   Dtype         \n",
      "---  ------         --------------   -----         \n",
      " 0   sale_date      913000 non-null  datetime64[ns]\n",
      " 1   sale_amount    913000 non-null  int64         \n",
      " 2   item_brand     913000 non-null  object        \n",
      " 3   item_name      913000 non-null  object        \n",
      " 4   item_price     913000 non-null  float64       \n",
      " 5   store_address  913000 non-null  object        \n",
      " 6   store_zipcode  913000 non-null  int64         \n",
      " 7   store_city     913000 non-null  object        \n",
      " 8   store_state    913000 non-null  object        \n",
      "dtypes: datetime64[ns](1), float64(1), int64(2), object(5)\n",
      "memory usage: 62.7+ MB\n"
     ]
    }
   ],
   "source": [
    "df.sale_date = pd.to_datetime(df.sale_date)\n",
    "df.info()"
   ]
  },
  {
   "cell_type": "markdown",
   "id": "fe4653b8-d654-4645-8354-0aa43cf3953b",
   "metadata": {},
   "source": [
    "  "
   ]
  },
  {
   "cell_type": "markdown",
   "id": "81a60244-6748-4a4f-a49c-26ebbe06651c",
   "metadata": {},
   "source": [
    "  "
   ]
  },
  {
   "cell_type": "markdown",
   "id": "6b05f521-9be8-4ebb-bf82-e34f7ed05019",
   "metadata": {},
   "source": [
    "  "
   ]
  },
  {
   "cell_type": "markdown",
   "id": "2f8c609b-4396-4543-82ff-5e4b729031dd",
   "metadata": {},
   "source": [
    "  "
   ]
  },
  {
   "cell_type": "markdown",
   "id": "9c423561-191c-429e-9cd9-ca653980e52b",
   "metadata": {},
   "source": [
    "  "
   ]
  },
  {
   "cell_type": "markdown",
   "id": "25fa754a-9b58-4acf-a88b-77c66b94878d",
   "metadata": {},
   "source": [
    "## 2. Plot the distribution of sale_amount and item_price."
   ]
  },
  {
   "cell_type": "code",
   "execution_count": 6,
   "id": "688084ad-2b03-4a25-b4ba-df8eca863171",
   "metadata": {},
   "outputs": [
    {
     "data": {
      "image/png": "[encoded data removed]",
      "text/plain": [
       "<Figure size 640x480 with 1 Axes>"
      ]
     },
     "metadata": {},
     "output_type": "display_data"
    }
   ],
   "source": [
    "plt.hist(df.sale_amount, bins=50)\n",
    "plt.title('Data Distribution')\n",
    "plt.xlabel('Sale Amount $')\n",
    "plt.ylabel('Count')\n",
    "plt.tight_layout()\n",
    "plt.show()"
   ]
  },
  {
   "cell_type": "markdown",
   "id": "90a4ac29-9689-4203-a524-f4ef7a3ea2e3",
   "metadata": {},
   "source": [
    "  "
   ]
  },
  {
   "cell_type": "markdown",
   "id": "c30d0984-88a0-4e7c-becd-062fc6825632",
   "metadata": {},
   "source": [
    "  "
   ]
  },
  {
   "cell_type": "code",
   "execution_count": 7,
   "id": "081b48fc-6571-4593-b6c3-a1c904147464",
   "metadata": {},
   "outputs": [
    {
     "data": {
      "image/png": "[encoded data removed]",
      "text/plain": [
       "<Figure size 640x480 with 1 Axes>"
      ]
     },
     "metadata": {},
     "output_type": "display_data"
    }
   ],
   "source": [
    "plt.hist(df.item_price, bins=50)\n",
    "plt.title('Distribution of Item Price')\n",
    "plt.xlabel('Item Price $')\n",
    "plt.ylabel('Count')\n",
    "plt.tight_layout()\n",
    "plt.show()"
   ]
  },
  {
   "cell_type": "markdown",
   "id": "a3ad7515-a051-4648-ab2e-c023a4fc3a6a",
   "metadata": {},
   "source": [
    "  "
   ]
  },
  {
   "cell_type": "markdown",
   "id": "9af3f806-4126-4946-8bbf-7e463ecfe99c",
   "metadata": {},
   "source": [
    "  "
   ]
  },
  {
   "cell_type": "markdown",
   "id": "426c8060-c03c-4b7b-aced-9d74b7a26faa",
   "metadata": {},
   "source": [
    "  "
   ]
  },
  {
   "cell_type": "markdown",
   "id": "8bcde21a-e132-4496-9bcb-04e454dcda8b",
   "metadata": {},
   "source": [
    "  "
   ]
  },
  {
   "cell_type": "markdown",
   "id": "350a7fd3-dd8a-4597-a886-fca14f4e9863",
   "metadata": {},
   "source": [
    "  "
   ]
  },
  {
   "cell_type": "markdown",
   "id": "f13bd96f-889c-4047-8463-f7f8e7876886",
   "metadata": {},
   "source": [
    "## 3. Set the index to be the datetime variable."
   ]
  },
  {
   "cell_type": "code",
   "execution_count": 8,
   "id": "d99bcf18-f60f-4c6f-b472-97f3104f5419",
   "metadata": {},
   "outputs": [
    {
     "data": {
      "text/html": [
       "<div>\n",
       "<style scoped>\n",
       "    .dataframe tbody tr th:only-of-type {\n",
       "        vertical-align: middle;\n",
       "    }\n",
       "\n",
       "    .dataframe tbody tr th {\n",
       "        vertical-align: top;\n",
       "    }\n",
       "\n",
       "    .dataframe thead th {\n",
       "        text-align: right;\n",
       "    }\n",
       "</style>\n",
       "<table border=\"1\" class=\"dataframe\">\n",
       "  <thead>\n",
       "    <tr style=\"text-align: right;\">\n",
       "      <th></th>\n",
       "      <th>sale_amount</th>\n",
       "      <th>item_brand</th>\n",
       "      <th>item_name</th>\n",
       "      <th>item_price</th>\n",
       "      <th>store_address</th>\n",
       "      <th>store_zipcode</th>\n",
       "      <th>store_city</th>\n",
       "      <th>store_state</th>\n",
       "    </tr>\n",
       "    <tr>\n",
       "      <th>sale_date</th>\n",
       "      <th></th>\n",
       "      <th></th>\n",
       "      <th></th>\n",
       "      <th></th>\n",
       "      <th></th>\n",
       "      <th></th>\n",
       "      <th></th>\n",
       "      <th></th>\n",
       "    </tr>\n",
       "  </thead>\n",
       "  <tbody>\n",
       "    <tr>\n",
       "      <th>2013-01-01</th>\n",
       "      <td>13</td>\n",
       "      <td>Riceland</td>\n",
       "      <td>Riceland American Jazmine Rice</td>\n",
       "      <td>0.84</td>\n",
       "      <td>12125 Alamo Ranch Pkwy</td>\n",
       "      <td>78253</td>\n",
       "      <td>San Antonio</td>\n",
       "      <td>TX</td>\n",
       "    </tr>\n",
       "    <tr>\n",
       "      <th>2013-01-01</th>\n",
       "      <td>26</td>\n",
       "      <td>Mueller</td>\n",
       "      <td>Mueller Sport Care Basic Support Level Medium ...</td>\n",
       "      <td>8.40</td>\n",
       "      <td>12018 Perrin Beitel Rd</td>\n",
       "      <td>78217</td>\n",
       "      <td>San Antonio</td>\n",
       "      <td>TX</td>\n",
       "    </tr>\n",
       "    <tr>\n",
       "      <th>2013-01-01</th>\n",
       "      <td>27</td>\n",
       "      <td>Mama Marys</td>\n",
       "      <td>Pizza Sauce</td>\n",
       "      <td>4.65</td>\n",
       "      <td>12018 Perrin Beitel Rd</td>\n",
       "      <td>78217</td>\n",
       "      <td>San Antonio</td>\n",
       "      <td>TX</td>\n",
       "    </tr>\n",
       "    <tr>\n",
       "      <th>2013-01-01</th>\n",
       "      <td>54</td>\n",
       "      <td>Mueller</td>\n",
       "      <td>Mueller Sport Care Basic Support Level Medium ...</td>\n",
       "      <td>8.40</td>\n",
       "      <td>15000 San Pedro Ave</td>\n",
       "      <td>78232</td>\n",
       "      <td>San Antonio</td>\n",
       "      <td>TX</td>\n",
       "    </tr>\n",
       "    <tr>\n",
       "      <th>2013-01-01</th>\n",
       "      <td>35</td>\n",
       "      <td>Mueller</td>\n",
       "      <td>Mueller Sport Care Basic Support Level Medium ...</td>\n",
       "      <td>8.40</td>\n",
       "      <td>735 SW Military Dr</td>\n",
       "      <td>78221</td>\n",
       "      <td>San Antonio</td>\n",
       "      <td>TX</td>\n",
       "    </tr>\n",
       "  </tbody>\n",
       "</table>\n",
       "</div>"
      ],
      "text/plain": [
       "            sale_amount  item_brand  \\\n",
       "sale_date                             \n",
       "2013-01-01           13    Riceland   \n",
       "2013-01-01           26     Mueller   \n",
       "2013-01-01           27  Mama Marys   \n",
       "2013-01-01           54     Mueller   \n",
       "2013-01-01           35     Mueller   \n",
       "\n",
       "                                                    item_name  item_price  \\\n",
       "sale_date                                                                   \n",
       "2013-01-01                     Riceland American Jazmine Rice        0.84   \n",
       "2013-01-01  Mueller Sport Care Basic Support Level Medium ...        8.40   \n",
       "2013-01-01                                        Pizza Sauce        4.65   \n",
       "2013-01-01  Mueller Sport Care Basic Support Level Medium ...        8.40   \n",
       "2013-01-01  Mueller Sport Care Basic Support Level Medium ...        8.40   \n",
       "\n",
       "                     store_address  store_zipcode   store_city store_state  \n",
       "sale_date                                                                   \n",
       "2013-01-01  12125 Alamo Ranch Pkwy          78253  San Antonio          TX  \n",
       "2013-01-01  12018 Perrin Beitel Rd          78217  San Antonio          TX  \n",
       "2013-01-01  12018 Perrin Beitel Rd          78217  San Antonio          TX  \n",
       "2013-01-01     15000 San Pedro Ave          78232  San Antonio          TX  \n",
       "2013-01-01      735 SW Military Dr          78221  San Antonio          TX  "
      ]
     },
     "execution_count": 8,
     "metadata": {},
     "output_type": "execute_result"
    }
   ],
   "source": [
    "df = df.set_index('sale_date')\n",
    "df = df.sort_values('sale_date')\n",
    "df.head()"
   ]
  },
  {
   "cell_type": "markdown",
   "id": "be04e504-acf6-4e0c-9716-10e01dd52208",
   "metadata": {},
   "source": [
    "  "
   ]
  },
  {
   "cell_type": "markdown",
   "id": "718d4db2-5dbb-4983-9f4c-99fd2dd195ed",
   "metadata": {},
   "source": [
    "  "
   ]
  },
  {
   "cell_type": "markdown",
   "id": "6274de77-ebf6-409b-ad11-5497a048488d",
   "metadata": {},
   "source": [
    "  "
   ]
  },
  {
   "cell_type": "markdown",
   "id": "83521e9d-9c7f-4bfa-8f09-cd7aa44c4605",
   "metadata": {},
   "source": [
    "  "
   ]
  },
  {
   "cell_type": "markdown",
   "id": "773c8295-d332-445e-9f13-ee98535e90e5",
   "metadata": {},
   "source": [
    "  "
   ]
  },
  {
   "cell_type": "markdown",
   "id": "e2b5143f-6ba1-4b39-9f7d-c8fa1c451931",
   "metadata": {},
   "source": [
    "## 4. Add a 'month' and 'day of week' column to your dataframe."
   ]
  },
  {
   "cell_type": "code",
   "execution_count": 9,
   "id": "caba781d-99db-47b7-99c2-982dfc33baa5",
   "metadata": {},
   "outputs": [
    {
     "data": {
      "text/html": [
       "<div>\n",
       "<style scoped>\n",
       "    .dataframe tbody tr th:only-of-type {\n",
       "        vertical-align: middle;\n",
       "    }\n",
       "\n",
       "    .dataframe tbody tr th {\n",
       "        vertical-align: top;\n",
       "    }\n",
       "\n",
       "    .dataframe thead th {\n",
       "        text-align: right;\n",
       "    }\n",
       "</style>\n",
       "<table border=\"1\" class=\"dataframe\">\n",
       "  <thead>\n",
       "    <tr style=\"text-align: right;\">\n",
       "      <th></th>\n",
       "      <th>sale_amount</th>\n",
       "      <th>item_brand</th>\n",
       "      <th>item_name</th>\n",
       "      <th>item_price</th>\n",
       "      <th>store_address</th>\n",
       "      <th>store_zipcode</th>\n",
       "      <th>store_city</th>\n",
       "      <th>store_state</th>\n",
       "      <th>month</th>\n",
       "    </tr>\n",
       "    <tr>\n",
       "      <th>sale_date</th>\n",
       "      <th></th>\n",
       "      <th></th>\n",
       "      <th></th>\n",
       "      <th></th>\n",
       "      <th></th>\n",
       "      <th></th>\n",
       "      <th></th>\n",
       "      <th></th>\n",
       "      <th></th>\n",
       "    </tr>\n",
       "  </thead>\n",
       "  <tbody>\n",
       "    <tr>\n",
       "      <th>2013-01-01</th>\n",
       "      <td>13</td>\n",
       "      <td>Riceland</td>\n",
       "      <td>Riceland American Jazmine Rice</td>\n",
       "      <td>0.84</td>\n",
       "      <td>12125 Alamo Ranch Pkwy</td>\n",
       "      <td>78253</td>\n",
       "      <td>San Antonio</td>\n",
       "      <td>TX</td>\n",
       "      <td>January</td>\n",
       "    </tr>\n",
       "    <tr>\n",
       "      <th>2013-01-01</th>\n",
       "      <td>26</td>\n",
       "      <td>Mueller</td>\n",
       "      <td>Mueller Sport Care Basic Support Level Medium ...</td>\n",
       "      <td>8.40</td>\n",
       "      <td>12018 Perrin Beitel Rd</td>\n",
       "      <td>78217</td>\n",
       "      <td>San Antonio</td>\n",
       "      <td>TX</td>\n",
       "      <td>January</td>\n",
       "    </tr>\n",
       "    <tr>\n",
       "      <th>2013-01-01</th>\n",
       "      <td>27</td>\n",
       "      <td>Mama Marys</td>\n",
       "      <td>Pizza Sauce</td>\n",
       "      <td>4.65</td>\n",
       "      <td>12018 Perrin Beitel Rd</td>\n",
       "      <td>78217</td>\n",
       "      <td>San Antonio</td>\n",
       "      <td>TX</td>\n",
       "      <td>January</td>\n",
       "    </tr>\n",
       "    <tr>\n",
       "      <th>2013-01-01</th>\n",
       "      <td>54</td>\n",
       "      <td>Mueller</td>\n",
       "      <td>Mueller Sport Care Basic Support Level Medium ...</td>\n",
       "      <td>8.40</td>\n",
       "      <td>15000 San Pedro Ave</td>\n",
       "      <td>78232</td>\n",
       "      <td>San Antonio</td>\n",
       "      <td>TX</td>\n",
       "      <td>January</td>\n",
       "    </tr>\n",
       "    <tr>\n",
       "      <th>2013-01-01</th>\n",
       "      <td>35</td>\n",
       "      <td>Mueller</td>\n",
       "      <td>Mueller Sport Care Basic Support Level Medium ...</td>\n",
       "      <td>8.40</td>\n",
       "      <td>735 SW Military Dr</td>\n",
       "      <td>78221</td>\n",
       "      <td>San Antonio</td>\n",
       "      <td>TX</td>\n",
       "      <td>January</td>\n",
       "    </tr>\n",
       "  </tbody>\n",
       "</table>\n",
       "</div>"
      ],
      "text/plain": [
       "            sale_amount  item_brand  \\\n",
       "sale_date                             \n",
       "2013-01-01           13    Riceland   \n",
       "2013-01-01           26     Mueller   \n",
       "2013-01-01           27  Mama Marys   \n",
       "2013-01-01           54     Mueller   \n",
       "2013-01-01           35     Mueller   \n",
       "\n",
       "                                                    item_name  item_price  \\\n",
       "sale_date                                                                   \n",
       "2013-01-01                     Riceland American Jazmine Rice        0.84   \n",
       "2013-01-01  Mueller Sport Care Basic Support Level Medium ...        8.40   \n",
       "2013-01-01                                        Pizza Sauce        4.65   \n",
       "2013-01-01  Mueller Sport Care Basic Support Level Medium ...        8.40   \n",
       "2013-01-01  Mueller Sport Care Basic Support Level Medium ...        8.40   \n",
       "\n",
       "                     store_address  store_zipcode   store_city store_state  \\\n",
       "sale_date                                                                    \n",
       "2013-01-01  12125 Alamo Ranch Pkwy          78253  San Antonio          TX   \n",
       "2013-01-01  12018 Perrin Beitel Rd          78217  San Antonio          TX   \n",
       "2013-01-01  12018 Perrin Beitel Rd          78217  San Antonio          TX   \n",
       "2013-01-01     15000 San Pedro Ave          78232  San Antonio          TX   \n",
       "2013-01-01      735 SW Military Dr          78221  San Antonio          TX   \n",
       "\n",
       "              month  \n",
       "sale_date            \n",
       "2013-01-01  January  \n",
       "2013-01-01  January  \n",
       "2013-01-01  January  \n",
       "2013-01-01  January  \n",
       "2013-01-01  January  "
      ]
     },
     "execution_count": 9,
     "metadata": {},
     "output_type": "execute_result"
    }
   ],
   "source": [
    "df['month'] = df.index.month_name()\n",
    "df.head()"
   ]
  },
  {
   "cell_type": "markdown",
   "id": "cae49483-e78d-4bba-9172-caaf188997bb",
   "metadata": {},
   "source": [
    "  "
   ]
  },
  {
   "cell_type": "markdown",
   "id": "4feab44a-3685-42fa-a31a-a28a7d122d2d",
   "metadata": {},
   "source": [
    "  "
   ]
  },
  {
   "cell_type": "markdown",
   "id": "44d272a1-e889-4ecb-9aed-9c359c7522a1",
   "metadata": {},
   "source": [
    "  "
   ]
  },
  {
   "cell_type": "markdown",
   "id": "f5f28419-b064-4b5b-8884-557ddd8c8f25",
   "metadata": {},
   "source": [
    "  "
   ]
  },
  {
   "cell_type": "markdown",
   "id": "530875ba-70b3-41ee-96c0-e36f3e9b726a",
   "metadata": {},
   "source": [
    "  "
   ]
  },
  {
   "cell_type": "markdown",
   "id": "62497da2-a8c3-4a7c-9dad-059efcd868db",
   "metadata": {},
   "source": [
    "## 5. Add a column to your dataframe, sales_total, which is a derived from sale_amount (total items) and item_price."
   ]
  },
  {
   "cell_type": "code",
   "execution_count": 10,
   "id": "d0db3008-8b43-48d6-afc6-dc4daaca2bed",
   "metadata": {},
   "outputs": [
    {
     "data": {
      "text/html": [
       "<div>\n",
       "<style scoped>\n",
       "    .dataframe tbody tr th:only-of-type {\n",
       "        vertical-align: middle;\n",
       "    }\n",
       "\n",
       "    .dataframe tbody tr th {\n",
       "        vertical-align: top;\n",
       "    }\n",
       "\n",
       "    .dataframe thead th {\n",
       "        text-align: right;\n",
       "    }\n",
       "</style>\n",
       "<table border=\"1\" class=\"dataframe\">\n",
       "  <thead>\n",
       "    <tr style=\"text-align: right;\">\n",
       "      <th></th>\n",
       "      <th>sale_amount</th>\n",
       "      <th>item_brand</th>\n",
       "      <th>item_name</th>\n",
       "      <th>item_price</th>\n",
       "      <th>store_address</th>\n",
       "      <th>store_zipcode</th>\n",
       "      <th>store_city</th>\n",
       "      <th>store_state</th>\n",
       "      <th>month</th>\n",
       "      <th>day_of_week</th>\n",
       "    </tr>\n",
       "    <tr>\n",
       "      <th>sale_date</th>\n",
       "      <th></th>\n",
       "      <th></th>\n",
       "      <th></th>\n",
       "      <th></th>\n",
       "      <th></th>\n",
       "      <th></th>\n",
       "      <th></th>\n",
       "      <th></th>\n",
       "      <th></th>\n",
       "      <th></th>\n",
       "    </tr>\n",
       "  </thead>\n",
       "  <tbody>\n",
       "    <tr>\n",
       "      <th>2013-01-01</th>\n",
       "      <td>13</td>\n",
       "      <td>Riceland</td>\n",
       "      <td>Riceland American Jazmine Rice</td>\n",
       "      <td>0.84</td>\n",
       "      <td>12125 Alamo Ranch Pkwy</td>\n",
       "      <td>78253</td>\n",
       "      <td>San Antonio</td>\n",
       "      <td>TX</td>\n",
       "      <td>January</td>\n",
       "      <td>Tuesday</td>\n",
       "    </tr>\n",
       "    <tr>\n",
       "      <th>2013-01-01</th>\n",
       "      <td>26</td>\n",
       "      <td>Mueller</td>\n",
       "      <td>Mueller Sport Care Basic Support Level Medium ...</td>\n",
       "      <td>8.40</td>\n",
       "      <td>12018 Perrin Beitel Rd</td>\n",
       "      <td>78217</td>\n",
       "      <td>San Antonio</td>\n",
       "      <td>TX</td>\n",
       "      <td>January</td>\n",
       "      <td>Tuesday</td>\n",
       "    </tr>\n",
       "    <tr>\n",
       "      <th>2013-01-01</th>\n",
       "      <td>27</td>\n",
       "      <td>Mama Marys</td>\n",
       "      <td>Pizza Sauce</td>\n",
       "      <td>4.65</td>\n",
       "      <td>12018 Perrin Beitel Rd</td>\n",
       "      <td>78217</td>\n",
       "      <td>San Antonio</td>\n",
       "      <td>TX</td>\n",
       "      <td>January</td>\n",
       "      <td>Tuesday</td>\n",
       "    </tr>\n",
       "    <tr>\n",
       "      <th>2013-01-01</th>\n",
       "      <td>54</td>\n",
       "      <td>Mueller</td>\n",
       "      <td>Mueller Sport Care Basic Support Level Medium ...</td>\n",
       "      <td>8.40</td>\n",
       "      <td>15000 San Pedro Ave</td>\n",
       "      <td>78232</td>\n",
       "      <td>San Antonio</td>\n",
       "      <td>TX</td>\n",
       "      <td>January</td>\n",
       "      <td>Tuesday</td>\n",
       "    </tr>\n",
       "    <tr>\n",
       "      <th>2013-01-01</th>\n",
       "      <td>35</td>\n",
       "      <td>Mueller</td>\n",
       "      <td>Mueller Sport Care Basic Support Level Medium ...</td>\n",
       "      <td>8.40</td>\n",
       "      <td>735 SW Military Dr</td>\n",
       "      <td>78221</td>\n",
       "      <td>San Antonio</td>\n",
       "      <td>TX</td>\n",
       "      <td>January</td>\n",
       "      <td>Tuesday</td>\n",
       "    </tr>\n",
       "  </tbody>\n",
       "</table>\n",
       "</div>"
      ],
      "text/plain": [
       "            sale_amount  item_brand  \\\n",
       "sale_date                             \n",
       "2013-01-01           13    Riceland   \n",
       "2013-01-01           26     Mueller   \n",
       "2013-01-01           27  Mama Marys   \n",
       "2013-01-01           54     Mueller   \n",
       "2013-01-01           35     Mueller   \n",
       "\n",
       "                                                    item_name  item_price  \\\n",
       "sale_date                                                                   \n",
       "2013-01-01                     Riceland American Jazmine Rice        0.84   \n",
       "2013-01-01  Mueller Sport Care Basic Support Level Medium ...        8.40   \n",
       "2013-01-01                                        Pizza Sauce        4.65   \n",
       "2013-01-01  Mueller Sport Care Basic Support Level Medium ...        8.40   \n",
       "2013-01-01  Mueller Sport Care Basic Support Level Medium ...        8.40   \n",
       "\n",
       "                     store_address  store_zipcode   store_city store_state  \\\n",
       "sale_date                                                                    \n",
       "2013-01-01  12125 Alamo Ranch Pkwy          78253  San Antonio          TX   \n",
       "2013-01-01  12018 Perrin Beitel Rd          78217  San Antonio          TX   \n",
       "2013-01-01  12018 Perrin Beitel Rd          78217  San Antonio          TX   \n",
       "2013-01-01     15000 San Pedro Ave          78232  San Antonio          TX   \n",
       "2013-01-01      735 SW Military Dr          78221  San Antonio          TX   \n",
       "\n",
       "              month day_of_week  \n",
       "sale_date                        \n",
       "2013-01-01  January     Tuesday  \n",
       "2013-01-01  January     Tuesday  \n",
       "2013-01-01  January     Tuesday  \n",
       "2013-01-01  January     Tuesday  \n",
       "2013-01-01  January     Tuesday  "
      ]
     },
     "execution_count": 10,
     "metadata": {},
     "output_type": "execute_result"
    }
   ],
   "source": [
    "df['day_of_week'] = df.index.day_name()\n",
    "df.head()"
   ]
  },
  {
   "cell_type": "markdown",
   "id": "375add35-6daf-4f6e-a788-3271c42103aa",
   "metadata": {},
   "source": [
    "  "
   ]
  },
  {
   "cell_type": "markdown",
   "id": "179ab858-8e89-4876-9f71-5eef0b2a2a6f",
   "metadata": {},
   "source": [
    "  "
   ]
  },
  {
   "cell_type": "markdown",
   "id": "bbc58ca8-c269-4348-99fd-521a505f25a3",
   "metadata": {},
   "source": [
    "  "
   ]
  },
  {
   "cell_type": "markdown",
   "id": "b0caf662-83fc-438e-bb90-d8debb13bd9f",
   "metadata": {},
   "source": [
    "  "
   ]
  },
  {
   "cell_type": "markdown",
   "id": "c0e60624-e9a2-4e1f-b5cb-5c682ac2d92e",
   "metadata": {},
   "source": [
    "  "
   ]
  },
  {
   "cell_type": "markdown",
   "id": "74fcee3b-48d1-4152-b6ae-cf82a59d5972",
   "metadata": {},
   "source": [
    "## 6. Make sure all the work that you have done above is reproducible. That is, you should put the code above into separate functions and be able to re-run the functions and get the same results."
   ]
  },
  {
   "cell_type": "code",
   "execution_count": 11,
   "id": "832aba7b-7fbd-4bbe-a037-2d210a1e7fb7",
   "metadata": {},
   "outputs": [],
   "source": [
    "def prep_tsa():\n",
    "    df = get_tsa()\n",
    "    df.sale_date = pd.to_datetime(df.sale_date)\n",
    "    df = df.set_index('sale_date')\n",
    "    df = df.sort_values('sale_date')\n",
    "    df['month'] = df.index.month_name()\n",
    "    df['day_of_week'] = df.index.day_name()\n",
    "\n",
    "    return df"
   ]
  },
  {
   "cell_type": "code",
   "execution_count": 12,
   "id": "28a3558d-97ea-4eb8-bd98-25e611555f6b",
   "metadata": {},
   "outputs": [
    {
     "data": {
      "text/html": [
       "<div>\n",
       "<style scoped>\n",
       "    .dataframe tbody tr th:only-of-type {\n",
       "        vertical-align: middle;\n",
       "    }\n",
       "\n",
       "    .dataframe tbody tr th {\n",
       "        vertical-align: top;\n",
       "    }\n",
       "\n",
       "    .dataframe thead th {\n",
       "        text-align: right;\n",
       "    }\n",
       "</style>\n",
       "<table border=\"1\" class=\"dataframe\">\n",
       "  <thead>\n",
       "    <tr style=\"text-align: right;\">\n",
       "      <th></th>\n",
       "      <th>sale_amount</th>\n",
       "      <th>item_brand</th>\n",
       "      <th>item_name</th>\n",
       "      <th>item_price</th>\n",
       "      <th>store_address</th>\n",
       "      <th>store_zipcode</th>\n",
       "      <th>store_city</th>\n",
       "      <th>store_state</th>\n",
       "      <th>month</th>\n",
       "      <th>day_of_week</th>\n",
       "    </tr>\n",
       "    <tr>\n",
       "      <th>sale_date</th>\n",
       "      <th></th>\n",
       "      <th></th>\n",
       "      <th></th>\n",
       "      <th></th>\n",
       "      <th></th>\n",
       "      <th></th>\n",
       "      <th></th>\n",
       "      <th></th>\n",
       "      <th></th>\n",
       "      <th></th>\n",
       "    </tr>\n",
       "  </thead>\n",
       "  <tbody>\n",
       "    <tr>\n",
       "      <th>2013-01-01</th>\n",
       "      <td>13</td>\n",
       "      <td>Riceland</td>\n",
       "      <td>Riceland American Jazmine Rice</td>\n",
       "      <td>0.84</td>\n",
       "      <td>12125 Alamo Ranch Pkwy</td>\n",
       "      <td>78253</td>\n",
       "      <td>San Antonio</td>\n",
       "      <td>TX</td>\n",
       "      <td>January</td>\n",
       "      <td>Tuesday</td>\n",
       "    </tr>\n",
       "    <tr>\n",
       "      <th>2013-01-01</th>\n",
       "      <td>26</td>\n",
       "      <td>Mueller</td>\n",
       "      <td>Mueller Sport Care Basic Support Level Medium ...</td>\n",
       "      <td>8.40</td>\n",
       "      <td>12018 Perrin Beitel Rd</td>\n",
       "      <td>78217</td>\n",
       "      <td>San Antonio</td>\n",
       "      <td>TX</td>\n",
       "      <td>January</td>\n",
       "      <td>Tuesday</td>\n",
       "    </tr>\n",
       "    <tr>\n",
       "      <th>2013-01-01</th>\n",
       "      <td>27</td>\n",
       "      <td>Mama Marys</td>\n",
       "      <td>Pizza Sauce</td>\n",
       "      <td>4.65</td>\n",
       "      <td>12018 Perrin Beitel Rd</td>\n",
       "      <td>78217</td>\n",
       "      <td>San Antonio</td>\n",
       "      <td>TX</td>\n",
       "      <td>January</td>\n",
       "      <td>Tuesday</td>\n",
       "    </tr>\n",
       "    <tr>\n",
       "      <th>2013-01-01</th>\n",
       "      <td>54</td>\n",
       "      <td>Mueller</td>\n",
       "      <td>Mueller Sport Care Basic Support Level Medium ...</td>\n",
       "      <td>8.40</td>\n",
       "      <td>15000 San Pedro Ave</td>\n",
       "      <td>78232</td>\n",
       "      <td>San Antonio</td>\n",
       "      <td>TX</td>\n",
       "      <td>January</td>\n",
       "      <td>Tuesday</td>\n",
       "    </tr>\n",
       "    <tr>\n",
       "      <th>2013-01-01</th>\n",
       "      <td>35</td>\n",
       "      <td>Mueller</td>\n",
       "      <td>Mueller Sport Care Basic Support Level Medium ...</td>\n",
       "      <td>8.40</td>\n",
       "      <td>735 SW Military Dr</td>\n",
       "      <td>78221</td>\n",
       "      <td>San Antonio</td>\n",
       "      <td>TX</td>\n",
       "      <td>January</td>\n",
       "      <td>Tuesday</td>\n",
       "    </tr>\n",
       "  </tbody>\n",
       "</table>\n",
       "</div>"
      ],
      "text/plain": [
       "            sale_amount  item_brand  \\\n",
       "sale_date                             \n",
       "2013-01-01           13    Riceland   \n",
       "2013-01-01           26     Mueller   \n",
       "2013-01-01           27  Mama Marys   \n",
       "2013-01-01           54     Mueller   \n",
       "2013-01-01           35     Mueller   \n",
       "\n",
       "                                                    item_name  item_price  \\\n",
       "sale_date                                                                   \n",
       "2013-01-01                     Riceland American Jazmine Rice        0.84   \n",
       "2013-01-01  Mueller Sport Care Basic Support Level Medium ...        8.40   \n",
       "2013-01-01                                        Pizza Sauce        4.65   \n",
       "2013-01-01  Mueller Sport Care Basic Support Level Medium ...        8.40   \n",
       "2013-01-01  Mueller Sport Care Basic Support Level Medium ...        8.40   \n",
       "\n",
       "                     store_address  store_zipcode   store_city store_state  \\\n",
       "sale_date                                                                    \n",
       "2013-01-01  12125 Alamo Ranch Pkwy          78253  San Antonio          TX   \n",
       "2013-01-01  12018 Perrin Beitel Rd          78217  San Antonio          TX   \n",
       "2013-01-01  12018 Perrin Beitel Rd          78217  San Antonio          TX   \n",
       "2013-01-01     15000 San Pedro Ave          78232  San Antonio          TX   \n",
       "2013-01-01      735 SW Military Dr          78221  San Antonio          TX   \n",
       "\n",
       "              month day_of_week  \n",
       "sale_date                        \n",
       "2013-01-01  January     Tuesday  \n",
       "2013-01-01  January     Tuesday  \n",
       "2013-01-01  January     Tuesday  \n",
       "2013-01-01  January     Tuesday  \n",
       "2013-01-01  January     Tuesday  "
      ]
     },
     "execution_count": 12,
     "metadata": {},
     "output_type": "execute_result"
    }
   ],
   "source": [
    "df = prep_tsa()\n",
    "df.head()"
   ]
  },
  {
   "cell_type": "code",
   "execution_count": 13,
   "id": "da57074f-2249-4028-be53-d56d70880890",
   "metadata": {},
   "outputs": [],
   "source": [
    "import acquire as a\n",
    "import prepare as p"
   ]
  },
  {
   "cell_type": "code",
   "execution_count": 14,
   "id": "0fe06267-843c-42d8-bcb8-6280d1fb12c7",
   "metadata": {},
   "outputs": [
    {
     "data": {
      "text/html": [
       "<div>\n",
       "<style scoped>\n",
       "    .dataframe tbody tr th:only-of-type {\n",
       "        vertical-align: middle;\n",
       "    }\n",
       "\n",
       "    .dataframe tbody tr th {\n",
       "        vertical-align: top;\n",
       "    }\n",
       "\n",
       "    .dataframe thead th {\n",
       "        text-align: right;\n",
       "    }\n",
       "</style>\n",
       "<table border=\"1\" class=\"dataframe\">\n",
       "  <thead>\n",
       "    <tr style=\"text-align: right;\">\n",
       "      <th></th>\n",
       "      <th>sale_date</th>\n",
       "      <th>sale_amount</th>\n",
       "      <th>item_brand</th>\n",
       "      <th>item_name</th>\n",
       "      <th>item_price</th>\n",
       "      <th>store_address</th>\n",
       "      <th>store_zipcode</th>\n",
       "      <th>store_city</th>\n",
       "      <th>store_state</th>\n",
       "    </tr>\n",
       "  </thead>\n",
       "  <tbody>\n",
       "    <tr>\n",
       "      <th>0</th>\n",
       "      <td>2013-01-01</td>\n",
       "      <td>13</td>\n",
       "      <td>Riceland</td>\n",
       "      <td>Riceland American Jazmine Rice</td>\n",
       "      <td>0.84</td>\n",
       "      <td>12125 Alamo Ranch Pkwy</td>\n",
       "      <td>78253</td>\n",
       "      <td>San Antonio</td>\n",
       "      <td>TX</td>\n",
       "    </tr>\n",
       "  </tbody>\n",
       "</table>\n",
       "</div>"
      ],
      "text/plain": [
       "    sale_date  sale_amount item_brand                       item_name  \\\n",
       "0  2013-01-01           13   Riceland  Riceland American Jazmine Rice   \n",
       "\n",
       "   item_price           store_address  store_zipcode   store_city store_state  \n",
       "0        0.84  12125 Alamo Ranch Pkwy          78253  San Antonio          TX  "
      ]
     },
     "execution_count": 14,
     "metadata": {},
     "output_type": "execute_result"
    }
   ],
   "source": [
    "df = a.get_tsa()\n",
    "df.head(1)"
   ]
  },
  {
   "cell_type": "code",
   "execution_count": 15,
   "id": "ef32fabb-15e4-4f1c-a50b-5095f9486618",
   "metadata": {},
   "outputs": [
    {
     "data": {
      "text/html": [
       "<div>\n",
       "<style scoped>\n",
       "    .dataframe tbody tr th:only-of-type {\n",
       "        vertical-align: middle;\n",
       "    }\n",
       "\n",
       "    .dataframe tbody tr th {\n",
       "        vertical-align: top;\n",
       "    }\n",
       "\n",
       "    .dataframe thead th {\n",
       "        text-align: right;\n",
       "    }\n",
       "</style>\n",
       "<table border=\"1\" class=\"dataframe\">\n",
       "  <thead>\n",
       "    <tr style=\"text-align: right;\">\n",
       "      <th></th>\n",
       "      <th>sale_amount</th>\n",
       "      <th>item_brand</th>\n",
       "      <th>item_name</th>\n",
       "      <th>item_price</th>\n",
       "      <th>store_address</th>\n",
       "      <th>store_zipcode</th>\n",
       "      <th>store_city</th>\n",
       "      <th>store_state</th>\n",
       "      <th>month</th>\n",
       "      <th>day_of_week</th>\n",
       "    </tr>\n",
       "    <tr>\n",
       "      <th>sale_date</th>\n",
       "      <th></th>\n",
       "      <th></th>\n",
       "      <th></th>\n",
       "      <th></th>\n",
       "      <th></th>\n",
       "      <th></th>\n",
       "      <th></th>\n",
       "      <th></th>\n",
       "      <th></th>\n",
       "      <th></th>\n",
       "    </tr>\n",
       "  </thead>\n",
       "  <tbody>\n",
       "    <tr>\n",
       "      <th>2013-01-01</th>\n",
       "      <td>13</td>\n",
       "      <td>Riceland</td>\n",
       "      <td>Riceland American Jazmine Rice</td>\n",
       "      <td>0.84</td>\n",
       "      <td>12125 Alamo Ranch Pkwy</td>\n",
       "      <td>78253</td>\n",
       "      <td>San Antonio</td>\n",
       "      <td>TX</td>\n",
       "      <td>January</td>\n",
       "      <td>Tuesday</td>\n",
       "    </tr>\n",
       "  </tbody>\n",
       "</table>\n",
       "</div>"
      ],
      "text/plain": [
       "            sale_amount item_brand                       item_name  \\\n",
       "sale_date                                                            \n",
       "2013-01-01           13   Riceland  Riceland American Jazmine Rice   \n",
       "\n",
       "            item_price           store_address  store_zipcode   store_city  \\\n",
       "sale_date                                                                    \n",
       "2013-01-01        0.84  12125 Alamo Ranch Pkwy          78253  San Antonio   \n",
       "\n",
       "           store_state    month day_of_week  \n",
       "sale_date                                    \n",
       "2013-01-01          TX  January     Tuesday  "
      ]
     },
     "execution_count": 15,
     "metadata": {},
     "output_type": "execute_result"
    }
   ],
   "source": [
    "df = p.prep_tsa()\n",
    "df.head(1)"
   ]
  },
  {
   "cell_type": "markdown",
   "id": "084d93c0-7dc0-40cf-b19d-e6992b5d49cc",
   "metadata": {},
   "source": [
    "> **acquire.py and prepare.py completed**"
   ]
  },
  {
   "cell_type": "markdown",
   "id": "62f360f3-7b52-4513-8a8c-8a0a06d50ef4",
   "metadata": {},
   "source": [
    "  "
   ]
  },
  {
   "cell_type": "markdown",
   "id": "7db80ca7-d767-4ffc-b886-15d99d03065e",
   "metadata": {},
   "source": [
    "  "
   ]
  },
  {
   "cell_type": "markdown",
   "id": "529f2b05-d6f5-466a-bcf9-6af37b3a35d9",
   "metadata": {},
   "source": [
    "  "
   ]
  },
  {
   "cell_type": "markdown",
   "id": "b9f9fc97-2f3f-4755-8093-50bc2a84ad08",
   "metadata": {},
   "source": [
    "  "
   ]
  },
  {
   "cell_type": "markdown",
   "id": "6303f18d-7629-41b6-8457-737a3349f644",
   "metadata": {},
   "source": [
    "  \n",
    "  "
   ]
  },
  {
   "cell_type": "markdown",
   "id": "c6a532cf-e0e4-4d91-bbaa-903977f5a89e",
   "metadata": {},
   "source": [
    "  "
   ]
  },
  {
   "cell_type": "code",
   "execution_count": 16,
   "id": "1fa12b07-86f7-4e8c-865f-39baa18f511e",
   "metadata": {},
   "outputs": [],
   "source": [
    "import urllib.request\n",
    "import requests"
   ]
  },
  {
   "cell_type": "markdown",
   "id": "36783a2f-86b7-4ab9-8bdf-44acdf2a473c",
   "metadata": {},
   "source": [
    "url: https://raw.githubusercontent.com/jenfly/opsd/master/opsd_germany_daily.csv"
   ]
  },
  {
   "cell_type": "code",
   "execution_count": 17,
   "id": "9995f803-ed92-440d-8918-2b34d1051fca",
   "metadata": {},
   "outputs": [],
   "source": [
    "# Tried to use not, an API url\n",
    "\n",
    "# url = 'https://raw.githubusercontent.com/jenfly/opsd/master/opsd_germany_daily.csv'\n",
    "# response = requests.get(url)\n",
    "# print(response.text)"
   ]
  },
  {
   "cell_type": "markdown",
   "id": "d268cb28-f0a9-43d2-9bf1-ca8c1d5fcb29",
   "metadata": {},
   "source": [
    "> Resource: https://docs.python.org/3/library/urllib.request.html  \n",
    ">  \n",
    "> **Note: The urllib.request module defines functions and classes which help in opening URLs (mostly HTTP) in a complex world — basic and digest authentication, redirections, cookies and more.**"
   ]
  },
  {
   "cell_type": "code",
   "execution_count": 18,
   "id": "3fa3e7e2-dce5-414f-a931-39259b0db820",
   "metadata": {},
   "outputs": [
    {
     "ename": "URLError",
     "evalue": "<urlopen error [WinError 10060] A connection attempt failed because the connected party did not properly respond after a period of time, or established connection failed because connected host has failed to respond>",
     "output_type": "error",
     "traceback": [
      "\u001b[1;31m---------------------------------------------------------------------------\u001b[0m",
      "\u001b[1;31mTimeoutError\u001b[0m                              Traceback (most recent call last)",
      "File \u001b[1;32mC:\\tools\\Anaconda3\\lib\\urllib\\request.py:1348\u001b[0m, in \u001b[0;36mAbstractHTTPHandler.do_open\u001b[1;34m(self, http_class, req, **http_conn_args)\u001b[0m\n\u001b[0;32m   1347\u001b[0m \u001b[38;5;28;01mtry\u001b[39;00m:\n\u001b[1;32m-> 1348\u001b[0m     \u001b[43mh\u001b[49m\u001b[38;5;241;43m.\u001b[39;49m\u001b[43mrequest\u001b[49m\u001b[43m(\u001b[49m\u001b[43mreq\u001b[49m\u001b[38;5;241;43m.\u001b[39;49m\u001b[43mget_method\u001b[49m\u001b[43m(\u001b[49m\u001b[43m)\u001b[49m\u001b[43m,\u001b[49m\u001b[43m \u001b[49m\u001b[43mreq\u001b[49m\u001b[38;5;241;43m.\u001b[39;49m\u001b[43mselector\u001b[49m\u001b[43m,\u001b[49m\u001b[43m \u001b[49m\u001b[43mreq\u001b[49m\u001b[38;5;241;43m.\u001b[39;49m\u001b[43mdata\u001b[49m\u001b[43m,\u001b[49m\u001b[43m \u001b[49m\u001b[43mheaders\u001b[49m\u001b[43m,\u001b[49m\n\u001b[0;32m   1349\u001b[0m \u001b[43m              \u001b[49m\u001b[43mencode_chunked\u001b[49m\u001b[38;5;241;43m=\u001b[39;49m\u001b[43mreq\u001b[49m\u001b[38;5;241;43m.\u001b[39;49m\u001b[43mhas_header\u001b[49m\u001b[43m(\u001b[49m\u001b[38;5;124;43m'\u001b[39;49m\u001b[38;5;124;43mTransfer-encoding\u001b[39;49m\u001b[38;5;124;43m'\u001b[39;49m\u001b[43m)\u001b[49m\u001b[43m)\u001b[49m\n\u001b[0;32m   1350\u001b[0m \u001b[38;5;28;01mexcept\u001b[39;00m \u001b[38;5;167;01mOSError\u001b[39;00m \u001b[38;5;28;01mas\u001b[39;00m err: \u001b[38;5;66;03m# timeout error\u001b[39;00m\n",
      "File \u001b[1;32mC:\\tools\\Anaconda3\\lib\\http\\client.py:1283\u001b[0m, in \u001b[0;36mHTTPConnection.request\u001b[1;34m(self, method, url, body, headers, encode_chunked)\u001b[0m\n\u001b[0;32m   1282\u001b[0m \u001b[38;5;250m\u001b[39m\u001b[38;5;124;03m\"\"\"Send a complete request to the server.\"\"\"\u001b[39;00m\n\u001b[1;32m-> 1283\u001b[0m \u001b[38;5;28;43mself\u001b[39;49m\u001b[38;5;241;43m.\u001b[39;49m\u001b[43m_send_request\u001b[49m\u001b[43m(\u001b[49m\u001b[43mmethod\u001b[49m\u001b[43m,\u001b[49m\u001b[43m \u001b[49m\u001b[43murl\u001b[49m\u001b[43m,\u001b[49m\u001b[43m \u001b[49m\u001b[43mbody\u001b[49m\u001b[43m,\u001b[49m\u001b[43m \u001b[49m\u001b[43mheaders\u001b[49m\u001b[43m,\u001b[49m\u001b[43m \u001b[49m\u001b[43mencode_chunked\u001b[49m\u001b[43m)\u001b[49m\n",
      "File \u001b[1;32mC:\\tools\\Anaconda3\\lib\\http\\client.py:1329\u001b[0m, in \u001b[0;36mHTTPConnection._send_request\u001b[1;34m(self, method, url, body, headers, encode_chunked)\u001b[0m\n\u001b[0;32m   1328\u001b[0m     body \u001b[38;5;241m=\u001b[39m _encode(body, \u001b[38;5;124m'\u001b[39m\u001b[38;5;124mbody\u001b[39m\u001b[38;5;124m'\u001b[39m)\n\u001b[1;32m-> 1329\u001b[0m \u001b[38;5;28;43mself\u001b[39;49m\u001b[38;5;241;43m.\u001b[39;49m\u001b[43mendheaders\u001b[49m\u001b[43m(\u001b[49m\u001b[43mbody\u001b[49m\u001b[43m,\u001b[49m\u001b[43m \u001b[49m\u001b[43mencode_chunked\u001b[49m\u001b[38;5;241;43m=\u001b[39;49m\u001b[43mencode_chunked\u001b[49m\u001b[43m)\u001b[49m\n",
      "File \u001b[1;32mC:\\tools\\Anaconda3\\lib\\http\\client.py:1278\u001b[0m, in \u001b[0;36mHTTPConnection.endheaders\u001b[1;34m(self, message_body, encode_chunked)\u001b[0m\n\u001b[0;32m   1277\u001b[0m     \u001b[38;5;28;01mraise\u001b[39;00m CannotSendHeader()\n\u001b[1;32m-> 1278\u001b[0m \u001b[38;5;28;43mself\u001b[39;49m\u001b[38;5;241;43m.\u001b[39;49m\u001b[43m_send_output\u001b[49m\u001b[43m(\u001b[49m\u001b[43mmessage_body\u001b[49m\u001b[43m,\u001b[49m\u001b[43m \u001b[49m\u001b[43mencode_chunked\u001b[49m\u001b[38;5;241;43m=\u001b[39;49m\u001b[43mencode_chunked\u001b[49m\u001b[43m)\u001b[49m\n",
      "File \u001b[1;32mC:\\tools\\Anaconda3\\lib\\http\\client.py:1038\u001b[0m, in \u001b[0;36mHTTPConnection._send_output\u001b[1;34m(self, message_body, encode_chunked)\u001b[0m\n\u001b[0;32m   1037\u001b[0m \u001b[38;5;28;01mdel\u001b[39;00m \u001b[38;5;28mself\u001b[39m\u001b[38;5;241m.\u001b[39m_buffer[:]\n\u001b[1;32m-> 1038\u001b[0m \u001b[38;5;28;43mself\u001b[39;49m\u001b[38;5;241;43m.\u001b[39;49m\u001b[43msend\u001b[49m\u001b[43m(\u001b[49m\u001b[43mmsg\u001b[49m\u001b[43m)\u001b[49m\n\u001b[0;32m   1040\u001b[0m \u001b[38;5;28;01mif\u001b[39;00m message_body \u001b[38;5;129;01mis\u001b[39;00m \u001b[38;5;129;01mnot\u001b[39;00m \u001b[38;5;28;01mNone\u001b[39;00m:\n\u001b[0;32m   1041\u001b[0m \n\u001b[0;32m   1042\u001b[0m     \u001b[38;5;66;03m# create a consistent interface to message_body\u001b[39;00m\n",
      "File \u001b[1;32mC:\\tools\\Anaconda3\\lib\\http\\client.py:976\u001b[0m, in \u001b[0;36mHTTPConnection.send\u001b[1;34m(self, data)\u001b[0m\n\u001b[0;32m    975\u001b[0m \u001b[38;5;28;01mif\u001b[39;00m \u001b[38;5;28mself\u001b[39m\u001b[38;5;241m.\u001b[39mauto_open:\n\u001b[1;32m--> 976\u001b[0m     \u001b[38;5;28;43mself\u001b[39;49m\u001b[38;5;241;43m.\u001b[39;49m\u001b[43mconnect\u001b[49m\u001b[43m(\u001b[49m\u001b[43m)\u001b[49m\n\u001b[0;32m    977\u001b[0m \u001b[38;5;28;01melse\u001b[39;00m:\n",
      "File \u001b[1;32mC:\\tools\\Anaconda3\\lib\\http\\client.py:1448\u001b[0m, in \u001b[0;36mHTTPSConnection.connect\u001b[1;34m(self)\u001b[0m\n\u001b[0;32m   1446\u001b[0m \u001b[38;5;124m\"\u001b[39m\u001b[38;5;124mConnect to a host on a given (SSL) port.\u001b[39m\u001b[38;5;124m\"\u001b[39m\n\u001b[1;32m-> 1448\u001b[0m \u001b[38;5;28;43msuper\u001b[39;49m\u001b[43m(\u001b[49m\u001b[43m)\u001b[49m\u001b[38;5;241;43m.\u001b[39;49m\u001b[43mconnect\u001b[49m\u001b[43m(\u001b[49m\u001b[43m)\u001b[49m\n\u001b[0;32m   1450\u001b[0m \u001b[38;5;28;01mif\u001b[39;00m \u001b[38;5;28mself\u001b[39m\u001b[38;5;241m.\u001b[39m_tunnel_host:\n",
      "File \u001b[1;32mC:\\tools\\Anaconda3\\lib\\http\\client.py:942\u001b[0m, in \u001b[0;36mHTTPConnection.connect\u001b[1;34m(self)\u001b[0m\n\u001b[0;32m    941\u001b[0m sys\u001b[38;5;241m.\u001b[39maudit(\u001b[38;5;124m\"\u001b[39m\u001b[38;5;124mhttp.client.connect\u001b[39m\u001b[38;5;124m\"\u001b[39m, \u001b[38;5;28mself\u001b[39m, \u001b[38;5;28mself\u001b[39m\u001b[38;5;241m.\u001b[39mhost, \u001b[38;5;28mself\u001b[39m\u001b[38;5;241m.\u001b[39mport)\n\u001b[1;32m--> 942\u001b[0m \u001b[38;5;28mself\u001b[39m\u001b[38;5;241m.\u001b[39msock \u001b[38;5;241m=\u001b[39m \u001b[38;5;28;43mself\u001b[39;49m\u001b[38;5;241;43m.\u001b[39;49m\u001b[43m_create_connection\u001b[49m\u001b[43m(\u001b[49m\n\u001b[0;32m    943\u001b[0m \u001b[43m    \u001b[49m\u001b[43m(\u001b[49m\u001b[38;5;28;43mself\u001b[39;49m\u001b[38;5;241;43m.\u001b[39;49m\u001b[43mhost\u001b[49m\u001b[43m,\u001b[49m\u001b[38;5;28;43mself\u001b[39;49m\u001b[38;5;241;43m.\u001b[39;49m\u001b[43mport\u001b[49m\u001b[43m)\u001b[49m\u001b[43m,\u001b[49m\u001b[43m \u001b[49m\u001b[38;5;28;43mself\u001b[39;49m\u001b[38;5;241;43m.\u001b[39;49m\u001b[43mtimeout\u001b[49m\u001b[43m,\u001b[49m\u001b[43m \u001b[49m\u001b[38;5;28;43mself\u001b[39;49m\u001b[38;5;241;43m.\u001b[39;49m\u001b[43msource_address\u001b[49m\u001b[43m)\u001b[49m\n\u001b[0;32m    944\u001b[0m \u001b[38;5;66;03m# Might fail in OSs that don't implement TCP_NODELAY\u001b[39;00m\n",
      "File \u001b[1;32mC:\\tools\\Anaconda3\\lib\\socket.py:845\u001b[0m, in \u001b[0;36mcreate_connection\u001b[1;34m(address, timeout, source_address)\u001b[0m\n\u001b[0;32m    844\u001b[0m \u001b[38;5;28;01mtry\u001b[39;00m:\n\u001b[1;32m--> 845\u001b[0m     \u001b[38;5;28;01mraise\u001b[39;00m err\n\u001b[0;32m    846\u001b[0m \u001b[38;5;28;01mfinally\u001b[39;00m:\n\u001b[0;32m    847\u001b[0m     \u001b[38;5;66;03m# Break explicitly a reference cycle\u001b[39;00m\n",
      "File \u001b[1;32mC:\\tools\\Anaconda3\\lib\\socket.py:833\u001b[0m, in \u001b[0;36mcreate_connection\u001b[1;34m(address, timeout, source_address)\u001b[0m\n\u001b[0;32m    832\u001b[0m     sock\u001b[38;5;241m.\u001b[39mbind(source_address)\n\u001b[1;32m--> 833\u001b[0m \u001b[43msock\u001b[49m\u001b[38;5;241;43m.\u001b[39;49m\u001b[43mconnect\u001b[49m\u001b[43m(\u001b[49m\u001b[43msa\u001b[49m\u001b[43m)\u001b[49m\n\u001b[0;32m    834\u001b[0m \u001b[38;5;66;03m# Break explicitly a reference cycle\u001b[39;00m\n",
      "\u001b[1;31mTimeoutError\u001b[0m: [WinError 10060] A connection attempt failed because the connected party did not properly respond after a period of time, or established connection failed because connected host has failed to respond",
      "\nDuring handling of the above exception, another exception occurred:\n",
      "\u001b[1;31mURLError\u001b[0m                                  Traceback (most recent call last)",
      "Cell \u001b[1;32mIn[18], line 2\u001b[0m\n\u001b[0;32m      1\u001b[0m url \u001b[38;5;241m=\u001b[39m \u001b[38;5;124m'\u001b[39m\u001b[38;5;124mhttps://raw.githubusercontent.com/jenfly/opsd/master/opsd_germany_daily.csv\u001b[39m\u001b[38;5;124m'\u001b[39m\n\u001b[1;32m----> 2\u001b[0m \u001b[43murllib\u001b[49m\u001b[38;5;241;43m.\u001b[39;49m\u001b[43mrequest\u001b[49m\u001b[38;5;241;43m.\u001b[39;49m\u001b[43murlretrieve\u001b[49m\u001b[43m(\u001b[49m\u001b[43murl\u001b[49m\u001b[43m,\u001b[49m\u001b[43m \u001b[49m\u001b[38;5;124;43m'\u001b[39;49m\u001b[38;5;124;43mopsd_germany_daily.csv\u001b[39;49m\u001b[38;5;124;43m'\u001b[39;49m\u001b[43m)\u001b[49m\n",
      "File \u001b[1;32mC:\\tools\\Anaconda3\\lib\\urllib\\request.py:241\u001b[0m, in \u001b[0;36murlretrieve\u001b[1;34m(url, filename, reporthook, data)\u001b[0m\n\u001b[0;32m    224\u001b[0m \u001b[38;5;250m\u001b[39m\u001b[38;5;124;03m\"\"\"\u001b[39;00m\n\u001b[0;32m    225\u001b[0m \u001b[38;5;124;03mRetrieve a URL into a temporary location on disk.\u001b[39;00m\n\u001b[0;32m    226\u001b[0m \n\u001b[1;32m   (...)\u001b[0m\n\u001b[0;32m    237\u001b[0m \u001b[38;5;124;03mdata file as well as the resulting HTTPMessage object.\u001b[39;00m\n\u001b[0;32m    238\u001b[0m \u001b[38;5;124;03m\"\"\"\u001b[39;00m\n\u001b[0;32m    239\u001b[0m url_type, path \u001b[38;5;241m=\u001b[39m _splittype(url)\n\u001b[1;32m--> 241\u001b[0m \u001b[38;5;28;01mwith\u001b[39;00m contextlib\u001b[38;5;241m.\u001b[39mclosing(\u001b[43murlopen\u001b[49m\u001b[43m(\u001b[49m\u001b[43murl\u001b[49m\u001b[43m,\u001b[49m\u001b[43m \u001b[49m\u001b[43mdata\u001b[49m\u001b[43m)\u001b[49m) \u001b[38;5;28;01mas\u001b[39;00m fp:\n\u001b[0;32m    242\u001b[0m     headers \u001b[38;5;241m=\u001b[39m fp\u001b[38;5;241m.\u001b[39minfo()\n\u001b[0;32m    244\u001b[0m     \u001b[38;5;66;03m# Just return the local path and the \"headers\" for file://\u001b[39;00m\n\u001b[0;32m    245\u001b[0m     \u001b[38;5;66;03m# URLs. No sense in performing a copy unless requested.\u001b[39;00m\n",
      "File \u001b[1;32mC:\\tools\\Anaconda3\\lib\\urllib\\request.py:216\u001b[0m, in \u001b[0;36murlopen\u001b[1;34m(url, data, timeout, cafile, capath, cadefault, context)\u001b[0m\n\u001b[0;32m    214\u001b[0m \u001b[38;5;28;01melse\u001b[39;00m:\n\u001b[0;32m    215\u001b[0m     opener \u001b[38;5;241m=\u001b[39m _opener\n\u001b[1;32m--> 216\u001b[0m \u001b[38;5;28;01mreturn\u001b[39;00m \u001b[43mopener\u001b[49m\u001b[38;5;241;43m.\u001b[39;49m\u001b[43mopen\u001b[49m\u001b[43m(\u001b[49m\u001b[43murl\u001b[49m\u001b[43m,\u001b[49m\u001b[43m \u001b[49m\u001b[43mdata\u001b[49m\u001b[43m,\u001b[49m\u001b[43m \u001b[49m\u001b[43mtimeout\u001b[49m\u001b[43m)\u001b[49m\n",
      "File \u001b[1;32mC:\\tools\\Anaconda3\\lib\\urllib\\request.py:519\u001b[0m, in \u001b[0;36mOpenerDirector.open\u001b[1;34m(self, fullurl, data, timeout)\u001b[0m\n\u001b[0;32m    516\u001b[0m     req \u001b[38;5;241m=\u001b[39m meth(req)\n\u001b[0;32m    518\u001b[0m sys\u001b[38;5;241m.\u001b[39maudit(\u001b[38;5;124m'\u001b[39m\u001b[38;5;124murllib.Request\u001b[39m\u001b[38;5;124m'\u001b[39m, req\u001b[38;5;241m.\u001b[39mfull_url, req\u001b[38;5;241m.\u001b[39mdata, req\u001b[38;5;241m.\u001b[39mheaders, req\u001b[38;5;241m.\u001b[39mget_method())\n\u001b[1;32m--> 519\u001b[0m response \u001b[38;5;241m=\u001b[39m \u001b[38;5;28;43mself\u001b[39;49m\u001b[38;5;241;43m.\u001b[39;49m\u001b[43m_open\u001b[49m\u001b[43m(\u001b[49m\u001b[43mreq\u001b[49m\u001b[43m,\u001b[49m\u001b[43m \u001b[49m\u001b[43mdata\u001b[49m\u001b[43m)\u001b[49m\n\u001b[0;32m    521\u001b[0m \u001b[38;5;66;03m# post-process response\u001b[39;00m\n\u001b[0;32m    522\u001b[0m meth_name \u001b[38;5;241m=\u001b[39m protocol\u001b[38;5;241m+\u001b[39m\u001b[38;5;124m\"\u001b[39m\u001b[38;5;124m_response\u001b[39m\u001b[38;5;124m\"\u001b[39m\n",
      "File \u001b[1;32mC:\\tools\\Anaconda3\\lib\\urllib\\request.py:536\u001b[0m, in \u001b[0;36mOpenerDirector._open\u001b[1;34m(self, req, data)\u001b[0m\n\u001b[0;32m    533\u001b[0m     \u001b[38;5;28;01mreturn\u001b[39;00m result\n\u001b[0;32m    535\u001b[0m protocol \u001b[38;5;241m=\u001b[39m req\u001b[38;5;241m.\u001b[39mtype\n\u001b[1;32m--> 536\u001b[0m result \u001b[38;5;241m=\u001b[39m \u001b[38;5;28;43mself\u001b[39;49m\u001b[38;5;241;43m.\u001b[39;49m\u001b[43m_call_chain\u001b[49m\u001b[43m(\u001b[49m\u001b[38;5;28;43mself\u001b[39;49m\u001b[38;5;241;43m.\u001b[39;49m\u001b[43mhandle_open\u001b[49m\u001b[43m,\u001b[49m\u001b[43m \u001b[49m\u001b[43mprotocol\u001b[49m\u001b[43m,\u001b[49m\u001b[43m \u001b[49m\u001b[43mprotocol\u001b[49m\u001b[43m \u001b[49m\u001b[38;5;241;43m+\u001b[39;49m\n\u001b[0;32m    537\u001b[0m \u001b[43m                          \u001b[49m\u001b[38;5;124;43m'\u001b[39;49m\u001b[38;5;124;43m_open\u001b[39;49m\u001b[38;5;124;43m'\u001b[39;49m\u001b[43m,\u001b[49m\u001b[43m \u001b[49m\u001b[43mreq\u001b[49m\u001b[43m)\u001b[49m\n\u001b[0;32m    538\u001b[0m \u001b[38;5;28;01mif\u001b[39;00m result:\n\u001b[0;32m    539\u001b[0m     \u001b[38;5;28;01mreturn\u001b[39;00m result\n",
      "File \u001b[1;32mC:\\tools\\Anaconda3\\lib\\urllib\\request.py:496\u001b[0m, in \u001b[0;36mOpenerDirector._call_chain\u001b[1;34m(self, chain, kind, meth_name, *args)\u001b[0m\n\u001b[0;32m    494\u001b[0m \u001b[38;5;28;01mfor\u001b[39;00m handler \u001b[38;5;129;01min\u001b[39;00m handlers:\n\u001b[0;32m    495\u001b[0m     func \u001b[38;5;241m=\u001b[39m \u001b[38;5;28mgetattr\u001b[39m(handler, meth_name)\n\u001b[1;32m--> 496\u001b[0m     result \u001b[38;5;241m=\u001b[39m \u001b[43mfunc\u001b[49m\u001b[43m(\u001b[49m\u001b[38;5;241;43m*\u001b[39;49m\u001b[43margs\u001b[49m\u001b[43m)\u001b[49m\n\u001b[0;32m    497\u001b[0m     \u001b[38;5;28;01mif\u001b[39;00m result \u001b[38;5;129;01mis\u001b[39;00m \u001b[38;5;129;01mnot\u001b[39;00m \u001b[38;5;28;01mNone\u001b[39;00m:\n\u001b[0;32m    498\u001b[0m         \u001b[38;5;28;01mreturn\u001b[39;00m result\n",
      "File \u001b[1;32mC:\\tools\\Anaconda3\\lib\\urllib\\request.py:1391\u001b[0m, in \u001b[0;36mHTTPSHandler.https_open\u001b[1;34m(self, req)\u001b[0m\n\u001b[0;32m   1390\u001b[0m \u001b[38;5;28;01mdef\u001b[39;00m \u001b[38;5;21mhttps_open\u001b[39m(\u001b[38;5;28mself\u001b[39m, req):\n\u001b[1;32m-> 1391\u001b[0m     \u001b[38;5;28;01mreturn\u001b[39;00m \u001b[38;5;28;43mself\u001b[39;49m\u001b[38;5;241;43m.\u001b[39;49m\u001b[43mdo_open\u001b[49m\u001b[43m(\u001b[49m\u001b[43mhttp\u001b[49m\u001b[38;5;241;43m.\u001b[39;49m\u001b[43mclient\u001b[49m\u001b[38;5;241;43m.\u001b[39;49m\u001b[43mHTTPSConnection\u001b[49m\u001b[43m,\u001b[49m\u001b[43m \u001b[49m\u001b[43mreq\u001b[49m\u001b[43m,\u001b[49m\n\u001b[0;32m   1392\u001b[0m \u001b[43m        \u001b[49m\u001b[43mcontext\u001b[49m\u001b[38;5;241;43m=\u001b[39;49m\u001b[38;5;28;43mself\u001b[39;49m\u001b[38;5;241;43m.\u001b[39;49m\u001b[43m_context\u001b[49m\u001b[43m,\u001b[49m\u001b[43m \u001b[49m\u001b[43mcheck_hostname\u001b[49m\u001b[38;5;241;43m=\u001b[39;49m\u001b[38;5;28;43mself\u001b[39;49m\u001b[38;5;241;43m.\u001b[39;49m\u001b[43m_check_hostname\u001b[49m\u001b[43m)\u001b[49m\n",
      "File \u001b[1;32mC:\\tools\\Anaconda3\\lib\\urllib\\request.py:1351\u001b[0m, in \u001b[0;36mAbstractHTTPHandler.do_open\u001b[1;34m(self, http_class, req, **http_conn_args)\u001b[0m\n\u001b[0;32m   1348\u001b[0m         h\u001b[38;5;241m.\u001b[39mrequest(req\u001b[38;5;241m.\u001b[39mget_method(), req\u001b[38;5;241m.\u001b[39mselector, req\u001b[38;5;241m.\u001b[39mdata, headers,\n\u001b[0;32m   1349\u001b[0m                   encode_chunked\u001b[38;5;241m=\u001b[39mreq\u001b[38;5;241m.\u001b[39mhas_header(\u001b[38;5;124m'\u001b[39m\u001b[38;5;124mTransfer-encoding\u001b[39m\u001b[38;5;124m'\u001b[39m))\n\u001b[0;32m   1350\u001b[0m     \u001b[38;5;28;01mexcept\u001b[39;00m \u001b[38;5;167;01mOSError\u001b[39;00m \u001b[38;5;28;01mas\u001b[39;00m err: \u001b[38;5;66;03m# timeout error\u001b[39;00m\n\u001b[1;32m-> 1351\u001b[0m         \u001b[38;5;28;01mraise\u001b[39;00m URLError(err)\n\u001b[0;32m   1352\u001b[0m     r \u001b[38;5;241m=\u001b[39m h\u001b[38;5;241m.\u001b[39mgetresponse()\n\u001b[0;32m   1353\u001b[0m \u001b[38;5;28;01mexcept\u001b[39;00m:\n",
      "\u001b[1;31mURLError\u001b[0m: <urlopen error [WinError 10060] A connection attempt failed because the connected party did not properly respond after a period of time, or established connection failed because connected host has failed to respond>"
     ]
    }
   ],
   "source": [
    "url = 'https://raw.githubusercontent.com/jenfly/opsd/master/opsd_germany_daily.csv'\n",
    "urllib.request.urlretrieve(url, 'opsd_germany_daily.csv')"
   ]
  },
  {
   "cell_type": "code",
   "execution_count": null,
   "id": "d7f59586-9bc4-42c2-9e86-ad3bb9d9d6b0",
   "metadata": {},
   "outputs": [],
   "source": [
    "df = pd.read_csv('opsd_germany_daily.csv')"
   ]
  },
  {
   "cell_type": "code",
   "execution_count": null,
   "id": "33c2d768-b095-4325-b795-3aaaba8bfc99",
   "metadata": {},
   "outputs": [],
   "source": [
    "df.head()"
   ]
  },
  {
   "cell_type": "code",
   "execution_count": null,
   "id": "d0b1040c-dcaf-4285-8ff7-cc85b8821e83",
   "metadata": {},
   "outputs": [],
   "source": [
    "def opsd_data():\n",
    "    url = 'https://raw.githubusercontent.com/jenfly/opsd/master/opsd_germany_daily.csv'\n",
    "    urllib.request.urlretrieve(url, 'opsd_germany_daily.csv')\n",
    "    df = pd.read_csv('opsd_germany_daily.csv')\n",
    "\n",
    "    return df"
   ]
  },
  {
   "cell_type": "code",
   "execution_count": null,
   "id": "04464a32-afec-4ecd-be84-9744f68c7e38",
   "metadata": {},
   "outputs": [],
   "source": [
    "df = opsd_data()"
   ]
  },
  {
   "cell_type": "code",
   "execution_count": null,
   "id": "ba38d61a-5fdd-4da5-bb5c-01f4a3973ec5",
   "metadata": {},
   "outputs": [],
   "source": [
    "# noticed date is listed as object\n",
    "df.info()"
   ]
  },
  {
   "cell_type": "markdown",
   "id": "080ee819-e3b9-49b3-88cc-38480ddc563b",
   "metadata": {},
   "source": [
    "* **Using the OPS data acquired in the Acquire exercises opsd_germany_daily.csv, complete the following:**"
   ]
  },
  {
   "cell_type": "markdown",
   "id": "372205f1-ef98-4d9a-8b7b-ed15f5c8a3a6",
   "metadata": {},
   "source": [
    "## 1. Convert date column to datetime format."
   ]
  },
  {
   "cell_type": "code",
   "execution_count": null,
   "id": "18e73e56-e697-44dd-9860-0cac0f4c7927",
   "metadata": {},
   "outputs": [],
   "source": [
    "# cleaned up columns names prior to conversion\n",
    "df.columns = [col.lower().replace('+', '_') for col in df.columns]\n",
    "df.head()"
   ]
  },
  {
   "cell_type": "code",
   "execution_count": null,
   "id": "027bebf0-c018-4074-b3b9-224f315a7ffa",
   "metadata": {},
   "outputs": [],
   "source": [
    "# convert datetime\n",
    "df.date = pd.to_datetime(df.date)\n",
    "df.head()"
   ]
  },
  {
   "cell_type": "code",
   "execution_count": null,
   "id": "6866536f-0c34-456d-b1cc-2d0758898af6",
   "metadata": {},
   "outputs": [],
   "source": [
    "# confirmed change\n",
    "df.info()"
   ]
  },
  {
   "cell_type": "markdown",
   "id": "52fc110b-3567-4a73-8c9e-a5448b5dfe81",
   "metadata": {},
   "source": [
    "## 2. Plot the distribution of each of your variables."
   ]
  },
  {
   "cell_type": "code",
   "execution_count": null,
   "id": "2cd4f288-3fc4-48b2-bdb2-ad1a492deda5",
   "metadata": {},
   "outputs": [],
   "source": [
    "for column in df.columns:\n",
    "    plt.hist(df[column], bins=100)\n",
    "    plt.title(f'Data Distribution for {column}')\n",
    "    plt.xlabel(column)\n",
    "    plt.ylabel('Count')\n",
    "    plt.tight_layout()\n",
    "    plt.show()"
   ]
  },
  {
   "cell_type": "markdown",
   "id": "64ae1968-cf85-4e71-8cbd-dc42072a4fc3",
   "metadata": {},
   "source": [
    "## 3. Set the index to be the datetime variable."
   ]
  },
  {
   "cell_type": "code",
   "execution_count": null,
   "id": "9ccc75cd-5160-474d-89b7-bd3d96e26ff5",
   "metadata": {},
   "outputs": [],
   "source": [
    "df = df.set_index('date')\n",
    "df = df.sort_values('date')\n",
    "df.head()"
   ]
  },
  {
   "cell_type": "markdown",
   "id": "c99a83b7-eb5f-47b2-b91e-2c4f5be29ada",
   "metadata": {},
   "source": [
    "## 4. Add a month and a year column to your dataframe."
   ]
  },
  {
   "cell_type": "code",
   "execution_count": null,
   "id": "99dcd2d4-5354-4468-abfb-29f24d2d3d38",
   "metadata": {},
   "outputs": [],
   "source": [
    "df['month'] = df.index.strftime('%B')\n",
    "df.head()"
   ]
  },
  {
   "cell_type": "code",
   "execution_count": null,
   "id": "681bb888-e94b-4eaa-b5e2-a3b251c238ba",
   "metadata": {},
   "outputs": [],
   "source": [
    "df.index.year.value_counts()"
   ]
  },
  {
   "cell_type": "markdown",
   "id": "1f5f51c1-2e89-4f6f-8316-8db71a2a4ea3",
   "metadata": {},
   "source": [
    "> Resource: https://pandas.pydata.org/docs/reference/api/pandas.DatetimeIndex.html  \n",
    ">  \n",
    "> **Note: Represented internally as int64, and which can be boxed to Timestamp objects that are subclasses of datetime and carry metadata.**"
   ]
  },
  {
   "cell_type": "code",
   "execution_count": null,
   "id": "971cdee1-a38d-4c06-8625-2f513fa47daf",
   "metadata": {},
   "outputs": [],
   "source": [
    "# df['year'] = pd.DatetimeIndex(df.index).year\n",
    "# df.head()"
   ]
  },
  {
   "cell_type": "code",
   "execution_count": null,
   "id": "cba2b32f-40e2-49a3-86a9-3ef98b16d424",
   "metadata": {},
   "outputs": [],
   "source": [
    "df['year'] = df.index.year\n",
    "df.head()"
   ]
  },
  {
   "cell_type": "code",
   "execution_count": null,
   "id": "0e2a1c8a-78cd-4eed-b76e-7f87ab8e9716",
   "metadata": {},
   "outputs": [],
   "source": [
    "df.info()"
   ]
  },
  {
   "cell_type": "code",
   "execution_count": null,
   "id": "3b805da3-db41-4e4d-886d-588d4971b972",
   "metadata": {},
   "outputs": [],
   "source": [
    "#confirmed the column had all values; previously was only returning 2007\n",
    "df.year.value_counts()"
   ]
  },
  {
   "cell_type": "markdown",
   "id": "84a249d0-13ef-43e9-8415-c8e0086b71e5",
   "metadata": {},
   "source": [
    "## 5. Fill any missing values."
   ]
  },
  {
   "cell_type": "code",
   "execution_count": null,
   "id": "87457aa7-8e40-4ea1-9e8f-e61dd8bd9888",
   "metadata": {},
   "outputs": [],
   "source": [
    "# three columns have missing values\n",
    "df.isna().sum()"
   ]
  },
  {
   "cell_type": "code",
   "execution_count": null,
   "id": "6615c10a-5d84-4eaa-be23-57e0ac52538e",
   "metadata": {},
   "outputs": [],
   "source": [
    "df.wind.isna().value_counts(),"
   ]
  },
  {
   "cell_type": "code",
   "execution_count": null,
   "id": "659f6bf7-2004-4e36-aa78-c970d95aa3b6",
   "metadata": {},
   "outputs": [],
   "source": [
    "df.solar.isna().value_counts(),"
   ]
  },
  {
   "cell_type": "code",
   "execution_count": null,
   "id": "4c0931c3-6052-4cc0-bb1c-e4c9fce9d4e8",
   "metadata": {},
   "outputs": [],
   "source": [
    "df.wind_solar.isna().value_counts()"
   ]
  },
  {
   "cell_type": "code",
   "execution_count": null,
   "id": "a356e21d-2223-4d42-bc7f-53546378e53f",
   "metadata": {},
   "outputs": [],
   "source": [
    "df.mean()"
   ]
  },
  {
   "cell_type": "code",
   "execution_count": null,
   "id": "2da95fa7-b330-46d4-8f22-60fe6b106f20",
   "metadata": {},
   "outputs": [],
   "source": [
    "# filled respective column with nan values with mean\n",
    "df = df.fillna(mean_values)"
   ]
  },
  {
   "cell_type": "code",
   "execution_count": null,
   "id": "2c279277-2dbd-4b49-9529-f05854c0609d",
   "metadata": {},
   "outputs": [],
   "source": [
    "df.head()"
   ]
  },
  {
   "cell_type": "code",
   "execution_count": null,
   "id": "89400797-4608-49f0-baf8-4fcde78c7de3",
   "metadata": {},
   "outputs": [],
   "source": [
    "# checked to see if all nan values were filled\n",
    "df.isna().sum()"
   ]
  },
  {
   "cell_type": "markdown",
   "id": "a40f3445-fc0f-423f-a59f-83e21f9e57db",
   "metadata": {},
   "source": [
    "## 6. Make sure all the work that you have done above is reproducible. That is, you should put the code above into separate functions and be able to re-run the functions and get the same results."
   ]
  },
  {
   "cell_type": "code",
   "execution_count": null,
   "id": "5e4702d8-f15c-4332-a7ca-18f73bc5af38",
   "metadata": {},
   "outputs": [],
   "source": [
    "def prep_opsd():\n",
    "    df = opsd_data()\n",
    "    df.columns = [col.lower().replace('+', '_') for col in df.columns]\n",
    "    df.date = pd.to_datetime(df.date)\n",
    "    df = df.set_index('date')\n",
    "    df = df.sort_values('date')\n",
    "    df['month'] = df.index.strftime('%B')\n",
    "    df['year'] = df.index.year\n",
    "    mean_values = df.mean()\n",
    "    df = df.fillna(mean_values)\n",
    "\n",
    "    return df\n",
    "\n",
    "df = prep_opsd()"
   ]
  },
  {
   "cell_type": "code",
   "execution_count": null,
   "id": "ef9ec3a1-c4ea-433b-ac02-3e68100ccefd",
   "metadata": {},
   "outputs": [],
   "source": [
    "df.info()"
   ]
  },
  {
   "cell_type": "code",
   "execution_count": null,
   "id": "15b4c6c6-9914-4500-8707-fe5f6ba4aad6",
   "metadata": {
    "scrolled": true
   },
   "outputs": [],
   "source": [
    "df.head()"
   ]
  },
  {
   "cell_type": "code",
   "execution_count": null,
   "id": "836c03c3-02b0-4f45-aa69-e8a23ab647dd",
   "metadata": {},
   "outputs": [],
   "source": [
    "df = a.opsd_data()\n",
    "df.head(1)"
   ]
  },
  {
   "cell_type": "code",
   "execution_count": null,
   "id": "3b685368-d927-4098-bfb0-5ff508d8070e",
   "metadata": {},
   "outputs": [],
   "source": [
    "df = p.prep_opsd()\n",
    "df.head(1)"
   ]
  }
 ],
 "metadata": {
  "kernelspec": {
   "display_name": "Python 3 (ipykernel)",
   "language": "python",
   "name": "python3"
  },
  "language_info": {
   "codemirror_mode": {
    "name": "ipython",
    "version": 3
   },
   "file_extension": ".py",
   "mimetype": "text/x-python",
   "name": "python",
   "nbconvert_exporter": "python",
   "pygments_lexer": "ipython3",
   "version": "3.10.12"
  }
 },
 "nbformat": 4,
 "nbformat_minor": 5
}
