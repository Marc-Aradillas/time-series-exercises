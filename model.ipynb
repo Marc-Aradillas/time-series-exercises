{
 "cells": [
  {
   "cell_type": "code",
   "execution_count": 1,
   "id": "e69831f0-7c60-45ae-8fd3-94c07b192e8d",
   "metadata": {},
   "outputs": [],
   "source": [
    "# imports\n",
    "import warnings\n",
    "warnings.filterwarnings(\"ignore\")\n",
    "\n",
    "import os\n",
    "\n",
    "# transform\n",
    "import numpy as np\n",
    "import pandas as pd\n",
    "from datetime import datetime\n",
    "\n",
    "# visualize \n",
    "import matplotlib.pyplot as plt\n",
    "import seaborn as sns\n",
    "\n",
    "# working with dates\n",
    "from datetime import datetime\n",
    "\n",
    "# modeling\n",
    "import statsmodels.api as sm\n",
    "from statsmodels.tsa.api import Holt, ExponentialSmoothing\n",
    "\n",
    "# evaluate\n",
    "from sklearn.metrics import mean_squared_error\n",
    "from math import sqrt\n",
    "\n",
    "# cross validation split\n",
    "from sklearn.model_selection import StratifiedKFold, TimeSeriesSplit\n",
    "\n",
    "# modeling\n",
    "from statsmodels.tsa.api import Holt, ExponentialSmoothing\n",
    "from sklearn.preprocessing import MinMaxScaler"
   ]
  },
  {
   "cell_type": "markdown",
   "id": "c87ddd28-1375-4c1f-a16b-5af6b7d0ca09",
   "metadata": {},
   "source": [
    "# Exercises"
   ]
  },
  {
   "cell_type": "markdown",
   "id": "b2f980a4-7aaf-407e-8c19-0f5e06fd7a3a",
   "metadata": {},
   "source": [
    "> ## **Using saas.csv or log data from API usage**"
   ]
  },
  {
   "cell_type": "code",
   "execution_count": 2,
   "id": "cf920b15-6781-4a08-b4e7-8420ad509bbc",
   "metadata": {},
   "outputs": [],
   "source": [
    "def get_saas_data():\n",
    "    '''\n",
    "    Checks for a local cache of tsa_store_data.csv and if not present will run the get_store_data() function which acquires data from Codeup's mysql server\n",
    "    '''\n",
    "    filename = 'saas.csv'\n",
    "    if os.path.isfile(filename):\n",
    "        df = pd.read_csv(filename)\n",
    "    else:\n",
    "        print(f'Search for it, I am not going to....')\n",
    "    return df"
   ]
  },
  {
   "cell_type": "code",
   "execution_count": 3,
   "id": "7a2c2b08-d9b0-41f1-a73f-31ead7835d15",
   "metadata": {},
   "outputs": [],
   "source": [
    "df = get_saas_data()"
   ]
  },
  {
   "cell_type": "code",
   "execution_count": 4,
   "id": "7d2ad5ea-08a7-4ba9-9c0b-578f411c1370",
   "metadata": {},
   "outputs": [
    {
     "name": "stdout",
     "output_type": "stream",
     "text": [
      "<class 'pandas.core.frame.DataFrame'>\n",
      "RangeIndex: 790458 entries, 0 to 790457\n",
      "Data columns (total 5 columns):\n",
      " #   Column             Non-Null Count   Dtype  \n",
      "---  ------             --------------   -----  \n",
      " 0   Month_Invoiced     790458 non-null  object \n",
      " 1   Customer_Id        790458 non-null  int64  \n",
      " 2   Invoice_Id         790458 non-null  int64  \n",
      " 3   Subscription_Type  790458 non-null  float64\n",
      " 4   Amount             790458 non-null  float64\n",
      "dtypes: float64(2), int64(2), object(1)\n",
      "memory usage: 30.2+ MB\n"
     ]
    }
   ],
   "source": [
    "df.info()"
   ]
  },
  {
   "cell_type": "code",
   "execution_count": 5,
   "id": "1c00cc77-bea3-4342-ab9d-f9c02415928b",
   "metadata": {},
   "outputs": [
    {
     "data": {
      "text/html": [
       "<div>\n",
       "<style scoped>\n",
       "    .dataframe tbody tr th:only-of-type {\n",
       "        vertical-align: middle;\n",
       "    }\n",
       "\n",
       "    .dataframe tbody tr th {\n",
       "        vertical-align: top;\n",
       "    }\n",
       "\n",
       "    .dataframe thead th {\n",
       "        text-align: right;\n",
       "    }\n",
       "</style>\n",
       "<table border=\"1\" class=\"dataframe\">\n",
       "  <thead>\n",
       "    <tr style=\"text-align: right;\">\n",
       "      <th></th>\n",
       "      <th>count</th>\n",
       "      <th>mean</th>\n",
       "      <th>std</th>\n",
       "      <th>min</th>\n",
       "      <th>25%</th>\n",
       "      <th>50%</th>\n",
       "      <th>75%</th>\n",
       "      <th>max</th>\n",
       "    </tr>\n",
       "  </thead>\n",
       "  <tbody>\n",
       "    <tr>\n",
       "      <th>Customer_Id</th>\n",
       "      <td>790458.0</td>\n",
       "      <td>1.012913e+06</td>\n",
       "      <td>7591.991578</td>\n",
       "      <td>1000000.0</td>\n",
       "      <td>1006405.00</td>\n",
       "      <td>1012797.0</td>\n",
       "      <td>1019154.00</td>\n",
       "      <td>1029399.0</td>\n",
       "    </tr>\n",
       "    <tr>\n",
       "      <th>Invoice_Id</th>\n",
       "      <td>790458.0</td>\n",
       "      <td>5.395228e+06</td>\n",
       "      <td>228185.713880</td>\n",
       "      <td>5000000.0</td>\n",
       "      <td>5197614.25</td>\n",
       "      <td>5395228.5</td>\n",
       "      <td>5592842.75</td>\n",
       "      <td>5790457.0</td>\n",
       "    </tr>\n",
       "    <tr>\n",
       "      <th>Subscription_Type</th>\n",
       "      <td>790458.0</td>\n",
       "      <td>5.992349e-01</td>\n",
       "      <td>0.950380</td>\n",
       "      <td>0.0</td>\n",
       "      <td>0.00</td>\n",
       "      <td>0.0</td>\n",
       "      <td>1.00</td>\n",
       "      <td>4.0</td>\n",
       "    </tr>\n",
       "    <tr>\n",
       "      <th>Amount</th>\n",
       "      <td>790458.0</td>\n",
       "      <td>2.996174e+00</td>\n",
       "      <td>4.751901</td>\n",
       "      <td>0.0</td>\n",
       "      <td>0.00</td>\n",
       "      <td>0.0</td>\n",
       "      <td>5.00</td>\n",
       "      <td>20.0</td>\n",
       "    </tr>\n",
       "  </tbody>\n",
       "</table>\n",
       "</div>"
      ],
      "text/plain": [
       "                      count          mean            std        min  \\\n",
       "Customer_Id        790458.0  1.012913e+06    7591.991578  1000000.0   \n",
       "Invoice_Id         790458.0  5.395228e+06  228185.713880  5000000.0   \n",
       "Subscription_Type  790458.0  5.992349e-01       0.950380        0.0   \n",
       "Amount             790458.0  2.996174e+00       4.751901        0.0   \n",
       "\n",
       "                          25%        50%         75%        max  \n",
       "Customer_Id        1006405.00  1012797.0  1019154.00  1029399.0  \n",
       "Invoice_Id         5197614.25  5395228.5  5592842.75  5790457.0  \n",
       "Subscription_Type        0.00        0.0        1.00        4.0  \n",
       "Amount                   0.00        0.0        5.00       20.0  "
      ]
     },
     "execution_count": 5,
     "metadata": {},
     "output_type": "execute_result"
    }
   ],
   "source": [
    "df.describe().T"
   ]
  },
  {
   "cell_type": "code",
   "execution_count": 6,
   "id": "9213ee01-c31b-471a-b79b-ad1687f3a68e",
   "metadata": {},
   "outputs": [
    {
     "data": {
      "text/html": [
       "<div>\n",
       "<style scoped>\n",
       "    .dataframe tbody tr th:only-of-type {\n",
       "        vertical-align: middle;\n",
       "    }\n",
       "\n",
       "    .dataframe tbody tr th {\n",
       "        vertical-align: top;\n",
       "    }\n",
       "\n",
       "    .dataframe thead th {\n",
       "        text-align: right;\n",
       "    }\n",
       "</style>\n",
       "<table border=\"1\" class=\"dataframe\">\n",
       "  <thead>\n",
       "    <tr style=\"text-align: right;\">\n",
       "      <th></th>\n",
       "      <th>Month_Invoiced</th>\n",
       "      <th>Customer_Id</th>\n",
       "      <th>Invoice_Id</th>\n",
       "      <th>Subscription_Type</th>\n",
       "      <th>Amount</th>\n",
       "    </tr>\n",
       "  </thead>\n",
       "  <tbody>\n",
       "    <tr>\n",
       "      <th>0</th>\n",
       "      <td>2014-01-31</td>\n",
       "      <td>1000000</td>\n",
       "      <td>5000000</td>\n",
       "      <td>0.0</td>\n",
       "      <td>0.0</td>\n",
       "    </tr>\n",
       "    <tr>\n",
       "      <th>1</th>\n",
       "      <td>2014-01-31</td>\n",
       "      <td>1000001</td>\n",
       "      <td>5000001</td>\n",
       "      <td>2.0</td>\n",
       "      <td>10.0</td>\n",
       "    </tr>\n",
       "    <tr>\n",
       "      <th>2</th>\n",
       "      <td>2014-01-31</td>\n",
       "      <td>1000002</td>\n",
       "      <td>5000002</td>\n",
       "      <td>0.0</td>\n",
       "      <td>0.0</td>\n",
       "    </tr>\n",
       "    <tr>\n",
       "      <th>3</th>\n",
       "      <td>2014-01-31</td>\n",
       "      <td>1000003</td>\n",
       "      <td>5000003</td>\n",
       "      <td>0.0</td>\n",
       "      <td>0.0</td>\n",
       "    </tr>\n",
       "    <tr>\n",
       "      <th>4</th>\n",
       "      <td>2014-01-31</td>\n",
       "      <td>1000004</td>\n",
       "      <td>5000004</td>\n",
       "      <td>1.0</td>\n",
       "      <td>5.0</td>\n",
       "    </tr>\n",
       "  </tbody>\n",
       "</table>\n",
       "</div>"
      ],
      "text/plain": [
       "  Month_Invoiced  Customer_Id  Invoice_Id  Subscription_Type  Amount\n",
       "0     2014-01-31      1000000     5000000                0.0     0.0\n",
       "1     2014-01-31      1000001     5000001                2.0    10.0\n",
       "2     2014-01-31      1000002     5000002                0.0     0.0\n",
       "3     2014-01-31      1000003     5000003                0.0     0.0\n",
       "4     2014-01-31      1000004     5000004                1.0     5.0"
      ]
     },
     "execution_count": 6,
     "metadata": {},
     "output_type": "execute_result"
    }
   ],
   "source": [
    "df.head()"
   ]
  },
  {
   "cell_type": "markdown",
   "id": "fc84658a-a900-4119-95db-29ef6c680db0",
   "metadata": {},
   "source": [
    "## Cleaning up column names"
   ]
  },
  {
   "cell_type": "code",
   "execution_count": 7,
   "id": "5e50c37e-ecdd-45fd-8287-ce9941444452",
   "metadata": {},
   "outputs": [
    {
     "data": {
      "text/html": [
       "<div>\n",
       "<style scoped>\n",
       "    .dataframe tbody tr th:only-of-type {\n",
       "        vertical-align: middle;\n",
       "    }\n",
       "\n",
       "    .dataframe tbody tr th {\n",
       "        vertical-align: top;\n",
       "    }\n",
       "\n",
       "    .dataframe thead th {\n",
       "        text-align: right;\n",
       "    }\n",
       "</style>\n",
       "<table border=\"1\" class=\"dataframe\">\n",
       "  <thead>\n",
       "    <tr style=\"text-align: right;\">\n",
       "      <th></th>\n",
       "      <th>month_invoiced</th>\n",
       "      <th>customer_id</th>\n",
       "      <th>invoice_id</th>\n",
       "      <th>subscription_type</th>\n",
       "      <th>amount</th>\n",
       "    </tr>\n",
       "  </thead>\n",
       "  <tbody>\n",
       "    <tr>\n",
       "      <th>0</th>\n",
       "      <td>2014-01-31</td>\n",
       "      <td>1000000</td>\n",
       "      <td>5000000</td>\n",
       "      <td>0.0</td>\n",
       "      <td>0.0</td>\n",
       "    </tr>\n",
       "    <tr>\n",
       "      <th>1</th>\n",
       "      <td>2014-01-31</td>\n",
       "      <td>1000001</td>\n",
       "      <td>5000001</td>\n",
       "      <td>2.0</td>\n",
       "      <td>10.0</td>\n",
       "    </tr>\n",
       "    <tr>\n",
       "      <th>2</th>\n",
       "      <td>2014-01-31</td>\n",
       "      <td>1000002</td>\n",
       "      <td>5000002</td>\n",
       "      <td>0.0</td>\n",
       "      <td>0.0</td>\n",
       "    </tr>\n",
       "    <tr>\n",
       "      <th>3</th>\n",
       "      <td>2014-01-31</td>\n",
       "      <td>1000003</td>\n",
       "      <td>5000003</td>\n",
       "      <td>0.0</td>\n",
       "      <td>0.0</td>\n",
       "    </tr>\n",
       "    <tr>\n",
       "      <th>4</th>\n",
       "      <td>2014-01-31</td>\n",
       "      <td>1000004</td>\n",
       "      <td>5000004</td>\n",
       "      <td>1.0</td>\n",
       "      <td>5.0</td>\n",
       "    </tr>\n",
       "  </tbody>\n",
       "</table>\n",
       "</div>"
      ],
      "text/plain": [
       "  month_invoiced  customer_id  invoice_id  subscription_type  amount\n",
       "0     2014-01-31      1000000     5000000                0.0     0.0\n",
       "1     2014-01-31      1000001     5000001                2.0    10.0\n",
       "2     2014-01-31      1000002     5000002                0.0     0.0\n",
       "3     2014-01-31      1000003     5000003                0.0     0.0\n",
       "4     2014-01-31      1000004     5000004                1.0     5.0"
      ]
     },
     "execution_count": 7,
     "metadata": {},
     "output_type": "execute_result"
    }
   ],
   "source": [
    "# cleaned up columns names prior to conversion\n",
    "df.columns = [col.lower() for col in df.columns]\n",
    "df.head()"
   ]
  },
  {
   "cell_type": "code",
   "execution_count": 8,
   "id": "a1039bbc-7d3e-4e44-8219-3aa0bbb41feb",
   "metadata": {},
   "outputs": [],
   "source": [
    "df.month_invoiced = pd.to_datetime(df.month_invoiced)"
   ]
  },
  {
   "cell_type": "code",
   "execution_count": 9,
   "id": "826dcdf0-d453-49a8-9887-0483648ee40b",
   "metadata": {},
   "outputs": [
    {
     "data": {
      "text/html": [
       "<div>\n",
       "<style scoped>\n",
       "    .dataframe tbody tr th:only-of-type {\n",
       "        vertical-align: middle;\n",
       "    }\n",
       "\n",
       "    .dataframe tbody tr th {\n",
       "        vertical-align: top;\n",
       "    }\n",
       "\n",
       "    .dataframe thead th {\n",
       "        text-align: right;\n",
       "    }\n",
       "</style>\n",
       "<table border=\"1\" class=\"dataframe\">\n",
       "  <thead>\n",
       "    <tr style=\"text-align: right;\">\n",
       "      <th></th>\n",
       "      <th>customer_id</th>\n",
       "      <th>invoice_id</th>\n",
       "      <th>subscription_type</th>\n",
       "      <th>amount</th>\n",
       "    </tr>\n",
       "    <tr>\n",
       "      <th>month_invoiced</th>\n",
       "      <th></th>\n",
       "      <th></th>\n",
       "      <th></th>\n",
       "      <th></th>\n",
       "    </tr>\n",
       "  </thead>\n",
       "  <tbody>\n",
       "    <tr>\n",
       "      <th>2014-01-31</th>\n",
       "      <td>1000000</td>\n",
       "      <td>5000000</td>\n",
       "      <td>0.0</td>\n",
       "      <td>0.0</td>\n",
       "    </tr>\n",
       "    <tr>\n",
       "      <th>2014-01-31</th>\n",
       "      <td>1000001</td>\n",
       "      <td>5000001</td>\n",
       "      <td>2.0</td>\n",
       "      <td>10.0</td>\n",
       "    </tr>\n",
       "    <tr>\n",
       "      <th>2014-01-31</th>\n",
       "      <td>1000002</td>\n",
       "      <td>5000002</td>\n",
       "      <td>0.0</td>\n",
       "      <td>0.0</td>\n",
       "    </tr>\n",
       "    <tr>\n",
       "      <th>2014-01-31</th>\n",
       "      <td>1000003</td>\n",
       "      <td>5000003</td>\n",
       "      <td>0.0</td>\n",
       "      <td>0.0</td>\n",
       "    </tr>\n",
       "    <tr>\n",
       "      <th>2014-01-31</th>\n",
       "      <td>1000004</td>\n",
       "      <td>5000004</td>\n",
       "      <td>1.0</td>\n",
       "      <td>5.0</td>\n",
       "    </tr>\n",
       "  </tbody>\n",
       "</table>\n",
       "</div>"
      ],
      "text/plain": [
       "                customer_id  invoice_id  subscription_type  amount\n",
       "month_invoiced                                                    \n",
       "2014-01-31          1000000     5000000                0.0     0.0\n",
       "2014-01-31          1000001     5000001                2.0    10.0\n",
       "2014-01-31          1000002     5000002                0.0     0.0\n",
       "2014-01-31          1000003     5000003                0.0     0.0\n",
       "2014-01-31          1000004     5000004                1.0     5.0"
      ]
     },
     "execution_count": 9,
     "metadata": {},
     "output_type": "execute_result"
    }
   ],
   "source": [
    "df = df.set_index('month_invoiced').sort_index()\n",
    "df.head()"
   ]
  },
  {
   "cell_type": "markdown",
   "id": "6804e87a-d485-4170-9396-b346e38dfc01",
   "metadata": {},
   "source": [
    "## Dropping unnecessary columns"
   ]
  },
  {
   "cell_type": "code",
   "execution_count": 10,
   "id": "17417b4f-3a01-43c2-9542-0204605c2c7d",
   "metadata": {},
   "outputs": [
    {
     "data": {
      "text/html": [
       "<div>\n",
       "<style scoped>\n",
       "    .dataframe tbody tr th:only-of-type {\n",
       "        vertical-align: middle;\n",
       "    }\n",
       "\n",
       "    .dataframe tbody tr th {\n",
       "        vertical-align: top;\n",
       "    }\n",
       "\n",
       "    .dataframe thead th {\n",
       "        text-align: right;\n",
       "    }\n",
       "</style>\n",
       "<table border=\"1\" class=\"dataframe\">\n",
       "  <thead>\n",
       "    <tr style=\"text-align: right;\">\n",
       "      <th></th>\n",
       "      <th>amount</th>\n",
       "    </tr>\n",
       "    <tr>\n",
       "      <th>month_invoiced</th>\n",
       "      <th></th>\n",
       "    </tr>\n",
       "  </thead>\n",
       "  <tbody>\n",
       "    <tr>\n",
       "      <th>2014-01-31</th>\n",
       "      <td>0.0</td>\n",
       "    </tr>\n",
       "    <tr>\n",
       "      <th>2014-01-31</th>\n",
       "      <td>10.0</td>\n",
       "    </tr>\n",
       "    <tr>\n",
       "      <th>2014-01-31</th>\n",
       "      <td>0.0</td>\n",
       "    </tr>\n",
       "    <tr>\n",
       "      <th>2014-01-31</th>\n",
       "      <td>0.0</td>\n",
       "    </tr>\n",
       "    <tr>\n",
       "      <th>2014-01-31</th>\n",
       "      <td>5.0</td>\n",
       "    </tr>\n",
       "    <tr>\n",
       "      <th>...</th>\n",
       "      <td>...</td>\n",
       "    </tr>\n",
       "    <tr>\n",
       "      <th>2017-12-31</th>\n",
       "      <td>0.0</td>\n",
       "    </tr>\n",
       "    <tr>\n",
       "      <th>2017-12-31</th>\n",
       "      <td>0.0</td>\n",
       "    </tr>\n",
       "    <tr>\n",
       "      <th>2017-12-31</th>\n",
       "      <td>15.0</td>\n",
       "    </tr>\n",
       "    <tr>\n",
       "      <th>2017-12-31</th>\n",
       "      <td>0.0</td>\n",
       "    </tr>\n",
       "    <tr>\n",
       "      <th>2017-12-31</th>\n",
       "      <td>0.0</td>\n",
       "    </tr>\n",
       "  </tbody>\n",
       "</table>\n",
       "<p>790458 rows × 1 columns</p>\n",
       "</div>"
      ],
      "text/plain": [
       "                amount\n",
       "month_invoiced        \n",
       "2014-01-31         0.0\n",
       "2014-01-31        10.0\n",
       "2014-01-31         0.0\n",
       "2014-01-31         0.0\n",
       "2014-01-31         5.0\n",
       "...                ...\n",
       "2017-12-31         0.0\n",
       "2017-12-31         0.0\n",
       "2017-12-31        15.0\n",
       "2017-12-31         0.0\n",
       "2017-12-31         0.0\n",
       "\n",
       "[790458 rows x 1 columns]"
      ]
     },
     "execution_count": 10,
     "metadata": {},
     "output_type": "execute_result"
    }
   ],
   "source": [
    "df.drop(columns=['customer_id', 'invoice_id', 'subscription_type'])"
   ]
  },
  {
   "cell_type": "code",
   "execution_count": 11,
   "id": "8e1f5220-fb19-4c2e-a7f6-7ee2d1e8ac85",
   "metadata": {},
   "outputs": [
    {
     "data": {
      "text/plain": [
       "0.0     496410\n",
       "5.0     178212\n",
       "10.0     70706\n",
       "15.0     26474\n",
       "20.0     18656\n",
       "Name: amount, dtype: int64"
      ]
     },
     "execution_count": 11,
     "metadata": {},
     "output_type": "execute_result"
    }
   ],
   "source": [
    "df.amount.value_counts() "
   ]
  },
  {
   "cell_type": "code",
   "execution_count": 12,
   "id": "b3c8ab58-7b48-4ca7-8c7b-c4cf254f7d9c",
   "metadata": {},
   "outputs": [
    {
     "name": "stdout",
     "output_type": "stream",
     "text": [
      "Date Range: 2014-01-31 00:00:00 to 2017-12-31 00:00:00\n",
      "Shape: (790458, 4)\n"
     ]
    }
   ],
   "source": [
    "# returning date range of data\n",
    "print('Date Range:', df.index.min(), 'to', df.index.max())\n",
    "print('Shape:', df.shape)"
   ]
  },
  {
   "cell_type": "markdown",
   "id": "93c8726f-3ac2-4cf9-83ea-156b602e8904",
   "metadata": {},
   "source": [
    "## **Percentage based split:**\n"
   ]
  },
  {
   "cell_type": "code",
   "execution_count": 13,
   "id": "2148f3fa-30a5-46a3-b527-a0795abc9da2",
   "metadata": {},
   "outputs": [],
   "source": [
    "def percent_split(df):\n",
    "    \"\"\"\n",
    "    Splits a DataFrame into training, validation, and test sets based on percentage sizes.\n",
    "\n",
    "    Parameters:\n",
    "    df (pd.DataFrame): The input DataFrame.\n",
    "\n",
    "    Returns:\n",
    "    train (pd.DataFrame): The training set.\n",
    "    val (pd.DataFrame): The validation set.\n",
    "    test (pd.DataFrame): The test set.\n",
    "    \"\"\"\n",
    "    # Calculate the sizes of the train, validation, and test sets as percentages of the total length\n",
    "    train_size = int(len(df) * 0.5)\n",
    "    val_size = int(len(df) * 0.3)\n",
    "    test_size = int(len(df) - train_size - val_size)\n",
    "    val_end_index = train_size + val_size\n",
    "    \n",
    "    # Split the DataFrame into train, validation, and test sets\n",
    "    train = df[:train_size]\n",
    "    val = df[train_size:val_end_index]\n",
    "    test = df[val_end_index:]\n",
    "\n",
    "    return train, val, test"
   ]
  },
  {
   "cell_type": "markdown",
   "id": "24c8bbf6-0b87-4755-98d5-a909e76726f5",
   "metadata": {},
   "source": [
    "## **Human based split:**"
   ]
  },
  {
   "cell_type": "code",
   "execution_count": 14,
   "id": "221396aa-ab9c-40d7-a71f-e3ddfb0143de",
   "metadata": {},
   "outputs": [],
   "source": [
    "def human_split(df):\n",
    "    \"\"\"\n",
    "    Splits a DataFrame into training, validation, and test sets based on specific date ranges.\n",
    "\n",
    "    Parameters:\n",
    "    df (pd.DataFrame): The input DataFrame with a datetime index.\n",
    "\n",
    "    Returns:\n",
    "    train (pd.DataFrame): The training set.\n",
    "    val (pd.DataFrame): The validation set.\n",
    "    test (pd.DataFrame): The test set.\n",
    "    \"\"\"\n",
    "    # Split the DataFrame into train, validation, and test sets based on specific date ranges\n",
    "    train = df.loc['2014':'2015']\n",
    "    val = df.loc['2016']\n",
    "    test = df.loc['2017']\n",
    "\n",
    "    return train, val, test"
   ]
  },
  {
   "cell_type": "markdown",
   "id": "fa25da3e-7add-44a1-83bc-57311204309e",
   "metadata": {},
   "source": [
    "## **Cross Validation based split:** \n",
    "### https://scikit-learn.org/stable/modules/generated/sklearn.model_selection.TimeSeriesSplit.html"
   ]
  },
  {
   "cell_type": "code",
   "execution_count": 15,
   "id": "c6b8c20a-fb84-4435-a4b2-c23bc2bffb06",
   "metadata": {},
   "outputs": [],
   "source": [
    "def cv_split(df):\n",
    "    \"\"\"\n",
    "    Splits a time series DataFrame into training, validation, and test sets using TimeSeriesSplit.\n",
    "\n",
    "    Parameters:\n",
    "    df (pd.DataFrame): The input time series DataFrame.\n",
    "\n",
    "    Returns:\n",
    "    train (pd.DataFrame): The training set.\n",
    "    val (pd.DataFrame): The validation set.\n",
    "    test (pd.DataFrame): The test set.\n",
    "    \"\"\"\n",
    "\n",
    "    # Splitting the data into train_val and test sets using TimeSeriesSplit (6 splits)\n",
    "    for train_val_index, test_index in TimeSeriesSplit(6).split(df):\n",
    "        \n",
    "        train_val,test=df.iloc[train_val_index],df.iloc[test_index]\n",
    "\n",
    "    # Resetting the index and describing the train_val set with datetime_is_numeric=True\n",
    "    train_val.reset_index().describe(datetime_is_numeric=True)\n",
    "\n",
    "    # Splitting the train_val data into train and validation sets using TimeSeriesSplit (5 splits)\n",
    "    for train_index, val_index in TimeSeriesSplit(5).split(train_val):\n",
    "        \n",
    "        train,val=train_val.iloc[train_index],train_val.iloc[val_index]\n",
    "\n",
    "    # Resetting the index and describing the train set with datetime_is_numeric=True\n",
    "    train.reset_index().describe(datetime_is_numeric=True)\n",
    "    \n",
    "    return train, val, test"
   ]
  },
  {
   "cell_type": "code",
   "execution_count": 16,
   "id": "d513e83d-5389-4994-8e82-f8d55c8c73ce",
   "metadata": {},
   "outputs": [],
   "source": [
    "#-------starified random sampling----------------\n",
    "\n",
    "# # 5 folds in cross validation; model will be trained on each fold and evaluated on the remaining\n",
    "# # if data is biggger add more folds; may be computionally expensive\n",
    "# kfold = StratifiedKFold(n_splits=5)\n",
    "\n",
    "# # split data into train and validation folds.\n",
    "# X_train, X_val, y_train, y_val = [], [], [], []\n",
    "# for train.index ,val.index, in kfold.split(X, y):\n",
    "#     X_train.append(X[train_index])\n",
    "#     X_val.ppend(X[val_index])\n",
    "#     y_train.append(y[train.index])\n",
    "#     y_val.append(y[val.index])\n",
    "\n",
    "# ------------------------------------------------"
   ]
  },
  {
   "cell_type": "code",
   "execution_count": 17,
   "id": "71bef837-d92e-4acb-ab0b-4b199e2d815e",
   "metadata": {},
   "outputs": [],
   "source": [
    "def wrangle_saas():\n",
    "    \"\"\"\n",
    "    Wrangles SAAS data by preprocessing and splitting it into train, validation, and test sets.\n",
    "\n",
    "    Returns:\n",
    "    train (pd.DataFrame): The training set.\n",
    "    val (pd.DataFrame): The validation set.\n",
    "    test (pd.DataFrame): The test set.\n",
    "    \"\"\"\n",
    "    # Get SAAS data and preprocess it\n",
    "    df = get_saas_data()\n",
    "    df.columns = [col.lower() for col in df.columns]\n",
    "    df.month_invoiced = pd.to_datetime(df.month_invoiced)\n",
    "    df = df.set_index('month_invoiced').sort_index()\n",
    "    df['month'] = df.index.month_name()\n",
    "    df['day_of_week'] = df.index.day_name()\n",
    "    # df = df.drop(columns=['customer_id', 'invoice_id', 'subscription_type']).resample('m').sum()\n",
    "    \n",
    "    # Split the preprocessed data into train, validation, and test sets using cv_split\n",
    "    train, val, test = human_split(df)\n",
    "\n",
    "    return train, val, test"
   ]
  },
  {
   "cell_type": "markdown",
   "id": "fbb8fcd3-15f0-436f-91e5-8246678711a3",
   "metadata": {},
   "source": [
    "  "
   ]
  },
  {
   "cell_type": "markdown",
   "id": "011a8493-4166-47b1-b523-5cb3137f1afc",
   "metadata": {},
   "source": [
    "  "
   ]
  },
  {
   "cell_type": "markdown",
   "id": "e1c0ea39-e226-4170-8aa6-2efb5131600b",
   "metadata": {},
   "source": [
    "  "
   ]
  },
  {
   "cell_type": "markdown",
   "id": "d3704a79-569d-42d2-9f84-491a9f3f4907",
   "metadata": {},
   "source": [
    "  "
   ]
  },
  {
   "cell_type": "markdown",
   "id": "76069aca-a8f6-43cc-9877-47a36ba58427",
   "metadata": {},
   "source": [
    "# 1. Split data (train/test) and resample by any period, except daily, and aggregate using the sum."
   ]
  },
  {
   "cell_type": "markdown",
   "id": "7033a557-758a-491e-8a73-325463fece29",
   "metadata": {},
   "source": [
    "## splitted by calling functions that used cross validation split"
   ]
  },
  {
   "cell_type": "code",
   "execution_count": 18,
   "id": "1f864544-6322-4040-b631-3115f7b83971",
   "metadata": {},
   "outputs": [
    {
     "data": {
      "text/plain": [
       "((431894, 6), (186275, 6), (172289, 6))"
      ]
     },
     "execution_count": 18,
     "metadata": {},
     "output_type": "execute_result"
    }
   ],
   "source": [
    "train, val, test = wrangle_saas()\n",
    "\n",
    "train.shape, val.shape, test.shape"
   ]
  },
  {
   "cell_type": "code",
   "execution_count": 19,
   "id": "b082744c-27db-4aa2-9c5f-de1b41aa4609",
   "metadata": {},
   "outputs": [
    {
     "data": {
      "text/plain": [
       "month_invoiced\n",
       "2014-01-31    35850.0\n",
       "2014-02-28    37190.0\n",
       "2014-03-31    38295.0\n",
       "2014-04-30    39255.0\n",
       "2014-05-31    40355.0\n",
       "Freq: M, Name: amount, dtype: float64"
      ]
     },
     "execution_count": 19,
     "metadata": {},
     "output_type": "execute_result"
    }
   ],
   "source": [
    "month_train = train.resample('M').amount.sum()\n",
    "month_val = val.resample('M').amount.sum()\n",
    "month_test = test.resample('M').amount.sum()\n",
    "\n",
    "month_train.head()"
   ]
  },
  {
   "cell_type": "markdown",
   "id": "9ba4ba38-35fa-4db1-84b0-ddf4b26d2607",
   "metadata": {},
   "source": [
    "## plotting each sub set"
   ]
  },
  {
   "cell_type": "code",
   "execution_count": 20,
   "id": "f669ff67-78eb-4cbf-ac4f-fcd4471ad831",
   "metadata": {},
   "outputs": [
    {
     "data": {
      "image/png": "[encoded data removed]",
      "text/plain": [
       "<Figure size 1200x800 with 1 Axes>"
      ]
     },
     "metadata": {},
     "output_type": "display_data"
    }
   ],
   "source": [
    "plt.figure(figsize=[12,8])\n",
    "plt.plot(month_train)\n",
    "plt.plot(month_val)\n",
    "plt.plot(month_test)\n",
    "plt.show()"
   ]
  },
  {
   "cell_type": "markdown",
   "id": "7fa87d91-fe59-481b-9ca9-e7d212fc5055",
   "metadata": {},
   "source": [
    "  "
   ]
  },
  {
   "cell_type": "markdown",
   "id": "9458b52b-2252-422b-9913-2a2d44760d87",
   "metadata": {},
   "source": [
    "# 2. Forecast, plot and evaluate using each at least 4 of the methods we discussed:"
   ]
  },
  {
   "cell_type": "markdown",
   "id": "9b81a9c8-0c4c-4c7e-882e-7da31cea2767",
   "metadata": {},
   "source": [
    "  "
   ]
  },
  {
   "cell_type": "markdown",
   "id": "10e02867-1bb3-4392-8321-820c9db23f8f",
   "metadata": {},
   "source": [
    "  "
   ]
  },
  {
   "cell_type": "markdown",
   "id": "dcc5425a-c57d-4040-b3ad-887a65d41239",
   "metadata": {},
   "source": [
    "##  Last Observed Value"
   ]
  },
  {
   "cell_type": "code",
   "execution_count": 21,
   "id": "bcce1d37-c984-486a-ab84-321b238beeb0",
   "metadata": {},
   "outputs": [
    {
     "data": {
      "text/plain": [
       "(51505.0, 53320.0, 53805.0)"
      ]
     },
     "execution_count": 21,
     "metadata": {},
     "output_type": "execute_result"
    }
   ],
   "source": [
    "last_observed_train = train.resample('M').amount.sum()[-1]\n",
    "last_observed_val = val.resample('M').amount.sum()[-1]\n",
    "last_observed_test = test.resample('M').amount.sum()[-1]\n",
    "\n",
    "last_observed_train, last_observed_val, last_observed_test"
   ]
  },
  {
   "cell_type": "markdown",
   "id": "3c395df9-c1e2-4b1f-ad9c-6eb9f54a8ae9",
   "metadata": {},
   "source": [
    "  "
   ]
  },
  {
   "cell_type": "markdown",
   "id": "57ddb776-10d6-4dbc-80bc-c4a6d37ae007",
   "metadata": {},
   "source": [
    "  "
   ]
  },
  {
   "cell_type": "code",
   "execution_count": 22,
   "id": "a1d62347-4d68-4174-adc4-22d7f57b319a",
   "metadata": {},
   "outputs": [
    {
     "data": {
      "image/png": "[encoded data removed]",
      "text/plain": [
       "<Figure size 1200x800 with 1 Axes>"
      ]
     },
     "metadata": {},
     "output_type": "display_data"
    }
   ],
   "source": [
    "plt.figure(figsize=[12,8])\n",
    "plt.plot(month_train)\n",
    "plt.plot(month_val)\n",
    "plt.plot(month_test)\n",
    "plt.axhline(y=last_observed_train, color='r')\n",
    "plt.show()"
   ]
  },
  {
   "cell_type": "markdown",
   "id": "4b4104eb-ff3f-43cf-acb8-bafedb4c6abd",
   "metadata": {},
   "source": [
    "  "
   ]
  },
  {
   "cell_type": "markdown",
   "id": "6b446354-6aac-4b9e-9bc9-ce9561d57545",
   "metadata": {},
   "source": [
    "  "
   ]
  },
  {
   "cell_type": "markdown",
   "id": "7ca65178-10ad-4063-8b75-535a45084275",
   "metadata": {},
   "source": [
    "  "
   ]
  },
  {
   "cell_type": "markdown",
   "id": "e7fef3aa-923a-4c6c-9791-07c1089e47bd",
   "metadata": {},
   "source": [
    "  "
   ]
  },
  {
   "cell_type": "markdown",
   "id": "c1d35052-51b1-4c8a-ab7f-7b228d6976d9",
   "metadata": {},
   "source": [
    "  "
   ]
  },
  {
   "cell_type": "markdown",
   "id": "e5b2b673-3ab0-4b24-aaf6-e1404f7af64d",
   "metadata": {},
   "source": [
    "  "
   ]
  },
  {
   "cell_type": "markdown",
   "id": "7d244fc5-a83f-4c6f-a678-ed0ad78e218a",
   "metadata": {},
   "source": [
    "  "
   ]
  },
  {
   "cell_type": "markdown",
   "id": "83ca4342-b8dc-4ce1-9a3d-330a131f7834",
   "metadata": {},
   "source": [
    "  "
   ]
  },
  {
   "cell_type": "markdown",
   "id": "abbe3b89-ed42-4627-9cda-5c11c322fbc7",
   "metadata": {},
   "source": [
    "##  Simple Average"
   ]
  },
  {
   "cell_type": "code",
   "execution_count": 23,
   "id": "ca294c84-2987-43bc-9ed9-8c94f36567d9",
   "metadata": {
    "scrolled": true
   },
   "outputs": [
    {
     "data": {
      "text/plain": [
       "(45568.54, 52612.92, 53612.5)"
      ]
     },
     "execution_count": 23,
     "metadata": {},
     "output_type": "execute_result"
    }
   ],
   "source": [
    "simple_average_train = round(train.resample('M').amount.sum().mean(), 2)\n",
    "simple_average_val = round(val.resample('M').amount.sum().mean(), 2)\n",
    "simple_average_test = round(test.resample('M').amount.sum().mean(), 2)\n",
    "\n",
    "simple_average_train, simple_average_val, simple_average_test"
   ]
  },
  {
   "cell_type": "markdown",
   "id": "77e47a6c-e39a-4565-a0ff-7b9f3644fc69",
   "metadata": {},
   "source": [
    "  "
   ]
  },
  {
   "cell_type": "markdown",
   "id": "d96ee9da-604a-4288-8633-4633733bfaaf",
   "metadata": {},
   "source": [
    "  "
   ]
  },
  {
   "cell_type": "markdown",
   "id": "22d7ecda-3467-45ca-ad90-b5fe2a3e0eab",
   "metadata": {},
   "source": [
    "  "
   ]
  },
  {
   "cell_type": "code",
   "execution_count": 24,
   "id": "f6de4d77-f2ea-4dec-8874-666f86c50bae",
   "metadata": {},
   "outputs": [
    {
     "data": {
      "image/png": "[encoded data removed]",
      "text/plain": [
       "<Figure size 1200x800 with 1 Axes>"
      ]
     },
     "metadata": {},
     "output_type": "display_data"
    }
   ],
   "source": [
    "plt.figure(figsize=[12,8])\n",
    "plt.plot(month_train)\n",
    "plt.plot(month_val)\n",
    "plt.plot(month_test)\n",
    "plt.axhline(y=simple_average_train, color='r')\n",
    "plt.show()"
   ]
  },
  {
   "cell_type": "code",
   "execution_count": null,
   "id": "7e7469d0-e10a-4a1f-96e7-603cc447a278",
   "metadata": {},
   "outputs": [],
   "source": []
  },
  {
   "cell_type": "markdown",
   "id": "4e00edb1-429e-4880-8178-d68025eaad94",
   "metadata": {},
   "source": [
    "  "
   ]
  },
  {
   "cell_type": "markdown",
   "id": "a1876947-03d3-44ef-a647-377a9a98405a",
   "metadata": {},
   "source": [
    "  "
   ]
  },
  {
   "cell_type": "markdown",
   "id": "0d4a40e5-3d8f-40f4-8c02-a249b3748f0c",
   "metadata": {},
   "source": [
    "  "
   ]
  },
  {
   "cell_type": "markdown",
   "id": "ead93c6e-dd34-462f-89e4-6c0918a2ba4d",
   "metadata": {},
   "source": [
    "  "
   ]
  },
  {
   "cell_type": "markdown",
   "id": "73ee1bc1-ff04-458e-a4c1-56c7cb45cffb",
   "metadata": {},
   "source": [
    "  "
   ]
  },
  {
   "cell_type": "markdown",
   "id": "dcf14dc9-2c69-4bcf-bfe3-bd64edbaf8e1",
   "metadata": {},
   "source": [
    "  "
   ]
  },
  {
   "cell_type": "markdown",
   "id": "5b4a70cb-f3cd-49a9-839f-c496b1c3f6a5",
   "metadata": {},
   "source": [
    "  "
   ]
  },
  {
   "cell_type": "markdown",
   "id": "a1ade71d-9439-4196-a44e-b1907ae05f37",
   "metadata": {},
   "source": [
    "##  Moving Average"
   ]
  },
  {
   "cell_type": "code",
   "execution_count": 25,
   "id": "70a0a75a-9bec-4be3-a9c8-2d62f061cc61",
   "metadata": {},
   "outputs": [
    {
     "name": "stdout",
     "output_type": "stream",
     "text": [
      "month_invoiced\n",
      "2014-01-31    35850.0\n",
      "2014-02-28    37190.0\n",
      "2014-03-31    38295.0\n",
      "2014-04-30    39255.0\n",
      "2014-05-31    40355.0\n",
      "Freq: M, Name: amount, dtype: float64\n",
      "\n",
      "\n",
      "\n",
      "month_invoiced\n",
      "2016-01-31    51955.0\n",
      "2016-02-29    51955.0\n",
      "2016-03-31    52000.0\n",
      "2016-04-30    52190.0\n",
      "2016-05-31    52325.0\n",
      "Freq: M, Name: amount, dtype: float64\n",
      "\n",
      "\n",
      "\n",
      "month_invoiced\n",
      "2017-01-31    53395.0\n",
      "2017-02-28    53440.0\n",
      "2017-03-31    53480.0\n",
      "2017-04-30    53350.0\n",
      "2017-05-31    53340.0\n",
      "Freq: M, Name: amount, dtype: float64\n"
     ]
    }
   ],
   "source": [
    "month_train = train.resample('M').amount.sum()\n",
    "month_val = val.resample('M').amount.sum()\n",
    "month_test = test.resample('M').amount.sum()\n",
    "\n",
    "print (month_train.head())\n",
    "print('\\n\\n')\n",
    "print(month_val.head())\n",
    "print('\\n\\n')\n",
    "print(month_test.head())"
   ]
  },
  {
   "cell_type": "markdown",
   "id": "1856662e-9608-4153-9a6b-c4ca05714fb3",
   "metadata": {},
   "source": [
    "  "
   ]
  },
  {
   "cell_type": "markdown",
   "id": "5b4e4908-c4c1-401d-bf6f-ba5a8c0eebc2",
   "metadata": {},
   "source": [
    "  "
   ]
  },
  {
   "cell_type": "markdown",
   "id": "97627a8c-499a-4634-a320-bf4ff43aad43",
   "metadata": {},
   "source": [
    "  "
   ]
  },
  {
   "cell_type": "markdown",
   "id": "c869af97-32a7-4a30-8b9e-9d906abad66d",
   "metadata": {},
   "source": [
    "## 1 Month Rolling Average  "
   ]
  },
  {
   "cell_type": "code",
   "execution_count": 26,
   "id": "8064a6f6-8b7c-4098-83ff-9f8142ee3613",
   "metadata": {},
   "outputs": [
    {
     "data": {
      "text/plain": [
       "51505.0"
      ]
     },
     "execution_count": 26,
     "metadata": {},
     "output_type": "execute_result"
    }
   ],
   "source": [
    "one_month_rolling = round(month_train.rolling(1).mean()[-1], 2)\n",
    "one_month_rolling"
   ]
  },
  {
   "cell_type": "markdown",
   "id": "7dc04dce-c6a1-4369-92f9-4e4e6f6ef8de",
   "metadata": {},
   "source": [
    "## 6 Month Rolling Average"
   ]
  },
  {
   "cell_type": "code",
   "execution_count": 27,
   "id": "62d1ab64-b4dc-4ca5-a0f7-a49121b95868",
   "metadata": {},
   "outputs": [
    {
     "data": {
      "text/plain": [
       "50105.0"
      ]
     },
     "execution_count": 27,
     "metadata": {},
     "output_type": "execute_result"
    }
   ],
   "source": [
    "six_month_rolling = round(month_train.rolling(1).mean()[-6], 2)\n",
    "six_month_rolling"
   ]
  },
  {
   "cell_type": "markdown",
   "id": "556c4f5a-ecb1-4454-8c1a-981633b154d7",
   "metadata": {},
   "source": [
    "## Weekly Rolling Average"
   ]
  },
  {
   "cell_type": "code",
   "execution_count": 28,
   "id": "18a17f73-4819-4d4b-982a-a00a22a95b6b",
   "metadata": {},
   "outputs": [
    {
     "data": {
      "text/plain": [
       "51298.75"
      ]
     },
     "execution_count": 28,
     "metadata": {},
     "output_type": "execute_result"
    }
   ],
   "source": [
    "weekly_rolling = round(month_train.rolling(4).mean()[-1], 2)\n",
    "weekly_rolling"
   ]
  },
  {
   "cell_type": "code",
   "execution_count": 29,
   "id": "9e5ebde0-14c9-46e8-abde-43ab828a2f0c",
   "metadata": {},
   "outputs": [
    {
     "data": {
      "text/html": [
       "<div>\n",
       "<style scoped>\n",
       "    .dataframe tbody tr th:only-of-type {\n",
       "        vertical-align: middle;\n",
       "    }\n",
       "\n",
       "    .dataframe tbody tr th {\n",
       "        vertical-align: top;\n",
       "    }\n",
       "\n",
       "    .dataframe thead th {\n",
       "        text-align: right;\n",
       "    }\n",
       "</style>\n",
       "<table border=\"1\" class=\"dataframe\">\n",
       "  <thead>\n",
       "    <tr style=\"text-align: right;\">\n",
       "      <th></th>\n",
       "      <th>actual</th>\n",
       "      <th>one_month_rolling</th>\n",
       "      <th>six_month_rolling</th>\n",
       "      <th>weekly_rolling</th>\n",
       "    </tr>\n",
       "    <tr>\n",
       "      <th>month_invoiced</th>\n",
       "      <th></th>\n",
       "      <th></th>\n",
       "      <th></th>\n",
       "      <th></th>\n",
       "    </tr>\n",
       "  </thead>\n",
       "  <tbody>\n",
       "    <tr>\n",
       "      <th>2016-01-31</th>\n",
       "      <td>51955.0</td>\n",
       "      <td>51505.0</td>\n",
       "      <td>50105.0</td>\n",
       "      <td>51298.75</td>\n",
       "    </tr>\n",
       "    <tr>\n",
       "      <th>2016-02-29</th>\n",
       "      <td>51955.0</td>\n",
       "      <td>51505.0</td>\n",
       "      <td>50105.0</td>\n",
       "      <td>51298.75</td>\n",
       "    </tr>\n",
       "    <tr>\n",
       "      <th>2016-03-31</th>\n",
       "      <td>52000.0</td>\n",
       "      <td>51505.0</td>\n",
       "      <td>50105.0</td>\n",
       "      <td>51298.75</td>\n",
       "    </tr>\n",
       "    <tr>\n",
       "      <th>2016-04-30</th>\n",
       "      <td>52190.0</td>\n",
       "      <td>51505.0</td>\n",
       "      <td>50105.0</td>\n",
       "      <td>51298.75</td>\n",
       "    </tr>\n",
       "    <tr>\n",
       "      <th>2016-05-31</th>\n",
       "      <td>52325.0</td>\n",
       "      <td>51505.0</td>\n",
       "      <td>50105.0</td>\n",
       "      <td>51298.75</td>\n",
       "    </tr>\n",
       "  </tbody>\n",
       "</table>\n",
       "</div>"
      ],
      "text/plain": [
       "                 actual  one_month_rolling  six_month_rolling  weekly_rolling\n",
       "month_invoiced                                                               \n",
       "2016-01-31      51955.0            51505.0            50105.0        51298.75\n",
       "2016-02-29      51955.0            51505.0            50105.0        51298.75\n",
       "2016-03-31      52000.0            51505.0            50105.0        51298.75\n",
       "2016-04-30      52190.0            51505.0            50105.0        51298.75\n",
       "2016-05-31      52325.0            51505.0            50105.0        51298.75"
      ]
     },
     "execution_count": 29,
     "metadata": {},
     "output_type": "execute_result"
    }
   ],
   "source": [
    "preds = pd.DataFrame({'actual': month_val,\n",
    "                      'one_month_rolling': one_month_rolling,\n",
    "                     'six_month_rolling': six_month_rolling,\n",
    "                     'weekly_rolling': weekly_rolling})\n",
    "\n",
    "preds.head()"
   ]
  },
  {
   "cell_type": "code",
   "execution_count": 30,
   "id": "d715a9e4-8e84-4fe5-ab0f-2cc54cf82d7e",
   "metadata": {},
   "outputs": [],
   "source": [
    "def eval_preds(df, predictions, actual='actual'):\n",
    "    \n",
    "    return round(sqrt(mean_squared_error(df[actual], df[predictions])), 2)"
   ]
  },
  {
   "cell_type": "code",
   "execution_count": 31,
   "id": "f0e22bab-5ed3-4560-aae9-6277c2b69a5f",
   "metadata": {},
   "outputs": [
    {
     "data": {
      "text/plain": [
       "1222.13"
      ]
     },
     "execution_count": 31,
     "metadata": {},
     "output_type": "execute_result"
    }
   ],
   "source": [
    "eval_preds(preds, 'one_month_rolling')"
   ]
  },
  {
   "cell_type": "code",
   "execution_count": 32,
   "id": "27f70db3-4573-48a9-b45c-699a6eabe907",
   "metadata": {},
   "outputs": [
    {
     "data": {
      "text/plain": [
       "2560.42"
      ]
     },
     "execution_count": 32,
     "metadata": {},
     "output_type": "execute_result"
    }
   ],
   "source": [
    "eval_preds(preds, 'six_month_rolling')"
   ]
  },
  {
   "cell_type": "code",
   "execution_count": 33,
   "id": "46eb8206-3fab-4f33-ac05-76766dd1f47c",
   "metadata": {},
   "outputs": [
    {
     "data": {
      "text/plain": [
       "1411.79"
      ]
     },
     "execution_count": 33,
     "metadata": {},
     "output_type": "execute_result"
    }
   ],
   "source": [
    "eval_preds(preds, 'weekly_rolling')"
   ]
  },
  {
   "cell_type": "code",
   "execution_count": 34,
   "id": "88d007c4-25c4-41e0-a63b-24ebde940fde",
   "metadata": {},
   "outputs": [
    {
     "data": {
      "image/png": "[encoded data removed]",
      "text/plain": [
       "<Figure size 1200x800 with 1 Axes>"
      ]
     },
     "metadata": {},
     "output_type": "display_data"
    }
   ],
   "source": [
    "plt.figure(figsize=[12,8])\n",
    "plt.plot(preds['actual'], c='orange')\n",
    "plt.plot(preds['one_month_rolling'], c='green')\n",
    "plt.plot(preds['six_month_rolling'], c='lightgreen')\n",
    "plt.plot(preds['weekly_rolling'], c='darkgreen')\n",
    "plt.show()"
   ]
  },
  {
   "cell_type": "markdown",
   "id": "55275a52-91f2-4587-b395-c85af563048c",
   "metadata": {},
   "source": [
    "  "
   ]
  },
  {
   "cell_type": "markdown",
   "id": "a0570bbb-13d3-4672-a5c3-8a648c99c8ca",
   "metadata": {},
   "source": [
    "  "
   ]
  },
  {
   "cell_type": "markdown",
   "id": "8251e155-84c2-4555-ac8d-088ad2b7eb7b",
   "metadata": {},
   "source": [
    "  "
   ]
  },
  {
   "cell_type": "markdown",
   "id": "9c53f9fe-5cce-43ca-9e92-69aea2e7be06",
   "metadata": {},
   "source": [
    "  "
   ]
  },
  {
   "cell_type": "code",
   "execution_count": 35,
   "id": "3857bdcd-fc81-4cf4-a696-46ffd14c9b44",
   "metadata": {},
   "outputs": [
    {
     "data": {
      "image/png": "[encoded data removed]",
      "text/plain": [
       "<Figure size 640x480 with 4 Axes>"
      ]
     },
     "execution_count": 35,
     "metadata": {},
     "output_type": "execute_result"
    },
    {
     "data": {
      "image/png": "[encoded data removed]",
      "text/plain": [
       "<Figure size 640x480 with 4 Axes>"
      ]
     },
     "metadata": {},
     "output_type": "display_data"
    }
   ],
   "source": [
    "sm.tsa.seasonal_decompose(month_train.resample('M').mean()).plot()"
   ]
  },
  {
   "cell_type": "markdown",
   "id": "45dc272a-eb38-4fab-ae46-4fcc928e9ca3",
   "metadata": {},
   "source": [
    "  "
   ]
  },
  {
   "cell_type": "markdown",
   "id": "e501f369-cef1-4800-b507-ab372baac9af",
   "metadata": {},
   "source": [
    "  "
   ]
  },
  {
   "cell_type": "markdown",
   "id": "693cfda8-d2a0-44bf-acdc-a5fed6a27202",
   "metadata": {},
   "source": [
    "## Holt's Linear Trend"
   ]
  },
  {
   "cell_type": "code",
   "execution_count": 36,
   "id": "3836d82f-8cf8-436a-9a2c-0a7bdc6c96f2",
   "metadata": {},
   "outputs": [
    {
     "data": {
      "text/plain": [
       "month_invoiced\n",
       "2014-01-31    35850.0\n",
       "2014-02-28    37190.0\n",
       "2014-03-31    38295.0\n",
       "2014-04-30    39255.0\n",
       "2014-05-31    40355.0\n",
       "Freq: M, Name: amount, dtype: float64"
      ]
     },
     "execution_count": 36,
     "metadata": {},
     "output_type": "execute_result"
    }
   ],
   "source": [
    "month_train = train.resample('M').amount.sum()\n",
    "month_val = val.resample('M').amount.sum()\n",
    "month_test = test.resample('M').amount.sum()\n",
    "\n",
    "month_train.head()"
   ]
  },
  {
   "cell_type": "code",
   "execution_count": 37,
   "id": "9ae61f48-0288-4bd2-8698-ec4d2bf1525b",
   "metadata": {},
   "outputs": [
    {
     "data": {
      "text/plain": [
       "month_invoiced\n",
       "2015-08-31    50495.0\n",
       "2015-09-30    50985.0\n",
       "2015-10-31    51445.0\n",
       "2015-11-30    51260.0\n",
       "2015-12-31    51505.0\n",
       "Freq: M, Name: amount, dtype: float64"
      ]
     },
     "execution_count": 37,
     "metadata": {},
     "output_type": "execute_result"
    }
   ],
   "source": [
    "month_train.tail()"
   ]
  },
  {
   "cell_type": "code",
   "execution_count": 38,
   "id": "2a417580-f070-441d-a2b3-9d70761f28ae",
   "metadata": {},
   "outputs": [],
   "source": [
    "model = Holt(month_train, exponential=False, damped=False)\n",
    "model = model.fit(optimized=True)\n",
    "yhat_values = model.predict(start = month_val.index[0],\n",
    "                              end = month_val.index[-1])\n",
    "preds = round(yhat_values, 2)"
   ]
  },
  {
   "cell_type": "code",
   "execution_count": 39,
   "id": "0eb88e98-1924-4dbf-b634-c758ecd2cdfa",
   "metadata": {},
   "outputs": [
    {
     "data": {
      "text/plain": [
       "2016-01-31    51915.09\n",
       "2016-02-29    52186.22\n",
       "2016-03-31    52457.34\n",
       "2016-04-30    52728.46\n",
       "2016-05-31    52999.58\n",
       "Freq: M, dtype: float64"
      ]
     },
     "execution_count": 39,
     "metadata": {},
     "output_type": "execute_result"
    }
   ],
   "source": [
    "preds.head()"
   ]
  },
  {
   "cell_type": "code",
   "execution_count": 40,
   "id": "1f229716-81bf-496f-b293-7f0d5bec553b",
   "metadata": {},
   "outputs": [
    {
     "data": {
      "text/html": [
       "<div>\n",
       "<style scoped>\n",
       "    .dataframe tbody tr th:only-of-type {\n",
       "        vertical-align: middle;\n",
       "    }\n",
       "\n",
       "    .dataframe tbody tr th {\n",
       "        vertical-align: top;\n",
       "    }\n",
       "\n",
       "    .dataframe thead th {\n",
       "        text-align: right;\n",
       "    }\n",
       "</style>\n",
       "<table border=\"1\" class=\"dataframe\">\n",
       "  <thead>\n",
       "    <tr style=\"text-align: right;\">\n",
       "      <th></th>\n",
       "      <th>actual</th>\n",
       "      <th>preds</th>\n",
       "    </tr>\n",
       "  </thead>\n",
       "  <tbody>\n",
       "    <tr>\n",
       "      <th>2016-01-31</th>\n",
       "      <td>51955.0</td>\n",
       "      <td>51915.09</td>\n",
       "    </tr>\n",
       "    <tr>\n",
       "      <th>2016-02-29</th>\n",
       "      <td>51955.0</td>\n",
       "      <td>52186.22</td>\n",
       "    </tr>\n",
       "    <tr>\n",
       "      <th>2016-03-31</th>\n",
       "      <td>52000.0</td>\n",
       "      <td>52457.34</td>\n",
       "    </tr>\n",
       "    <tr>\n",
       "      <th>2016-04-30</th>\n",
       "      <td>52190.0</td>\n",
       "      <td>52728.46</td>\n",
       "    </tr>\n",
       "    <tr>\n",
       "      <th>2016-05-31</th>\n",
       "      <td>52325.0</td>\n",
       "      <td>52999.58</td>\n",
       "    </tr>\n",
       "  </tbody>\n",
       "</table>\n",
       "</div>"
      ],
      "text/plain": [
       "             actual     preds\n",
       "2016-01-31  51955.0  51915.09\n",
       "2016-02-29  51955.0  52186.22\n",
       "2016-03-31  52000.0  52457.34\n",
       "2016-04-30  52190.0  52728.46\n",
       "2016-05-31  52325.0  52999.58"
      ]
     },
     "execution_count": 40,
     "metadata": {},
     "output_type": "execute_result"
    }
   ],
   "source": [
    "predictions = pd.DataFrame({'actual': month_val,\n",
    "                            'preds': preds})\n",
    "\n",
    "predictions.head()"
   ]
  },
  {
   "cell_type": "code",
   "execution_count": 41,
   "id": "cdda0563-fd0d-40c7-8788-e9f552516935",
   "metadata": {},
   "outputs": [
    {
     "data": {
      "image/png": "[encoded data removed]",
      "text/plain": [
       "<Figure size 1200x800 with 1 Axes>"
      ]
     },
     "metadata": {},
     "output_type": "display_data"
    }
   ],
   "source": [
    "plt.figure(figsize=[12,8])\n",
    "plt.plot(predictions['actual'], c='orange')\n",
    "plt.plot(predictions['preds'])\n",
    "plt.show()"
   ]
  },
  {
   "cell_type": "code",
   "execution_count": 42,
   "id": "1b68fe98-8031-45a0-9ce6-707b134a113f",
   "metadata": {},
   "outputs": [
    {
     "data": {
      "text/plain": [
       "905.0"
      ]
     },
     "execution_count": 42,
     "metadata": {},
     "output_type": "execute_result"
    }
   ],
   "source": [
    "eval_preds(predictions, 'preds')"
   ]
  },
  {
   "cell_type": "markdown",
   "id": "258d98b9-6dd6-4dc0-87c8-e93acafcc152",
   "metadata": {},
   "source": [
    "  "
   ]
  },
  {
   "cell_type": "markdown",
   "id": "e25e302b-95d4-44cf-a87e-fbc5d0b8bbad",
   "metadata": {},
   "source": [
    "  "
   ]
  },
  {
   "cell_type": "markdown",
   "id": "0e824f9d-ed5b-4112-b155-d662a1487822",
   "metadata": {},
   "source": [
    "  "
   ]
  },
  {
   "cell_type": "markdown",
   "id": "685745ce-8d5d-4cab-b66c-faf51917c536",
   "metadata": {},
   "source": [
    "  "
   ]
  },
  {
   "cell_type": "markdown",
   "id": "f9024317-3483-4c97-8a7e-fab73a4d8b6e",
   "metadata": {},
   "source": [
    "  "
   ]
  },
  {
   "cell_type": "markdown",
   "id": "1bb08545-1181-45d5-b71a-601e57ca98e6",
   "metadata": {},
   "source": [
    "  "
   ]
  },
  {
   "cell_type": "markdown",
   "id": "a8a6d276-fe35-4a3f-a387-45c043d4121b",
   "metadata": {},
   "source": [
    "  "
   ]
  },
  {
   "cell_type": "markdown",
   "id": "d1669966-84f0-41ab-a935-36c66b53bf6c",
   "metadata": {},
   "source": [
    "  "
   ]
  },
  {
   "cell_type": "markdown",
   "id": "04bc444b-2d52-4c02-8600-bbd6fb897a3c",
   "metadata": {},
   "source": [
    "  "
   ]
  },
  {
   "cell_type": "markdown",
   "id": "940330b0-dcc8-4395-ab3c-2adc5a2b9f77",
   "metadata": {},
   "source": [
    "## Holt's Seasonal Trend"
   ]
  },
  {
   "cell_type": "code",
   "execution_count": 43,
   "id": "62bfb6c2-bc2a-42a8-8d87-97fe63d36088",
   "metadata": {
    "scrolled": true
   },
   "outputs": [
    {
     "data": {
      "text/plain": [
       "month_invoiced\n",
       "2014-01-31    35850.0\n",
       "2014-02-28    37190.0\n",
       "2014-03-31    38295.0\n",
       "2014-04-30    39255.0\n",
       "2014-05-31    40355.0\n",
       "Freq: M, Name: amount, dtype: float64"
      ]
     },
     "execution_count": 43,
     "metadata": {},
     "output_type": "execute_result"
    }
   ],
   "source": [
    "month_train = train.resample('M').amount.sum()\n",
    "month_val = val.resample('M').amount.sum()\n",
    "month_test = test.resample('M').amount.sum()\n",
    "\n",
    "month_train.head()"
   ]
  },
  {
   "cell_type": "code",
   "execution_count": 44,
   "id": "b94a3c3d-0aed-40c7-9f47-2b11b670d7a1",
   "metadata": {},
   "outputs": [
    {
     "data": {
      "text/plain": [
       "month_invoiced\n",
       "2015-08-31    50495.0\n",
       "2015-09-30    50985.0\n",
       "2015-10-31    51445.0\n",
       "2015-11-30    51260.0\n",
       "2015-12-31    51505.0\n",
       "Freq: M, Name: amount, dtype: float64"
      ]
     },
     "execution_count": 44,
     "metadata": {},
     "output_type": "execute_result"
    }
   ],
   "source": [
    "month_train.tail()"
   ]
  },
  {
   "cell_type": "code",
   "execution_count": 45,
   "id": "6e309a3a-51c0-4cc8-97f8-84a213547fd3",
   "metadata": {},
   "outputs": [
    {
     "data": {
      "text/plain": [
       "month_invoiced\n",
       "2016-01-31    51955.0\n",
       "2016-02-29    51955.0\n",
       "2016-03-31    52000.0\n",
       "2016-04-30    52190.0\n",
       "2016-05-31    52325.0\n",
       "Freq: M, Name: amount, dtype: float64"
      ]
     },
     "execution_count": 45,
     "metadata": {},
     "output_type": "execute_result"
    }
   ],
   "source": [
    "month_val.head()"
   ]
  },
  {
   "cell_type": "code",
   "execution_count": 46,
   "id": "4ea70442-518e-4a39-86ce-031acdf60e08",
   "metadata": {},
   "outputs": [
    {
     "data": {
      "text/plain": [
       "51298.75"
      ]
     },
     "execution_count": 46,
     "metadata": {},
     "output_type": "execute_result"
    }
   ],
   "source": [
    "weekly_rolling = round(month_train.rolling(4).mean()[-1], 2)\n",
    "weekly_rolling"
   ]
  },
  {
   "cell_type": "code",
   "execution_count": 47,
   "id": "00947cfc-05a5-42a0-8156-2531644d4f36",
   "metadata": {},
   "outputs": [
    {
     "data": {
      "text/html": [
       "<div>\n",
       "<style scoped>\n",
       "    .dataframe tbody tr th:only-of-type {\n",
       "        vertical-align: middle;\n",
       "    }\n",
       "\n",
       "    .dataframe tbody tr th {\n",
       "        vertical-align: top;\n",
       "    }\n",
       "\n",
       "    .dataframe thead th {\n",
       "        text-align: right;\n",
       "    }\n",
       "</style>\n",
       "<table border=\"1\" class=\"dataframe\">\n",
       "  <thead>\n",
       "    <tr style=\"text-align: right;\">\n",
       "      <th></th>\n",
       "      <th>actual</th>\n",
       "      <th>one_month_rolling</th>\n",
       "      <th>six_month_rolling</th>\n",
       "      <th>weekly_rolling</th>\n",
       "    </tr>\n",
       "    <tr>\n",
       "      <th>month_invoiced</th>\n",
       "      <th></th>\n",
       "      <th></th>\n",
       "      <th></th>\n",
       "      <th></th>\n",
       "    </tr>\n",
       "  </thead>\n",
       "  <tbody>\n",
       "    <tr>\n",
       "      <th>2016-01-31</th>\n",
       "      <td>51955.0</td>\n",
       "      <td>51505.0</td>\n",
       "      <td>50105.0</td>\n",
       "      <td>51298.75</td>\n",
       "    </tr>\n",
       "    <tr>\n",
       "      <th>2016-02-29</th>\n",
       "      <td>51955.0</td>\n",
       "      <td>51505.0</td>\n",
       "      <td>50105.0</td>\n",
       "      <td>51298.75</td>\n",
       "    </tr>\n",
       "    <tr>\n",
       "      <th>2016-03-31</th>\n",
       "      <td>52000.0</td>\n",
       "      <td>51505.0</td>\n",
       "      <td>50105.0</td>\n",
       "      <td>51298.75</td>\n",
       "    </tr>\n",
       "    <tr>\n",
       "      <th>2016-04-30</th>\n",
       "      <td>52190.0</td>\n",
       "      <td>51505.0</td>\n",
       "      <td>50105.0</td>\n",
       "      <td>51298.75</td>\n",
       "    </tr>\n",
       "    <tr>\n",
       "      <th>2016-05-31</th>\n",
       "      <td>52325.0</td>\n",
       "      <td>51505.0</td>\n",
       "      <td>50105.0</td>\n",
       "      <td>51298.75</td>\n",
       "    </tr>\n",
       "  </tbody>\n",
       "</table>\n",
       "</div>"
      ],
      "text/plain": [
       "                 actual  one_month_rolling  six_month_rolling  weekly_rolling\n",
       "month_invoiced                                                               \n",
       "2016-01-31      51955.0            51505.0            50105.0        51298.75\n",
       "2016-02-29      51955.0            51505.0            50105.0        51298.75\n",
       "2016-03-31      52000.0            51505.0            50105.0        51298.75\n",
       "2016-04-30      52190.0            51505.0            50105.0        51298.75\n",
       "2016-05-31      52325.0            51505.0            50105.0        51298.75"
      ]
     },
     "execution_count": 47,
     "metadata": {},
     "output_type": "execute_result"
    }
   ],
   "source": [
    "preds = pd.DataFrame({'actual': month_val,\n",
    "                      'one_month_rolling': one_month_rolling,\n",
    "                     'six_month_rolling': six_month_rolling,\n",
    "                     'weekly_rolling': weekly_rolling})\n",
    "\n",
    "preds.head()"
   ]
  },
  {
   "cell_type": "code",
   "execution_count": 48,
   "id": "61090505-fe29-438c-915e-f01174ae84dc",
   "metadata": {},
   "outputs": [],
   "source": [
    "def eval_preds(df, predictions, actual='actual'):\n",
    "    \n",
    "    return round(sqrt(mean_squared_error(df[actual], df[predictions])), 2)"
   ]
  },
  {
   "cell_type": "code",
   "execution_count": 49,
   "id": "f4ce4559-528f-4b75-a3a3-7b1ec3313342",
   "metadata": {},
   "outputs": [
    {
     "data": {
      "text/plain": [
       "1222.13"
      ]
     },
     "execution_count": 49,
     "metadata": {},
     "output_type": "execute_result"
    }
   ],
   "source": [
    "eval_preds(preds, 'one_month_rolling')"
   ]
  },
  {
   "cell_type": "code",
   "execution_count": 50,
   "id": "a422bb6f-7689-440a-93c5-bde3f0bc4d23",
   "metadata": {},
   "outputs": [
    {
     "data": {
      "text/plain": [
       "2560.42"
      ]
     },
     "execution_count": 50,
     "metadata": {},
     "output_type": "execute_result"
    }
   ],
   "source": [
    "eval_preds(preds, 'six_month_rolling')"
   ]
  },
  {
   "cell_type": "markdown",
   "id": "1cbb65cb-fd3d-4e69-9a79-c90e280e0c00",
   "metadata": {},
   "source": [
    "## 1 Month Rolling Average"
   ]
  },
  {
   "cell_type": "code",
   "execution_count": 51,
   "id": "c55b65ae-3cd5-4fc4-94e4-f571bd68d522",
   "metadata": {},
   "outputs": [
    {
     "data": {
      "text/plain": [
       "51505.0"
      ]
     },
     "execution_count": 51,
     "metadata": {},
     "output_type": "execute_result"
    }
   ],
   "source": [
    "one_month_rolling = round(month_train.rolling(1).mean()[-1], 2)\n",
    "one_month_rolling"
   ]
  },
  {
   "cell_type": "markdown",
   "id": "dfcf8fb8-14a1-4ad0-a778-b027a8613cc1",
   "metadata": {},
   "source": [
    "## 6 Month Rolling Average"
   ]
  },
  {
   "cell_type": "code",
   "execution_count": 52,
   "id": "af3caa62-94e0-4b86-9010-6a14603bae47",
   "metadata": {},
   "outputs": [
    {
     "data": {
      "text/plain": [
       "50105.0"
      ]
     },
     "execution_count": 52,
     "metadata": {},
     "output_type": "execute_result"
    }
   ],
   "source": [
    "six_month_rolling = round(month_train.rolling(1).mean()[-6], 2)\n",
    "six_month_rolling"
   ]
  },
  {
   "cell_type": "markdown",
   "id": "dff2f130-7f89-4b58-9373-6c09cf1b8a81",
   "metadata": {},
   "source": [
    "## Weekly Rolling Average"
   ]
  },
  {
   "cell_type": "code",
   "execution_count": 53,
   "id": "6359b272-9e54-445b-8873-9b46fa20e7af",
   "metadata": {},
   "outputs": [
    {
     "data": {
      "text/plain": [
       "51298.75"
      ]
     },
     "execution_count": 53,
     "metadata": {},
     "output_type": "execute_result"
    }
   ],
   "source": [
    "weekly_rolling = round(month_train.rolling(4).mean()[-1], 2)\n",
    "weekly_rolling"
   ]
  },
  {
   "cell_type": "code",
   "execution_count": 54,
   "id": "6947b80e-39d8-4b1b-86c6-eba409a21ee1",
   "metadata": {},
   "outputs": [
    {
     "data": {
      "text/html": [
       "<div>\n",
       "<style scoped>\n",
       "    .dataframe tbody tr th:only-of-type {\n",
       "        vertical-align: middle;\n",
       "    }\n",
       "\n",
       "    .dataframe tbody tr th {\n",
       "        vertical-align: top;\n",
       "    }\n",
       "\n",
       "    .dataframe thead th {\n",
       "        text-align: right;\n",
       "    }\n",
       "</style>\n",
       "<table border=\"1\" class=\"dataframe\">\n",
       "  <thead>\n",
       "    <tr style=\"text-align: right;\">\n",
       "      <th></th>\n",
       "      <th>actual</th>\n",
       "      <th>one_month_rolling</th>\n",
       "      <th>six_month_rolling</th>\n",
       "      <th>weekly_rolling</th>\n",
       "    </tr>\n",
       "    <tr>\n",
       "      <th>month_invoiced</th>\n",
       "      <th></th>\n",
       "      <th></th>\n",
       "      <th></th>\n",
       "      <th></th>\n",
       "    </tr>\n",
       "  </thead>\n",
       "  <tbody>\n",
       "    <tr>\n",
       "      <th>2016-01-31</th>\n",
       "      <td>51955.0</td>\n",
       "      <td>51505.0</td>\n",
       "      <td>50105.0</td>\n",
       "      <td>51298.75</td>\n",
       "    </tr>\n",
       "    <tr>\n",
       "      <th>2016-02-29</th>\n",
       "      <td>51955.0</td>\n",
       "      <td>51505.0</td>\n",
       "      <td>50105.0</td>\n",
       "      <td>51298.75</td>\n",
       "    </tr>\n",
       "    <tr>\n",
       "      <th>2016-03-31</th>\n",
       "      <td>52000.0</td>\n",
       "      <td>51505.0</td>\n",
       "      <td>50105.0</td>\n",
       "      <td>51298.75</td>\n",
       "    </tr>\n",
       "    <tr>\n",
       "      <th>2016-04-30</th>\n",
       "      <td>52190.0</td>\n",
       "      <td>51505.0</td>\n",
       "      <td>50105.0</td>\n",
       "      <td>51298.75</td>\n",
       "    </tr>\n",
       "    <tr>\n",
       "      <th>2016-05-31</th>\n",
       "      <td>52325.0</td>\n",
       "      <td>51505.0</td>\n",
       "      <td>50105.0</td>\n",
       "      <td>51298.75</td>\n",
       "    </tr>\n",
       "  </tbody>\n",
       "</table>\n",
       "</div>"
      ],
      "text/plain": [
       "                 actual  one_month_rolling  six_month_rolling  weekly_rolling\n",
       "month_invoiced                                                               \n",
       "2016-01-31      51955.0            51505.0            50105.0        51298.75\n",
       "2016-02-29      51955.0            51505.0            50105.0        51298.75\n",
       "2016-03-31      52000.0            51505.0            50105.0        51298.75\n",
       "2016-04-30      52190.0            51505.0            50105.0        51298.75\n",
       "2016-05-31      52325.0            51505.0            50105.0        51298.75"
      ]
     },
     "execution_count": 54,
     "metadata": {},
     "output_type": "execute_result"
    }
   ],
   "source": [
    "preds = pd.DataFrame({'actual': month_val,\n",
    "                      'one_month_rolling': one_month_rolling,\n",
    "                     'six_month_rolling': six_month_rolling,\n",
    "                     'weekly_rolling': weekly_rolling})\n",
    "\n",
    "preds.head()"
   ]
  },
  {
   "cell_type": "code",
   "execution_count": 55,
   "id": "4182ae30-21e8-41ef-ae22-955ae35a90e8",
   "metadata": {},
   "outputs": [],
   "source": [
    "def eval_preds(df, predictions, actual='actual'):\n",
    "    \n",
    "    return round(sqrt(mean_squared_error(df[actual], df[predictions])), 2)"
   ]
  },
  {
   "cell_type": "code",
   "execution_count": 56,
   "id": "8cc2d98c-568a-4385-b620-bb7bbd6ed41e",
   "metadata": {},
   "outputs": [
    {
     "data": {
      "text/plain": [
       "1222.13"
      ]
     },
     "execution_count": 56,
     "metadata": {},
     "output_type": "execute_result"
    }
   ],
   "source": [
    "eval_preds(preds, 'one_month_rolling')"
   ]
  },
  {
   "cell_type": "code",
   "execution_count": 57,
   "id": "88e1f400-b33f-49ab-9170-04e8d346e3da",
   "metadata": {},
   "outputs": [
    {
     "data": {
      "text/plain": [
       "2560.42"
      ]
     },
     "execution_count": 57,
     "metadata": {},
     "output_type": "execute_result"
    }
   ],
   "source": [
    "eval_preds(preds, 'six_month_rolling')"
   ]
  },
  {
   "cell_type": "code",
   "execution_count": 58,
   "id": "ebb92fcf-3225-4888-8a1f-971ac1693e57",
   "metadata": {},
   "outputs": [],
   "source": [
    "hst_model = ExponentialSmoothing(month_train, seasonal_periods=6, trend='add', seasonal='add').fit()"
   ]
  },
  {
   "cell_type": "code",
   "execution_count": 59,
   "id": "8616144b-cf67-4d11-b1c2-63324f8c48c5",
   "metadata": {},
   "outputs": [],
   "source": [
    "preds['hst'] = hst_model.forecast(month_val.shape[0])"
   ]
  },
  {
   "cell_type": "code",
   "execution_count": 60,
   "id": "60a6b607-7d60-43b2-81aa-edf182744cf5",
   "metadata": {},
   "outputs": [
    {
     "data": {
      "text/plain": [
       "month_invoiced\n",
       "2016-01-31    51710.527934\n",
       "2016-02-29    52399.472439\n",
       "2016-03-31    52792.230274\n",
       "2016-04-30    53328.485837\n",
       "2016-05-31    53493.380960\n",
       "2016-06-30    53918.164782\n",
       "2016-07-31    54031.818280\n",
       "2016-08-31    54720.762784\n",
       "2016-09-30    55113.520619\n",
       "2016-10-31    55649.776182\n",
       "2016-11-30    55814.671305\n",
       "2016-12-31    56239.455127\n",
       "Freq: M, Name: hst, dtype: float64"
      ]
     },
     "execution_count": 60,
     "metadata": {},
     "output_type": "execute_result"
    }
   ],
   "source": [
    "preds['hst']"
   ]
  },
  {
   "cell_type": "code",
   "execution_count": 61,
   "id": "82218fc9-397a-4b56-860d-b26bfd224694",
   "metadata": {},
   "outputs": [
    {
     "data": {
      "image/png": "[encoded data removed]",
      "text/plain": [
       "<Figure size 640x480 with 1 Axes>"
      ]
     },
     "metadata": {},
     "output_type": "display_data"
    }
   ],
   "source": [
    "plt.plot(preds['actual'], c='orange')\n",
    "plt.plot(preds['six_month_rolling'], c='green')\n",
    "plt.plot(preds['weekly_rolling'], c='darkgreen')\n",
    "plt.plot(preds['hst'], c='red')\n",
    "plt.show()"
   ]
  },
  {
   "cell_type": "code",
   "execution_count": 62,
   "id": "d7f724a2-c763-4814-8bea-c00daa58ebca",
   "metadata": {},
   "outputs": [
    {
     "data": {
      "text/plain": [
       "1727.31"
      ]
     },
     "execution_count": 62,
     "metadata": {},
     "output_type": "execute_result"
    }
   ],
   "source": [
    "eval_preds(preds, 'hst')"
   ]
  },
  {
   "cell_type": "markdown",
   "id": "dde82c47-4fb8-4e78-954a-6ed253963bfb",
   "metadata": {},
   "source": [
    "## Based on previous year/month/etc., this is up to you."
   ]
  },
  {
   "cell_type": "code",
   "execution_count": 63,
   "id": "aecaf9c0-2c3f-447f-9595-17cf2bec1aa4",
   "metadata": {},
   "outputs": [
    {
     "data": {
      "text/plain": [
       "month_invoiced\n",
       "2014-01-31    35850.0\n",
       "2014-02-28    37190.0\n",
       "2014-03-31    38295.0\n",
       "2014-04-30    39255.0\n",
       "2014-05-31    40355.0\n",
       "Freq: M, Name: amount, dtype: float64"
      ]
     },
     "execution_count": 63,
     "metadata": {},
     "output_type": "execute_result"
    }
   ],
   "source": [
    "month_train = train.resample('M').amount.sum()\n",
    "month_val = val.resample('M').amount.sum()\n",
    "month_test = test.resample('M').amount.sum()\n",
    "\n",
    "month_train.head()"
   ]
  },
  {
   "cell_type": "code",
   "execution_count": 64,
   "id": "2ca466e4-30b5-41af-b130-8d2b1009a0fb",
   "metadata": {},
   "outputs": [
    {
     "name": "stderr",
     "output_type": "stream",
     "text": [
      "/opt/homebrew/anaconda3/lib/python3.10/site-packages/statsmodels/tsa/holtwinters/model.py:915: ConvergenceWarning: Optimization failed to converge. Check mle_retvals.\n",
      "  warnings.warn(\n",
      "INFO:fbprophet:Disabling yearly seasonality. Run prophet with yearly_seasonality=True to override this.\n",
      "INFO:fbprophet:Disabling weekly seasonality. Run prophet with weekly_seasonality=True to override this.\n",
      "INFO:fbprophet:Disabling daily seasonality. Run prophet with daily_seasonality=True to override this.\n",
      "INFO:fbprophet:n_changepoints greater than number of observations. Using 18.\n"
     ]
    },
    {
     "name": "stdout",
     "output_type": "stream",
     "text": [
      "\n",
      "Initial log joint probability = 11.1587\n",
      "Iteration  1. Log joint probability =    36.3508. Improved by 25.1922.\n",
      "Iteration  2. Log joint probability =    51.6591. Improved by 15.3083.\n",
      "Iteration  3. Log joint probability =    69.4933. Improved by 17.8342.\n",
      "Iteration  4. Log joint probability =    78.6001. Improved by 9.10678.\n",
      "Iteration  5. Log joint probability =    80.2496. Improved by 1.64952.\n",
      "Iteration  6. Log joint probability =    80.4285. Improved by 0.178912.\n",
      "Iteration  7. Log joint probability =    80.5287. Improved by 0.100124.\n",
      "Iteration  8. Log joint probability =    80.6975. Improved by 0.168865.\n",
      "Iteration  9. Log joint probability =    80.9142. Improved by 0.216683.\n",
      "Iteration 10. Log joint probability =     81.013. Improved by 0.098803.\n",
      "Iteration 11. Log joint probability =     81.116. Improved by 0.10303.\n",
      "Iteration 12. Log joint probability =    81.3195. Improved by 0.203507.\n",
      "Iteration 13. Log joint probability =     81.457. Improved by 0.13746.\n",
      "Iteration 14. Log joint probability =    87.1769. Improved by 5.71986.\n",
      "Iteration 15. Log joint probability =    88.8372. Improved by 1.6603.\n",
      "Iteration 16. Log joint probability =     90.089. Improved by 1.25183.\n",
      "Iteration 17. Log joint probability =    90.6654. Improved by 0.576352.\n",
      "Iteration 18. Log joint probability =    93.8001. Improved by 3.13477.\n",
      "Iteration 19. Log joint probability =     95.003. Improved by 1.20285.\n",
      "Iteration 20. Log joint probability =    95.2477. Improved by 0.244695.\n",
      "Iteration 21. Log joint probability =    99.3946. Improved by 4.14694.\n",
      "Iteration 22. Log joint probability =    101.858. Improved by 2.46321.\n",
      "Iteration 23. Log joint probability =     103.46. Improved by 1.60266.\n",
      "Iteration 24. Log joint probability =    103.649. Improved by 0.18892.\n",
      "Iteration 25. Log joint probability =    109.817. Improved by 6.16733.\n",
      "Iteration 26. Log joint probability =    113.828. Improved by 4.01118.\n",
      "Iteration 27. Log joint probability =    119.082. Improved by 5.25418.\n",
      "Iteration 28. Log joint probability =    122.775. Improved by 3.69275.\n",
      "Iteration 29. Log joint probability =    123.499. Improved by 0.72385.\n",
      "Iteration 30. Log joint probability =    124.082. Improved by 0.583777.\n",
      "Iteration 31. Log joint probability =    124.516. Improved by 0.433668.\n",
      "Iteration 32. Log joint probability =    125.232. Improved by 0.715922.\n",
      "Iteration 33. Log joint probability =    125.845. Improved by 0.613076.\n",
      "Iteration 34. Log joint probability =    125.971. Improved by 0.125481.\n",
      "Iteration 35. Log joint probability =    126.803. Improved by 0.832394.\n",
      "Iteration 36. Log joint probability =    126.862. Improved by 0.0592901.\n",
      "Iteration 37. Log joint probability =    127.283. Improved by 0.420575.\n",
      "Iteration 38. Log joint probability =    127.331. Improved by 0.048601.\n",
      "Iteration 39. Log joint probability =    127.427. Improved by 0.0955483.\n",
      "Iteration 40. Log joint probability =    127.445. Improved by 0.0179497.\n",
      "Iteration 41. Log joint probability =    127.462. Improved by 0.0169697.\n",
      "Iteration 42. Log joint probability =    127.546. Improved by 0.0838681.\n",
      "Iteration 43. Log joint probability =    127.614. Improved by 0.0680311.\n",
      "Iteration 44. Log joint probability =    127.636. Improved by 0.0221429.\n",
      "Iteration 45. Log joint probability =    127.646. Improved by 0.010043.\n",
      "Iteration 46. Log joint probability =    127.649. Improved by 0.00313128.\n",
      "Iteration 47. Log joint probability =     127.65. Improved by 0.000723319.\n",
      "Iteration 48. Log joint probability =    127.653. Improved by 0.00287435.\n",
      "Iteration 49. Log joint probability =    127.653. Improved by 0.000424294.\n",
      "Iteration 50. Log joint probability =    127.654. Improved by 0.00115301.\n",
      "Iteration 51. Log joint probability =    127.655. Improved by 0.0010971.\n",
      "Iteration 52. Log joint probability =    127.656. Improved by 0.0010064.\n",
      "Iteration 53. Log joint probability =    127.657. Improved by 0.000420516.\n",
      "Iteration 54. Log joint probability =    127.657. Improved by 0.000282065.\n",
      "Iteration 55. Log joint probability =    127.657. Improved by 0.000127334.\n",
      "Iteration 56. Log joint probability =    127.657. Improved by 2.89573e-05.\n",
      "Iteration 57. Log joint probability =    127.657. Improved by 7.36739e-05.\n",
      "Iteration 58. Log joint probability =    127.657. Improved by 5.23683e-05.\n",
      "Iteration 59. Log joint probability =    127.657. Improved by 4.00645e-05.\n",
      "Iteration 60. Log joint probability =    127.657. Improved by 2.02202e-05.\n",
      "Iteration 61. Log joint probability =    127.658. Improved by 0.00015647.\n",
      "Iteration 62. Log joint probability =    127.658. Improved by 0.000107568.\n",
      "Iteration 63. Log joint probability =    127.658. Improved by 0.000103369.\n",
      "Iteration 64. Log joint probability =    127.658. Improved by 1.93166e-05.\n",
      "Iteration 65. Log joint probability =    127.658. Improved by 0.000105207.\n",
      "Iteration 66. Log joint probability =    127.658. Improved by 3.64181e-05.\n",
      "Iteration 67. Log joint probability =    127.658. Improved by 2.52554e-06.\n",
      "Iteration 68. Log joint probability =    127.658. Improved by 2.71336e-05.\n",
      "Iteration 69. Log joint probability =    127.658. Improved by 3.17632e-05.\n",
      "Iteration 70. Log joint probability =    127.658. Improved by 4.36365e-05.\n",
      "Iteration 71. Log joint probability =    127.658. Improved by 4.01628e-05.\n",
      "Iteration 72. Log joint probability =    127.658. Improved by 1.9774e-06.\n",
      "Iteration 73. Log joint probability =    127.658. Improved by 5.4183e-06.\n",
      "Iteration 74. Log joint probability =    127.658. Improved by 7.13003e-06.\n",
      "Iteration 75. Log joint probability =    127.658. Improved by 3.86011e-06.\n",
      "Iteration 76. Log joint probability =    127.658. Improved by 4.11494e-06.\n",
      "Iteration 77. Log joint probability =    127.658. Improved by 8.52717e-07.\n",
      "Iteration 78. Log joint probability =    127.658. Improved by 2.10837e-06.\n",
      "Iteration 79. Log joint probability =    127.658. Improved by 3.86057e-06.\n",
      "Iteration 80. Log joint probability =    127.658. Improved by 5.28351e-07.\n",
      "Iteration 81. Log joint probability =    127.658. Improved by 6.84228e-06.\n",
      "Iteration 82. Log joint probability =    127.658. Improved by 3.59373e-06.\n",
      "Iteration 83. Log joint probability =    127.658. Improved by 2.21032e-06.\n",
      "Iteration 84. Log joint probability =    127.658. Improved by 1.20474e-07.\n",
      "Iteration 85. Log joint probability =    127.658. Improved by 5.28223e-07.\n",
      "Iteration 86. Log joint probability =    127.658. Improved by 3.98158e-09.\n",
      "Naive RMSE: 1222.13, MAE: 1107.92\n",
      "Moving Average (3-Month) RMSE: 1314.99, MAE: 1209.58\n",
      "Exponential Smoothing RMSE: 3519.73, MAE: 3108.59\n",
      "Prophet RMSE: 1213.48, MAE: 1079.49\n"
     ]
    },
    {
     "data": {
      "image/png": "[encoded data removed]",
      "text/plain": [
       "<Figure size 1200x600 with 1 Axes>"
      ]
     },
     "metadata": {},
     "output_type": "display_data"
    }
   ],
   "source": [
    "import pandas as pd\n",
    "import matplotlib.pyplot as plt\n",
    "from statsmodels.tsa.api import ExponentialSmoothing\n",
    "from statsmodels.graphics.tsaplots import plot_acf, plot_pacf\n",
    "from statsmodels.tsa.statespace.sarimax import SARIMAX\n",
    "from fbprophet import Prophet\n",
    "\n",
    "# Naive Forecasting\n",
    "naive_forecast = month_train.iloc[-1]\n",
    "naive_forecast = pd.Series(naive_forecast, index=month_val.index)\n",
    "\n",
    "# Moving Average\n",
    "n = 3  # You can adjust this window size\n",
    "moving_average = month_train.rolling(window=n).mean().iloc[-1]\n",
    "moving_average = pd.Series(moving_average, index=month_val.index)\n",
    "\n",
    "# Exponential Smoothing\n",
    "model = ExponentialSmoothing(month_train, trend='add', seasonal='add', seasonal_periods=12) # year\n",
    "model_fit = model.fit()\n",
    "exp_smoothing_forecast = model_fit.forecast(len(month_val))\n",
    "\n",
    "# Prophet\n",
    "prophet_df = pd.DataFrame({'ds': month_train.index, 'y': month_train.values})\n",
    "model_prophet = Prophet()\n",
    "model_prophet.fit(prophet_df)\n",
    "future = model_prophet.make_future_dataframe(periods=len(month_val), freq='M')\n",
    "forecast_prophet = model_prophet.predict(future)\n",
    "forecast_prophet = forecast_prophet.set_index('ds')\n",
    "\n",
    "# Plotting the forecasts\n",
    "plt.figure(figsize=(12, 6))\n",
    "plt.plot(month_train.index, month_train.values, label='Training Data', color='blue')\n",
    "plt.plot(month_val.index, month_val.values, label='Validation Data', color='green')\n",
    "plt.plot(naive_forecast.index, naive_forecast.values, label='Naive Forecast', color='red', linestyle='--')\n",
    "plt.plot(moving_average.index, moving_average.values, label=f'Moving Average ({n}-Month)', color='purple', linestyle='--')\n",
    "plt.plot(month_val.index, exp_smoothing_forecast, label='Exponential Smoothing', color='orange', linestyle='--')\n",
    "plt.plot(forecast_prophet.index[-len(month_val):], forecast_prophet['yhat'][-len(month_val):].values, label='Prophet', color='brown', linestyle='--')\n",
    "\n",
    "plt.xlabel('Date')\n",
    "plt.ylabel('Total Amount')\n",
    "plt.title('Time Series Forecasting Methods')\n",
    "plt.legend()\n",
    "plt.grid(True)\n",
    "\n",
    "# Evaluation (you can use any appropriate metrics like RMSE, MAE, etc.)\n",
    "from sklearn.metrics import mean_squared_error, mean_absolute_error\n",
    "import numpy as np\n",
    "\n",
    "naive_rmse = np.sqrt(mean_squared_error(month_val, naive_forecast))\n",
    "naive_mae = mean_absolute_error(month_val, naive_forecast)\n",
    "moving_average_rmse = np.sqrt(mean_squared_error(month_val, moving_average))\n",
    "moving_average_mae = mean_absolute_error(month_val, moving_average)\n",
    "exp_smoothing_rmse = np.sqrt(mean_squared_error(month_val, exp_smoothing_forecast))\n",
    "exp_smoothing_mae = mean_absolute_error(month_val, exp_smoothing_forecast)\n",
    "prophet_rmse = np.sqrt(mean_squared_error(month_val, forecast_prophet['yhat'][-len(month_val):].values))\n",
    "prophet_mae = mean_absolute_error(month_val, forecast_prophet['yhat'][-len(month_val):].values)\n",
    "\n",
    "print(f'Naive RMSE: {naive_rmse:.2f}, MAE: {naive_mae:.2f}')\n",
    "print(f'Moving Average ({n}-Month) RMSE: {moving_average_rmse:.2f}, MAE: {moving_average_mae:.2f}')\n",
    "print(f'Exponential Smoothing RMSE: {exp_smoothing_rmse:.2f}, MAE: {exp_smoothing_mae:.2f}')\n",
    "print(f'Prophet RMSE: {prophet_rmse:.2f}, MAE: {prophet_mae:.2f}')\n",
    "\n",
    "plt.show()\n"
   ]
  },
  {
   "cell_type": "code",
   "execution_count": null,
   "id": "ec26633c-c80a-4108-a247-a5ea016ff33e",
   "metadata": {},
   "outputs": [],
   "source": []
  },
  {
   "cell_type": "markdown",
   "id": "bb8f998c-0eb1-4f9c-b32a-ba6f7e553c78",
   "metadata": {},
   "source": [
    "  "
   ]
  },
  {
   "cell_type": "markdown",
   "id": "8b32438b-4ee1-4ab9-8f65-5ca26986c231",
   "metadata": {},
   "source": [
    "  "
   ]
  },
  {
   "cell_type": "markdown",
   "id": "c5ba77ae-66ad-4e33-b1a3-fe86a4842f7c",
   "metadata": {},
   "source": [
    "  "
   ]
  },
  {
   "cell_type": "markdown",
   "id": "07b1bc03-d153-426f-8684-5ae311e4e75f",
   "metadata": {},
   "source": [
    "  "
   ]
  },
  {
   "cell_type": "markdown",
   "id": "54ca70e7-8f0b-4477-bf54-2daa4669571a",
   "metadata": {},
   "source": [
    "  "
   ]
  },
  {
   "cell_type": "markdown",
   "id": "7efa327c-a2b0-4c89-b636-92bf76f3ad44",
   "metadata": {},
   "source": [
    "  "
   ]
  },
  {
   "cell_type": "markdown",
   "id": "36b092cf-ee06-4e86-b158-56ec40fa68fc",
   "metadata": {},
   "source": [
    "# Bonus: "
   ]
  },
  {
   "cell_type": "markdown",
   "id": "f1e9352b-c54a-46b8-82a2-24a4dcc61d3f",
   "metadata": {},
   "source": [
    "### 1. Using the store item demand data, create a forecast of sales_total and quantity for 2018 using the Previous Cycle approach. ."
   ]
  },
  {
   "cell_type": "code",
   "execution_count": null,
   "id": "f2f23c43-e32c-4722-acbe-58528fa56901",
   "metadata": {},
   "outputs": [],
   "source": []
  },
  {
   "cell_type": "markdown",
   "id": "fd8d9049-7e3f-4ce5-8e24-8dc5b255aa6d",
   "metadata": {},
   "source": [
    "### 2. Predict 2018 total monthly sales for a single store and/or item by creating a model using prophet. 3. Return a dataframe with the month, store_id, y-hat, and the confidence intervals (y-hat lower, y-hat upper). 4. Plot the 2018 monthly sales predictions."
   ]
  },
  {
   "cell_type": "code",
   "execution_count": null,
   "id": "f2abbdd3-caac-44a5-a9ef-73a0a2cd5191",
   "metadata": {},
   "outputs": [],
   "source": []
  },
  {
   "cell_type": "markdown",
   "id": "064cc2d9-962b-42a4-9586-b413eb077953",
   "metadata": {},
   "source": []
  }
 ],
 "metadata": {
  "kernelspec": {
   "display_name": "Python 3 (ipykernel)",
   "language": "python",
   "name": "python3"
  },
  "language_info": {
   "codemirror_mode": {
    "name": "ipython",
    "version": 3
   },
   "file_extension": ".py",
   "mimetype": "text/x-python",
   "name": "python",
   "nbconvert_exporter": "python",
   "pygments_lexer": "ipython3",
   "version": "3.10.9"
  }
 },
 "nbformat": 4,
 "nbformat_minor": 5
}
