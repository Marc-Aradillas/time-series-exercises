{
 "cells": [
  {
   "cell_type": "code",
   "execution_count": 46,
   "id": "e69831f0-7c60-45ae-8fd3-94c07b192e8d",
   "metadata": {},
   "outputs": [],
   "source": [
    "# imports\n",
    "import warnings\n",
    "warnings.filterwarnings(\"ignore\")\n",
    "\n",
    "import os\n",
    "\n",
    "# transform\n",
    "import numpy as np\n",
    "import pandas as pd\n",
    "\n",
    "# visualize \n",
    "import matplotlib.pyplot as plt\n",
    "import seaborn as sns\n",
    "\n",
    "# working with dates\n",
    "from datetime import datetime\n",
    "\n",
    "# modeling\n",
    "import statsmodels.api as sm\n",
    "from statsmodels.tsa.api import Holt, ExponentialSmoothing\n",
    "\n",
    "# evaluate\n",
    "from sklearn.metrics import mean_squared_error\n",
    "from math import sqrt\n",
    "\n",
    "# cross validation split\n",
    "from sklearn.model_selection import StratifiedKFold"
   ]
  },
  {
   "cell_type": "markdown",
   "id": "c87ddd28-1375-4c1f-a16b-5af6b7d0ca09",
   "metadata": {},
   "source": [
    "# Exercises"
   ]
  },
  {
   "cell_type": "markdown",
   "id": "b2f980a4-7aaf-407e-8c19-0f5e06fd7a3a",
   "metadata": {},
   "source": [
    "> ## **Using saas.csv or log data from API usage**"
   ]
  },
  {
   "cell_type": "code",
   "execution_count": 47,
   "id": "cf920b15-6781-4a08-b4e7-8420ad509bbc",
   "metadata": {},
   "outputs": [],
   "source": [
    "def get_saas_data():\n",
    "    '''\n",
    "    Checks for a local cache of tsa_store_data.csv and if not present will run the get_store_data() function which acquires data from Codeup's mysql server\n",
    "    '''\n",
    "    filename = 'saas.csv'\n",
    "    if os.path.isfile(filename):\n",
    "        df = pd.read_csv(filename)\n",
    "    else:\n",
    "        print(f'Search for it, I am not going to....')\n",
    "    return df"
   ]
  },
  {
   "cell_type": "code",
   "execution_count": 48,
   "id": "7a2c2b08-d9b0-41f1-a73f-31ead7835d15",
   "metadata": {},
   "outputs": [],
   "source": [
    "df = get_saas_data()"
   ]
  },
  {
   "cell_type": "code",
   "execution_count": 49,
   "id": "7d2ad5ea-08a7-4ba9-9c0b-578f411c1370",
   "metadata": {},
   "outputs": [
    {
     "name": "stdout",
     "output_type": "stream",
     "text": [
      "<class 'pandas.core.frame.DataFrame'>\n",
      "RangeIndex: 790458 entries, 0 to 790457\n",
      "Data columns (total 5 columns):\n",
      " #   Column             Non-Null Count   Dtype  \n",
      "---  ------             --------------   -----  \n",
      " 0   Month_Invoiced     790458 non-null  object \n",
      " 1   Customer_Id        790458 non-null  int64  \n",
      " 2   Invoice_Id         790458 non-null  int64  \n",
      " 3   Subscription_Type  790458 non-null  float64\n",
      " 4   Amount             790458 non-null  float64\n",
      "dtypes: float64(2), int64(2), object(1)\n",
      "memory usage: 30.2+ MB\n"
     ]
    }
   ],
   "source": [
    "df.info()"
   ]
  },
  {
   "cell_type": "code",
   "execution_count": 50,
   "id": "1c00cc77-bea3-4342-ab9d-f9c02415928b",
   "metadata": {},
   "outputs": [
    {
     "data": {
      "text/html": [
       "<div>\n",
       "<style scoped>\n",
       "    .dataframe tbody tr th:only-of-type {\n",
       "        vertical-align: middle;\n",
       "    }\n",
       "\n",
       "    .dataframe tbody tr th {\n",
       "        vertical-align: top;\n",
       "    }\n",
       "\n",
       "    .dataframe thead th {\n",
       "        text-align: right;\n",
       "    }\n",
       "</style>\n",
       "<table border=\"1\" class=\"dataframe\">\n",
       "  <thead>\n",
       "    <tr style=\"text-align: right;\">\n",
       "      <th></th>\n",
       "      <th>count</th>\n",
       "      <th>mean</th>\n",
       "      <th>std</th>\n",
       "      <th>min</th>\n",
       "      <th>25%</th>\n",
       "      <th>50%</th>\n",
       "      <th>75%</th>\n",
       "      <th>max</th>\n",
       "    </tr>\n",
       "  </thead>\n",
       "  <tbody>\n",
       "    <tr>\n",
       "      <th>Customer_Id</th>\n",
       "      <td>790458.0</td>\n",
       "      <td>1.012913e+06</td>\n",
       "      <td>7591.991578</td>\n",
       "      <td>1000000.0</td>\n",
       "      <td>1006405.00</td>\n",
       "      <td>1012797.0</td>\n",
       "      <td>1019154.00</td>\n",
       "      <td>1029399.0</td>\n",
       "    </tr>\n",
       "    <tr>\n",
       "      <th>Invoice_Id</th>\n",
       "      <td>790458.0</td>\n",
       "      <td>5.395228e+06</td>\n",
       "      <td>228185.713880</td>\n",
       "      <td>5000000.0</td>\n",
       "      <td>5197614.25</td>\n",
       "      <td>5395228.5</td>\n",
       "      <td>5592842.75</td>\n",
       "      <td>5790457.0</td>\n",
       "    </tr>\n",
       "    <tr>\n",
       "      <th>Subscription_Type</th>\n",
       "      <td>790458.0</td>\n",
       "      <td>5.992349e-01</td>\n",
       "      <td>0.950380</td>\n",
       "      <td>0.0</td>\n",
       "      <td>0.00</td>\n",
       "      <td>0.0</td>\n",
       "      <td>1.00</td>\n",
       "      <td>4.0</td>\n",
       "    </tr>\n",
       "    <tr>\n",
       "      <th>Amount</th>\n",
       "      <td>790458.0</td>\n",
       "      <td>2.996174e+00</td>\n",
       "      <td>4.751901</td>\n",
       "      <td>0.0</td>\n",
       "      <td>0.00</td>\n",
       "      <td>0.0</td>\n",
       "      <td>5.00</td>\n",
       "      <td>20.0</td>\n",
       "    </tr>\n",
       "  </tbody>\n",
       "</table>\n",
       "</div>"
      ],
      "text/plain": [
       "                      count          mean            std        min  \\\n",
       "Customer_Id        790458.0  1.012913e+06    7591.991578  1000000.0   \n",
       "Invoice_Id         790458.0  5.395228e+06  228185.713880  5000000.0   \n",
       "Subscription_Type  790458.0  5.992349e-01       0.950380        0.0   \n",
       "Amount             790458.0  2.996174e+00       4.751901        0.0   \n",
       "\n",
       "                          25%        50%         75%        max  \n",
       "Customer_Id        1006405.00  1012797.0  1019154.00  1029399.0  \n",
       "Invoice_Id         5197614.25  5395228.5  5592842.75  5790457.0  \n",
       "Subscription_Type        0.00        0.0        1.00        4.0  \n",
       "Amount                   0.00        0.0        5.00       20.0  "
      ]
     },
     "execution_count": 50,
     "metadata": {},
     "output_type": "execute_result"
    }
   ],
   "source": [
    "df.describe().T"
   ]
  },
  {
   "cell_type": "code",
   "execution_count": 51,
   "id": "9213ee01-c31b-471a-b79b-ad1687f3a68e",
   "metadata": {},
   "outputs": [
    {
     "data": {
      "text/html": [
       "<div>\n",
       "<style scoped>\n",
       "    .dataframe tbody tr th:only-of-type {\n",
       "        vertical-align: middle;\n",
       "    }\n",
       "\n",
       "    .dataframe tbody tr th {\n",
       "        vertical-align: top;\n",
       "    }\n",
       "\n",
       "    .dataframe thead th {\n",
       "        text-align: right;\n",
       "    }\n",
       "</style>\n",
       "<table border=\"1\" class=\"dataframe\">\n",
       "  <thead>\n",
       "    <tr style=\"text-align: right;\">\n",
       "      <th></th>\n",
       "      <th>Month_Invoiced</th>\n",
       "      <th>Customer_Id</th>\n",
       "      <th>Invoice_Id</th>\n",
       "      <th>Subscription_Type</th>\n",
       "      <th>Amount</th>\n",
       "    </tr>\n",
       "  </thead>\n",
       "  <tbody>\n",
       "    <tr>\n",
       "      <th>0</th>\n",
       "      <td>2014-01-31</td>\n",
       "      <td>1000000</td>\n",
       "      <td>5000000</td>\n",
       "      <td>0.0</td>\n",
       "      <td>0.0</td>\n",
       "    </tr>\n",
       "    <tr>\n",
       "      <th>1</th>\n",
       "      <td>2014-01-31</td>\n",
       "      <td>1000001</td>\n",
       "      <td>5000001</td>\n",
       "      <td>2.0</td>\n",
       "      <td>10.0</td>\n",
       "    </tr>\n",
       "    <tr>\n",
       "      <th>2</th>\n",
       "      <td>2014-01-31</td>\n",
       "      <td>1000002</td>\n",
       "      <td>5000002</td>\n",
       "      <td>0.0</td>\n",
       "      <td>0.0</td>\n",
       "    </tr>\n",
       "    <tr>\n",
       "      <th>3</th>\n",
       "      <td>2014-01-31</td>\n",
       "      <td>1000003</td>\n",
       "      <td>5000003</td>\n",
       "      <td>0.0</td>\n",
       "      <td>0.0</td>\n",
       "    </tr>\n",
       "    <tr>\n",
       "      <th>4</th>\n",
       "      <td>2014-01-31</td>\n",
       "      <td>1000004</td>\n",
       "      <td>5000004</td>\n",
       "      <td>1.0</td>\n",
       "      <td>5.0</td>\n",
       "    </tr>\n",
       "  </tbody>\n",
       "</table>\n",
       "</div>"
      ],
      "text/plain": [
       "  Month_Invoiced  Customer_Id  Invoice_Id  Subscription_Type  Amount\n",
       "0     2014-01-31      1000000     5000000                0.0     0.0\n",
       "1     2014-01-31      1000001     5000001                2.0    10.0\n",
       "2     2014-01-31      1000002     5000002                0.0     0.0\n",
       "3     2014-01-31      1000003     5000003                0.0     0.0\n",
       "4     2014-01-31      1000004     5000004                1.0     5.0"
      ]
     },
     "execution_count": 51,
     "metadata": {},
     "output_type": "execute_result"
    }
   ],
   "source": [
    "df.head()"
   ]
  },
  {
   "cell_type": "markdown",
   "id": "fc84658a-a900-4119-95db-29ef6c680db0",
   "metadata": {},
   "source": [
    "## Cleaning up column names"
   ]
  },
  {
   "cell_type": "code",
   "execution_count": 52,
   "id": "5e50c37e-ecdd-45fd-8287-ce9941444452",
   "metadata": {},
   "outputs": [
    {
     "data": {
      "text/html": [
       "<div>\n",
       "<style scoped>\n",
       "    .dataframe tbody tr th:only-of-type {\n",
       "        vertical-align: middle;\n",
       "    }\n",
       "\n",
       "    .dataframe tbody tr th {\n",
       "        vertical-align: top;\n",
       "    }\n",
       "\n",
       "    .dataframe thead th {\n",
       "        text-align: right;\n",
       "    }\n",
       "</style>\n",
       "<table border=\"1\" class=\"dataframe\">\n",
       "  <thead>\n",
       "    <tr style=\"text-align: right;\">\n",
       "      <th></th>\n",
       "      <th>month_invoiced</th>\n",
       "      <th>customer_id</th>\n",
       "      <th>invoice_id</th>\n",
       "      <th>subscription_type</th>\n",
       "      <th>amount</th>\n",
       "    </tr>\n",
       "  </thead>\n",
       "  <tbody>\n",
       "    <tr>\n",
       "      <th>0</th>\n",
       "      <td>2014-01-31</td>\n",
       "      <td>1000000</td>\n",
       "      <td>5000000</td>\n",
       "      <td>0.0</td>\n",
       "      <td>0.0</td>\n",
       "    </tr>\n",
       "    <tr>\n",
       "      <th>1</th>\n",
       "      <td>2014-01-31</td>\n",
       "      <td>1000001</td>\n",
       "      <td>5000001</td>\n",
       "      <td>2.0</td>\n",
       "      <td>10.0</td>\n",
       "    </tr>\n",
       "    <tr>\n",
       "      <th>2</th>\n",
       "      <td>2014-01-31</td>\n",
       "      <td>1000002</td>\n",
       "      <td>5000002</td>\n",
       "      <td>0.0</td>\n",
       "      <td>0.0</td>\n",
       "    </tr>\n",
       "    <tr>\n",
       "      <th>3</th>\n",
       "      <td>2014-01-31</td>\n",
       "      <td>1000003</td>\n",
       "      <td>5000003</td>\n",
       "      <td>0.0</td>\n",
       "      <td>0.0</td>\n",
       "    </tr>\n",
       "    <tr>\n",
       "      <th>4</th>\n",
       "      <td>2014-01-31</td>\n",
       "      <td>1000004</td>\n",
       "      <td>5000004</td>\n",
       "      <td>1.0</td>\n",
       "      <td>5.0</td>\n",
       "    </tr>\n",
       "  </tbody>\n",
       "</table>\n",
       "</div>"
      ],
      "text/plain": [
       "  month_invoiced  customer_id  invoice_id  subscription_type  amount\n",
       "0     2014-01-31      1000000     5000000                0.0     0.0\n",
       "1     2014-01-31      1000001     5000001                2.0    10.0\n",
       "2     2014-01-31      1000002     5000002                0.0     0.0\n",
       "3     2014-01-31      1000003     5000003                0.0     0.0\n",
       "4     2014-01-31      1000004     5000004                1.0     5.0"
      ]
     },
     "execution_count": 52,
     "metadata": {},
     "output_type": "execute_result"
    }
   ],
   "source": [
    "# cleaned up columns names prior to conversion\n",
    "df.columns = [col.lower() for col in df.columns]\n",
    "df.head()"
   ]
  },
  {
   "cell_type": "code",
   "execution_count": 53,
   "id": "a1039bbc-7d3e-4e44-8219-3aa0bbb41feb",
   "metadata": {},
   "outputs": [],
   "source": [
    "df.month_invoiced = pd.to_datetime(df.month_invoiced)"
   ]
  },
  {
   "cell_type": "code",
   "execution_count": 54,
   "id": "826dcdf0-d453-49a8-9887-0483648ee40b",
   "metadata": {},
   "outputs": [
    {
     "data": {
      "text/plain": [
       "<bound method NDFrame.head of                 customer_id  invoice_id  subscription_type  amount\n",
       "month_invoiced                                                    \n",
       "2014-01-31          1000000     5000000                0.0     0.0\n",
       "2014-01-31          1013336     5013336                0.0     0.0\n",
       "2014-01-31          1013335     5013335                0.0     0.0\n",
       "2014-01-31          1013334     5013334                0.0     0.0\n",
       "2014-01-31          1013333     5013333                1.0     5.0\n",
       "...                     ...         ...                ...     ...\n",
       "2017-12-31          1012069     5781185                0.0     0.0\n",
       "2017-12-31          1012072     5781186                0.0     0.0\n",
       "2017-12-31          1012074     5781187                1.0     5.0\n",
       "2017-12-31          1012047     5781176                3.0    15.0\n",
       "2017-12-31          1029399     5790457                0.0     0.0\n",
       "\n",
       "[790458 rows x 4 columns]>"
      ]
     },
     "execution_count": 54,
     "metadata": {},
     "output_type": "execute_result"
    }
   ],
   "source": [
    "df = df.set_index('month_invoiced').sort_values(by='month_invoiced')\n",
    "df.head"
   ]
  },
  {
   "cell_type": "code",
   "execution_count": 55,
   "id": "b3c8ab58-7b48-4ca7-8c7b-c4cf254f7d9c",
   "metadata": {},
   "outputs": [
    {
     "name": "stdout",
     "output_type": "stream",
     "text": [
      "Date Range: 2014-01-31 00:00:00 to 2017-12-31 00:00:00\n",
      "Shape: (790458, 4)\n"
     ]
    }
   ],
   "source": [
    "# returning date range of data\n",
    "print('Date Range:', df.index.min(), 'to', df.index.max())\n",
    "print('Shape:', df.shape)"
   ]
  },
  {
   "cell_type": "code",
   "execution_count": 56,
   "id": "2148f3fa-30a5-46a3-b527-a0795abc9da2",
   "metadata": {},
   "outputs": [],
   "source": [
    "# Percentage based split\n",
    "\n",
    "train_size = int(len(df) * .5)\n",
    "validate_size = int(len(df) * .3)\n",
    "test_size = int(len(df) - train_size - validate_size)\n",
    "validate_end_index = train_size + validate_size\n",
    "\n",
    "# split into train, validation, test\n",
    "train = df[: train_size]\n",
    "validate = df[train_size : validate_end_index]\n",
    "test = df[validate_end_index : ]"
   ]
  },
  {
   "cell_type": "code",
   "execution_count": 41,
   "id": "221396aa-ab9c-40d7-a71f-e3ddfb0143de",
   "metadata": {},
   "outputs": [
    {
     "data": {
      "text/plain": [
       "((431894, 4), (186275, 4), (172289, 4))"
      ]
     },
     "execution_count": 41,
     "metadata": {},
     "output_type": "execute_result"
    }
   ],
   "source": [
    "# Human based split\n",
    "\n",
    "train = df.loc['2014':'2015']\n",
    "validate = df.loc['2016']\n",
    "test = df.loc['2017']\n",
    "\n",
    "train.shape, validate.shape, test.shape"
   ]
  },
  {
   "cell_type": "code",
   "execution_count": 42,
   "id": "bc50af39-a1fc-4d11-90d4-c8f8ca349792",
   "metadata": {},
   "outputs": [],
   "source": [
    "# Cross Validation based\n",
    "\n",
    "#-------starified random sampling----------------\n",
    "\n",
    "# # 5 folds in cross validation; model will be trained on each fold and evaluated on the remaining\n",
    "# # if data is biggger add more folds; may be computionally expensive\n",
    "# kfold = StratifiedKFold(n_splits=5)\n",
    "\n",
    "# # split data into train and validation folds.\n",
    "# X_train, X_val, y_train, y_val = [], [], [], []\n",
    "# for train.index ,val.index, in kfold.split(X, y):\n",
    "#     X_train.append(X[train_index])\n",
    "#     X_val.ppend(X[val_index])\n",
    "#     y_train.append(y[train.index])\n",
    "#     y_val.append(y[val.index])\n",
    "\n",
    "# ------------------------------------------------"
   ]
  },
  {
   "cell_type": "code",
   "execution_count": 43,
   "id": "71bef837-d92e-4acb-ab0b-4b199e2d815e",
   "metadata": {},
   "outputs": [],
   "source": [
    "def wrangle_saas():\n",
    "    df = get_saas_data()\n",
    "    df.columns = [col.lower() for col in df.columns]\n",
    "    df.month_invoiced = pd.to_datetime(df.month_invoiced)\n",
    "    df = df.set_index('month_invoiced').sort_values(by='month_invoiced')\n",
    "    train = df.loc['2014':'2015']\n",
    "    val = df.loc['2016']\n",
    "    test = df.loc['2017']\n",
    "\n",
    "    return train, val, test"
   ]
  },
  {
   "cell_type": "markdown",
   "id": "efae07a8-0d46-4f15-bf30-99a6d9d791ef",
   "metadata": {},
   "source": [
    "  "
   ]
  },
  {
   "cell_type": "code",
   "execution_count": 44,
   "id": "1f864544-6322-4040-b631-3115f7b83971",
   "metadata": {},
   "outputs": [
    {
     "data": {
      "text/plain": [
       "((431894, 4), (186275, 4), (172289, 4))"
      ]
     },
     "execution_count": 44,
     "metadata": {},
     "output_type": "execute_result"
    }
   ],
   "source": [
    "train, val, test = wrangle_saas()\n",
    "\n",
    "train.shape, val.shape, test.shape"
   ]
  },
  {
   "cell_type": "markdown",
   "id": "8947fd41-aa5d-425e-9859-ff66614f45d3",
   "metadata": {},
   "source": [
    "  "
   ]
  },
  {
   "cell_type": "markdown",
   "id": "e1c0ea39-e226-4170-8aa6-2efb5131600b",
   "metadata": {},
   "source": [
    "  "
   ]
  },
  {
   "cell_type": "markdown",
   "id": "fbb8fcd3-15f0-436f-91e5-8246678711a3",
   "metadata": {},
   "source": [
    "  "
   ]
  },
  {
   "cell_type": "markdown",
   "id": "011a8493-4166-47b1-b523-5cb3137f1afc",
   "metadata": {},
   "source": [
    "  "
   ]
  },
  {
   "cell_type": "markdown",
   "id": "d3704a79-569d-42d2-9f84-491a9f3f4907",
   "metadata": {},
   "source": [
    "  "
   ]
  },
  {
   "cell_type": "markdown",
   "id": "76069aca-a8f6-43cc-9877-47a36ba58427",
   "metadata": {},
   "source": [
    "# 1. Split data (train/test) and resample by any period, except daily, and aggregate using the sum."
   ]
  },
  {
   "cell_type": "code",
   "execution_count": null,
   "id": "10af1c26-7eef-4436-a65e-6ce3d7491730",
   "metadata": {},
   "outputs": [],
   "source": []
  },
  {
   "cell_type": "markdown",
   "id": "9458b52b-2252-422b-9913-2a2d44760d87",
   "metadata": {},
   "source": [
    "# 2. Forecast, plot and evaluate using each at least 4 of the methods we discussed:"
   ]
  },
  {
   "cell_type": "markdown",
   "id": "9b81a9c8-0c4c-4c7e-882e-7da31cea2767",
   "metadata": {},
   "source": [
    "  "
   ]
  },
  {
   "cell_type": "markdown",
   "id": "dcc5425a-c57d-4040-b3ad-887a65d41239",
   "metadata": {},
   "source": [
    "##  Last Observed Value"
   ]
  },
  {
   "cell_type": "code",
   "execution_count": null,
   "id": "bcce1d37-c984-486a-ab84-321b238beeb0",
   "metadata": {},
   "outputs": [],
   "source": []
  },
  {
   "cell_type": "markdown",
   "id": "abbe3b89-ed42-4627-9cda-5c11c322fbc7",
   "metadata": {},
   "source": [
    "##  Simple Average"
   ]
  },
  {
   "cell_type": "code",
   "execution_count": null,
   "id": "ca294c84-2987-43bc-9ed9-8c94f36567d9",
   "metadata": {},
   "outputs": [],
   "source": []
  },
  {
   "cell_type": "markdown",
   "id": "a1ade71d-9439-4196-a44e-b1907ae05f37",
   "metadata": {},
   "source": [
    "##  Moving Average"
   ]
  },
  {
   "cell_type": "code",
   "execution_count": null,
   "id": "70a0a75a-9bec-4be3-a9c8-2d62f061cc61",
   "metadata": {},
   "outputs": [],
   "source": []
  },
  {
   "cell_type": "markdown",
   "id": "693cfda8-d2a0-44bf-acdc-a5fed6a27202",
   "metadata": {},
   "source": [
    "## Holt's Linear Trend"
   ]
  },
  {
   "cell_type": "code",
   "execution_count": null,
   "id": "3836d82f-8cf8-436a-9a2c-0a7bdc6c96f2",
   "metadata": {},
   "outputs": [],
   "source": []
  },
  {
   "cell_type": "markdown",
   "id": "940330b0-dcc8-4395-ab3c-2adc5a2b9f77",
   "metadata": {},
   "source": [
    "## Holt's Seasonal Trend"
   ]
  },
  {
   "cell_type": "code",
   "execution_count": null,
   "id": "e8a7117a-08cc-44ef-bec5-573397080444",
   "metadata": {},
   "outputs": [],
   "source": []
  },
  {
   "cell_type": "markdown",
   "id": "dde82c47-4fb8-4e78-954a-6ed253963bfb",
   "metadata": {},
   "source": [
    "## Based on previous year/month/etc., this is up to you."
   ]
  },
  {
   "cell_type": "code",
   "execution_count": null,
   "id": "aecaf9c0-2c3f-447f-9595-17cf2bec1aa4",
   "metadata": {},
   "outputs": [],
   "source": []
  },
  {
   "cell_type": "markdown",
   "id": "bb8f998c-0eb1-4f9c-b32a-ba6f7e553c78",
   "metadata": {},
   "source": [
    "  "
   ]
  },
  {
   "cell_type": "markdown",
   "id": "8b32438b-4ee1-4ab9-8f65-5ca26986c231",
   "metadata": {},
   "source": [
    "  "
   ]
  },
  {
   "cell_type": "markdown",
   "id": "c5ba77ae-66ad-4e33-b1a3-fe86a4842f7c",
   "metadata": {},
   "source": [
    "  "
   ]
  },
  {
   "cell_type": "markdown",
   "id": "07b1bc03-d153-426f-8684-5ae311e4e75f",
   "metadata": {},
   "source": [
    "  "
   ]
  },
  {
   "cell_type": "markdown",
   "id": "54ca70e7-8f0b-4477-bf54-2daa4669571a",
   "metadata": {},
   "source": [
    "  "
   ]
  },
  {
   "cell_type": "markdown",
   "id": "7efa327c-a2b0-4c89-b636-92bf76f3ad44",
   "metadata": {},
   "source": [
    "  "
   ]
  },
  {
   "cell_type": "markdown",
   "id": "36b092cf-ee06-4e86-b158-56ec40fa68fc",
   "metadata": {},
   "source": [
    "# Bonus: "
   ]
  },
  {
   "cell_type": "markdown",
   "id": "f1e9352b-c54a-46b8-82a2-24a4dcc61d3f",
   "metadata": {},
   "source": [
    "### 1. Using the store item demand data, create a forecast of sales_total and quantity for 2018 using the Previous Cycle approach. ."
   ]
  },
  {
   "cell_type": "code",
   "execution_count": null,
   "id": "f2f23c43-e32c-4722-acbe-58528fa56901",
   "metadata": {},
   "outputs": [],
   "source": []
  },
  {
   "cell_type": "markdown",
   "id": "fd8d9049-7e3f-4ce5-8e24-8dc5b255aa6d",
   "metadata": {},
   "source": [
    "### 2. Predict 2018 total monthly sales for a single store and/or item by creating a model using prophet. 3. Return a dataframe with the month, store_id, y-hat, and the confidence intervals (y-hat lower, y-hat upper). 4. Plot the 2018 monthly sales predictions."
   ]
  },
  {
   "cell_type": "code",
   "execution_count": null,
   "id": "f2abbdd3-caac-44a5-a9ef-73a0a2cd5191",
   "metadata": {},
   "outputs": [],
   "source": []
  },
  {
   "cell_type": "markdown",
   "id": "064cc2d9-962b-42a4-9586-b413eb077953",
   "metadata": {},
   "source": []
  }
 ],
 "metadata": {
  "kernelspec": {
   "display_name": "Python 3 (ipykernel)",
   "language": "python",
   "name": "python3"
  },
  "language_info": {
   "codemirror_mode": {
    "name": "ipython",
    "version": 3
   },
   "file_extension": ".py",
   "mimetype": "text/x-python",
   "name": "python",
   "nbconvert_exporter": "python",
   "pygments_lexer": "ipython3",
   "version": "3.10.9"
  }
 },
 "nbformat": 4,
 "nbformat_minor": 5
}
