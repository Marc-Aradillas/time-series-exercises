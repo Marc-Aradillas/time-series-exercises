{
 "cells": [
  {
   "cell_type": "code",
   "execution_count": 1,
   "id": "e372355f-7a2a-4b22-91ca-83191ef4b55a",
   "metadata": {},
   "outputs": [],
   "source": [
    "import warnings\n",
    "\n",
    "warnings.filterwarnings(\"ignore\")\n",
    "\n",
    "from vega_datasets import data"
   ]
  },
  {
   "cell_type": "markdown",
   "id": "126a40da-2ddd-4b1d-b1c5-3d7286396718",
   "metadata": {},
   "source": [
    "# Exercises\n",
    "\n",
    "> For all of the datasets below, examine the data types of each column, ensure that the dates are in the proper format, and set the dataframe's index to the date column as appropriate.\n",
    "\n",
    "> For this exercise you'll need to install a library that will provide us access to some more datasets:\n",
    "\n",
    "\n",
    "> pip install vega_datasets ✔️\n",
    "You can use this library like so:"
   ]
  },
  {
   "cell_type": "markdown",
   "id": "5fbb2f37-8904-4e90-a7d5-320fbd8a9ed9",
   "metadata": {},
   "source": [
    "--------------------------------------------------------"
   ]
  },
  {
   "cell_type": "markdown",
   "id": "158d4bb6-fa88-4dcf-af78-aa124de32398",
   "metadata": {},
   "source": [
    "> Call the sf_temps() dataset from the vega_datasets library like so:"
   ]
  },
  {
   "cell_type": "code",
   "execution_count": 2,
   "id": "3278f929-1798-42f8-ada0-02c88789ca2b",
   "metadata": {},
   "outputs": [
    {
     "name": "stdout",
     "output_type": "stream",
     "text": [
      "<class 'pandas.core.frame.DataFrame'>\n",
      "RangeIndex: 8759 entries, 0 to 8758\n",
      "Data columns (total 2 columns):\n",
      " #   Column  Non-Null Count  Dtype         \n",
      "---  ------  --------------  -----         \n",
      " 0   temp    8759 non-null   float64       \n",
      " 1   date    8759 non-null   datetime64[ns]\n",
      "dtypes: datetime64[ns](1), float64(1)\n",
      "memory usage: 137.0 KB\n"
     ]
    }
   ],
   "source": [
    "df1 = data.sf_temps()\n",
    "df1.info()"
   ]
  },
  {
   "cell_type": "code",
   "execution_count": 3,
   "id": "91599c5e-42ce-4cba-a2c3-fcacb2749d09",
   "metadata": {},
   "outputs": [
    {
     "data": {
      "text/html": [
       "<div>\n",
       "<style scoped>\n",
       "    .dataframe tbody tr th:only-of-type {\n",
       "        vertical-align: middle;\n",
       "    }\n",
       "\n",
       "    .dataframe tbody tr th {\n",
       "        vertical-align: top;\n",
       "    }\n",
       "\n",
       "    .dataframe thead th {\n",
       "        text-align: right;\n",
       "    }\n",
       "</style>\n",
       "<table border=\"1\" class=\"dataframe\">\n",
       "  <thead>\n",
       "    <tr style=\"text-align: right;\">\n",
       "      <th></th>\n",
       "      <th>count</th>\n",
       "      <th>mean</th>\n",
       "      <th>std</th>\n",
       "      <th>min</th>\n",
       "      <th>25%</th>\n",
       "      <th>50%</th>\n",
       "      <th>75%</th>\n",
       "      <th>max</th>\n",
       "    </tr>\n",
       "  </thead>\n",
       "  <tbody>\n",
       "    <tr>\n",
       "      <th>temp</th>\n",
       "      <td>8759.0</td>\n",
       "      <td>56.924112</td>\n",
       "      <td>6.107079</td>\n",
       "      <td>45.6</td>\n",
       "      <td>52.3</td>\n",
       "      <td>56.5</td>\n",
       "      <td>60.7</td>\n",
       "      <td>72.2</td>\n",
       "    </tr>\n",
       "  </tbody>\n",
       "</table>\n",
       "</div>"
      ],
      "text/plain": [
       "       count       mean       std   min   25%   50%   75%   max\n",
       "temp  8759.0  56.924112  6.107079  45.6  52.3  56.5  60.7  72.2"
      ]
     },
     "execution_count": 3,
     "metadata": {},
     "output_type": "execute_result"
    }
   ],
   "source": [
    "df1.describe().T"
   ]
  },
  {
   "cell_type": "code",
   "execution_count": 4,
   "id": "09c572ba-68a2-4a2d-8afb-f9031490e73e",
   "metadata": {},
   "outputs": [
    {
     "data": {
      "text/html": [
       "<div>\n",
       "<style scoped>\n",
       "    .dataframe tbody tr th:only-of-type {\n",
       "        vertical-align: middle;\n",
       "    }\n",
       "\n",
       "    .dataframe tbody tr th {\n",
       "        vertical-align: top;\n",
       "    }\n",
       "\n",
       "    .dataframe thead th {\n",
       "        text-align: right;\n",
       "    }\n",
       "</style>\n",
       "<table border=\"1\" class=\"dataframe\">\n",
       "  <thead>\n",
       "    <tr style=\"text-align: right;\">\n",
       "      <th></th>\n",
       "      <th>temp</th>\n",
       "      <th>date</th>\n",
       "    </tr>\n",
       "  </thead>\n",
       "  <tbody>\n",
       "    <tr>\n",
       "      <th>0</th>\n",
       "      <td>47.8</td>\n",
       "      <td>2010-01-01 00:00:00</td>\n",
       "    </tr>\n",
       "    <tr>\n",
       "      <th>1</th>\n",
       "      <td>47.4</td>\n",
       "      <td>2010-01-01 01:00:00</td>\n",
       "    </tr>\n",
       "    <tr>\n",
       "      <th>2</th>\n",
       "      <td>46.9</td>\n",
       "      <td>2010-01-01 02:00:00</td>\n",
       "    </tr>\n",
       "    <tr>\n",
       "      <th>3</th>\n",
       "      <td>46.5</td>\n",
       "      <td>2010-01-01 03:00:00</td>\n",
       "    </tr>\n",
       "    <tr>\n",
       "      <th>4</th>\n",
       "      <td>46.0</td>\n",
       "      <td>2010-01-01 04:00:00</td>\n",
       "    </tr>\n",
       "  </tbody>\n",
       "</table>\n",
       "</div>"
      ],
      "text/plain": [
       "   temp                date\n",
       "0  47.8 2010-01-01 00:00:00\n",
       "1  47.4 2010-01-01 01:00:00\n",
       "2  46.9 2010-01-01 02:00:00\n",
       "3  46.5 2010-01-01 03:00:00\n",
       "4  46.0 2010-01-01 04:00:00"
      ]
     },
     "execution_count": 4,
     "metadata": {},
     "output_type": "execute_result"
    }
   ],
   "source": [
    "df1.head()"
   ]
  },
  {
   "cell_type": "code",
   "execution_count": 5,
   "id": "9eecf7d3-c85a-4ab0-b642-91720ac61169",
   "metadata": {},
   "outputs": [
    {
     "data": {
      "text/plain": [
       "2010-01-01 00:00:00    1\n",
       "2010-09-01 11:00:00    1\n",
       "2010-09-01 05:00:00    1\n",
       "2010-09-01 06:00:00    1\n",
       "2010-09-01 07:00:00    1\n",
       "                      ..\n",
       "2010-05-02 11:00:00    1\n",
       "2010-05-02 10:00:00    1\n",
       "2010-05-02 09:00:00    1\n",
       "2010-05-02 08:00:00    1\n",
       "2010-12-31 23:00:00    1\n",
       "Name: date, Length: 8759, dtype: int64"
      ]
     },
     "execution_count": 5,
     "metadata": {},
     "output_type": "execute_result"
    }
   ],
   "source": [
    "df1.date.value_counts()"
   ]
  },
  {
   "cell_type": "markdown",
   "id": "c18b9dd8-0b89-4d92-b48d-7f83b334f3b0",
   "metadata": {},
   "source": [
    "> Use the above dataset for the following exercises:"
   ]
  },
  {
   "cell_type": "markdown",
   "id": "36cc73bf-3698-4c71-8fbd-5437810b6045",
   "metadata": {},
   "source": [
    "* **Resample by the day and take the average temperature. Visualize the average temperature over time.**"
   ]
  },
  {
   "cell_type": "code",
   "execution_count": 6,
   "id": "4b6e5e43-3e5b-4e91-a501-58973c676095",
   "metadata": {},
   "outputs": [
    {
     "data": {
      "text/html": [
       "<div>\n",
       "<style scoped>\n",
       "    .dataframe tbody tr th:only-of-type {\n",
       "        vertical-align: middle;\n",
       "    }\n",
       "\n",
       "    .dataframe tbody tr th {\n",
       "        vertical-align: top;\n",
       "    }\n",
       "\n",
       "    .dataframe thead th {\n",
       "        text-align: right;\n",
       "    }\n",
       "</style>\n",
       "<table border=\"1\" class=\"dataframe\">\n",
       "  <thead>\n",
       "    <tr style=\"text-align: right;\">\n",
       "      <th></th>\n",
       "      <th>temp</th>\n",
       "    </tr>\n",
       "    <tr>\n",
       "      <th>date</th>\n",
       "      <th></th>\n",
       "    </tr>\n",
       "  </thead>\n",
       "  <tbody>\n",
       "    <tr>\n",
       "      <th>2010-01-01 00:00:00</th>\n",
       "      <td>47.8</td>\n",
       "    </tr>\n",
       "    <tr>\n",
       "      <th>2010-01-01 01:00:00</th>\n",
       "      <td>47.4</td>\n",
       "    </tr>\n",
       "    <tr>\n",
       "      <th>2010-01-01 02:00:00</th>\n",
       "      <td>46.9</td>\n",
       "    </tr>\n",
       "    <tr>\n",
       "      <th>2010-01-01 03:00:00</th>\n",
       "      <td>46.5</td>\n",
       "    </tr>\n",
       "    <tr>\n",
       "      <th>2010-01-01 04:00:00</th>\n",
       "      <td>46.0</td>\n",
       "    </tr>\n",
       "  </tbody>\n",
       "</table>\n",
       "</div>"
      ],
      "text/plain": [
       "                     temp\n",
       "date                     \n",
       "2010-01-01 00:00:00  47.8\n",
       "2010-01-01 01:00:00  47.4\n",
       "2010-01-01 02:00:00  46.9\n",
       "2010-01-01 03:00:00  46.5\n",
       "2010-01-01 04:00:00  46.0"
      ]
     },
     "execution_count": 6,
     "metadata": {},
     "output_type": "execute_result"
    }
   ],
   "source": [
    "# setting date as index\n",
    "df1 = df1.set_index('date')\n",
    "df1.head()"
   ]
  },
  {
   "cell_type": "code",
   "execution_count": 7,
   "id": "5a695e3c-01a1-4c12-b450-f334525c1c34",
   "metadata": {},
   "outputs": [
    {
     "data": {
      "text/html": [
       "<div>\n",
       "<style scoped>\n",
       "    .dataframe tbody tr th:only-of-type {\n",
       "        vertical-align: middle;\n",
       "    }\n",
       "\n",
       "    .dataframe tbody tr th {\n",
       "        vertical-align: top;\n",
       "    }\n",
       "\n",
       "    .dataframe thead th {\n",
       "        text-align: right;\n",
       "    }\n",
       "</style>\n",
       "<table border=\"1\" class=\"dataframe\">\n",
       "  <thead>\n",
       "    <tr style=\"text-align: right;\">\n",
       "      <th></th>\n",
       "      <th>temp</th>\n",
       "    </tr>\n",
       "    <tr>\n",
       "      <th>date</th>\n",
       "      <th></th>\n",
       "    </tr>\n",
       "  </thead>\n",
       "  <tbody>\n",
       "    <tr>\n",
       "      <th>2010-01-01 00:00:00</th>\n",
       "      <td>47.8</td>\n",
       "    </tr>\n",
       "    <tr>\n",
       "      <th>2010-01-01 01:00:00</th>\n",
       "      <td>47.4</td>\n",
       "    </tr>\n",
       "    <tr>\n",
       "      <th>2010-01-01 02:00:00</th>\n",
       "      <td>46.9</td>\n",
       "    </tr>\n",
       "  </tbody>\n",
       "</table>\n",
       "</div>"
      ],
      "text/plain": [
       "                     temp\n",
       "date                     \n",
       "2010-01-01 00:00:00  47.8\n",
       "2010-01-01 01:00:00  47.4\n",
       "2010-01-01 02:00:00  46.9"
      ]
     },
     "execution_count": 7,
     "metadata": {},
     "output_type": "execute_result"
    }
   ],
   "source": [
    "# sorting by date\n",
    "df1 = df1.sort_values(by='date')\n",
    "df1.head(3)"
   ]
  },
  {
   "cell_type": "code",
   "execution_count": 8,
   "id": "964cc5a5-65ea-47e7-b1f7-0d5d9cfd0ead",
   "metadata": {},
   "outputs": [],
   "source": [
    "df1 = df1.resample('d').mean()"
   ]
  },
  {
   "cell_type": "code",
   "execution_count": 9,
   "id": "d8d71515-73c4-48b4-8f0e-ca068a37254c",
   "metadata": {},
   "outputs": [
    {
     "data": {
      "text/html": [
       "<div>\n",
       "<style scoped>\n",
       "    .dataframe tbody tr th:only-of-type {\n",
       "        vertical-align: middle;\n",
       "    }\n",
       "\n",
       "    .dataframe tbody tr th {\n",
       "        vertical-align: top;\n",
       "    }\n",
       "\n",
       "    .dataframe thead th {\n",
       "        text-align: right;\n",
       "    }\n",
       "</style>\n",
       "<table border=\"1\" class=\"dataframe\">\n",
       "  <thead>\n",
       "    <tr style=\"text-align: right;\">\n",
       "      <th></th>\n",
       "      <th>temp</th>\n",
       "    </tr>\n",
       "    <tr>\n",
       "      <th>date</th>\n",
       "      <th></th>\n",
       "    </tr>\n",
       "  </thead>\n",
       "  <tbody>\n",
       "    <tr>\n",
       "      <th>2010-01-01</th>\n",
       "      <td>49.170833</td>\n",
       "    </tr>\n",
       "    <tr>\n",
       "      <th>2010-01-02</th>\n",
       "      <td>49.304167</td>\n",
       "    </tr>\n",
       "    <tr>\n",
       "      <th>2010-01-03</th>\n",
       "      <td>49.391667</td>\n",
       "    </tr>\n",
       "    <tr>\n",
       "      <th>2010-01-04</th>\n",
       "      <td>49.445833</td>\n",
       "    </tr>\n",
       "    <tr>\n",
       "      <th>2010-01-05</th>\n",
       "      <td>49.491667</td>\n",
       "    </tr>\n",
       "  </tbody>\n",
       "</table>\n",
       "</div>"
      ],
      "text/plain": [
       "                 temp\n",
       "date                 \n",
       "2010-01-01  49.170833\n",
       "2010-01-02  49.304167\n",
       "2010-01-03  49.391667\n",
       "2010-01-04  49.445833\n",
       "2010-01-05  49.491667"
      ]
     },
     "execution_count": 9,
     "metadata": {},
     "output_type": "execute_result"
    }
   ],
   "source": [
    "df1.head()"
   ]
  },
  {
   "cell_type": "code",
   "execution_count": 10,
   "id": "90e4ed51-f0b5-425a-92ac-bc0f516b6111",
   "metadata": {},
   "outputs": [
    {
     "data": {
      "image/png": "[encoded data removed]",
      "text/plain": [
       "<Figure size 640x480 with 1 Axes>"
      ]
     },
     "metadata": {},
     "output_type": "display_data"
    }
   ],
   "source": [
    "import matplotlib.pyplot as plt\n",
    "\n",
    "df1.plot()\n",
    "plt.title('Average temperature over days')\n",
    "plt.xlabel('Dates')\n",
    "plt.ylabel('Average Temp')\n",
    "plt.legend()\n",
    "plt.show()"
   ]
  },
  {
   "cell_type": "markdown",
   "id": "8bd2a7ba-ecbd-41ec-ab5f-6d51a15ed3b8",
   "metadata": {},
   "source": [
    "* **Write the code necessary to visualize the minimum temperature over time.**"
   ]
  },
  {
   "cell_type": "code",
   "execution_count": 11,
   "id": "f63c1f15-cab7-4496-a4e8-ee66e6a2bca3",
   "metadata": {},
   "outputs": [],
   "source": [
    "def prep_temps():\n",
    "    df = data.sf_temps()\n",
    "    df = df.set_index('date')\n",
    "    df = df.sort_values(by='date')\n",
    "\n",
    "    return df"
   ]
  },
  {
   "cell_type": "code",
   "execution_count": 12,
   "id": "a6f7137c-f47a-4a7f-b008-a8bae1b60a4d",
   "metadata": {},
   "outputs": [],
   "source": [
    "df1 = prep_temps()"
   ]
  },
  {
   "cell_type": "code",
   "execution_count": 13,
   "id": "c2950bfb-0f11-41f9-b7e5-0ec9a5be14cd",
   "metadata": {},
   "outputs": [
    {
     "data": {
      "text/html": [
       "<div>\n",
       "<style scoped>\n",
       "    .dataframe tbody tr th:only-of-type {\n",
       "        vertical-align: middle;\n",
       "    }\n",
       "\n",
       "    .dataframe tbody tr th {\n",
       "        vertical-align: top;\n",
       "    }\n",
       "\n",
       "    .dataframe thead th {\n",
       "        text-align: right;\n",
       "    }\n",
       "</style>\n",
       "<table border=\"1\" class=\"dataframe\">\n",
       "  <thead>\n",
       "    <tr style=\"text-align: right;\">\n",
       "      <th></th>\n",
       "      <th>temp</th>\n",
       "    </tr>\n",
       "    <tr>\n",
       "      <th>date</th>\n",
       "      <th></th>\n",
       "    </tr>\n",
       "  </thead>\n",
       "  <tbody>\n",
       "    <tr>\n",
       "      <th>2010-01-01</th>\n",
       "      <td>45.8</td>\n",
       "    </tr>\n",
       "    <tr>\n",
       "      <th>2010-01-02</th>\n",
       "      <td>46.0</td>\n",
       "    </tr>\n",
       "    <tr>\n",
       "      <th>2010-01-03</th>\n",
       "      <td>46.1</td>\n",
       "    </tr>\n",
       "    <tr>\n",
       "      <th>2010-01-04</th>\n",
       "      <td>46.1</td>\n",
       "    </tr>\n",
       "    <tr>\n",
       "      <th>2010-01-05</th>\n",
       "      <td>46.1</td>\n",
       "    </tr>\n",
       "  </tbody>\n",
       "</table>\n",
       "</div>"
      ],
      "text/plain": [
       "            temp\n",
       "date            \n",
       "2010-01-01  45.8\n",
       "2010-01-02  46.0\n",
       "2010-01-03  46.1\n",
       "2010-01-04  46.1\n",
       "2010-01-05  46.1"
      ]
     },
     "execution_count": 13,
     "metadata": {},
     "output_type": "execute_result"
    }
   ],
   "source": [
    "df1 = df1.resample('d').min()\n",
    "df1.head()"
   ]
  },
  {
   "cell_type": "code",
   "execution_count": 14,
   "id": "26cbbbf8-e610-4034-9fe0-f7148a37a291",
   "metadata": {},
   "outputs": [
    {
     "data": {
      "image/png": "[encoded data removed]",
      "text/plain": [
       "<Figure size 640x480 with 1 Axes>"
      ]
     },
     "metadata": {},
     "output_type": "display_data"
    }
   ],
   "source": [
    "df1.plot()\n",
    "plt.title('Minimum Temperature Over Days')\n",
    "plt.xlabel('Dates')\n",
    "plt.ylabel('Minimum Temp')\n",
    "plt.legend()\n",
    "plt.show()"
   ]
  },
  {
   "cell_type": "markdown",
   "id": "e95d277e-ea6f-474c-903f-9a427957bf2a",
   "metadata": {},
   "source": [
    "- I can see here that the line changed slightly, but still is representative of the trend and shape that the mean values had"
   ]
  },
  {
   "cell_type": "markdown",
   "id": "5b6469e3-9f7d-4568-845b-3861e414e6b1",
   "metadata": {},
   "source": [
    "* **Write the code necessary to visualize the maximum temperature over time.**"
   ]
  },
  {
   "cell_type": "code",
   "execution_count": 15,
   "id": "7bb32947-c027-4c97-8d45-7745661e4025",
   "metadata": {},
   "outputs": [],
   "source": [
    "df1 = prep_temps()"
   ]
  },
  {
   "cell_type": "code",
   "execution_count": 16,
   "id": "6010bc87-860c-45af-a1ae-cceb9a00a83e",
   "metadata": {},
   "outputs": [
    {
     "data": {
      "text/html": [
       "<div>\n",
       "<style scoped>\n",
       "    .dataframe tbody tr th:only-of-type {\n",
       "        vertical-align: middle;\n",
       "    }\n",
       "\n",
       "    .dataframe tbody tr th {\n",
       "        vertical-align: top;\n",
       "    }\n",
       "\n",
       "    .dataframe thead th {\n",
       "        text-align: right;\n",
       "    }\n",
       "</style>\n",
       "<table border=\"1\" class=\"dataframe\">\n",
       "  <thead>\n",
       "    <tr style=\"text-align: right;\">\n",
       "      <th></th>\n",
       "      <th>temp</th>\n",
       "    </tr>\n",
       "    <tr>\n",
       "      <th>date</th>\n",
       "      <th></th>\n",
       "    </tr>\n",
       "  </thead>\n",
       "  <tbody>\n",
       "    <tr>\n",
       "      <th>2010-01-01</th>\n",
       "      <td>53.3</td>\n",
       "    </tr>\n",
       "    <tr>\n",
       "      <th>2010-01-02</th>\n",
       "      <td>53.4</td>\n",
       "    </tr>\n",
       "  </tbody>\n",
       "</table>\n",
       "</div>"
      ],
      "text/plain": [
       "            temp\n",
       "date            \n",
       "2010-01-01  53.3\n",
       "2010-01-02  53.4"
      ]
     },
     "execution_count": 16,
     "metadata": {},
     "output_type": "execute_result"
    }
   ],
   "source": [
    "df1 = df1.resample('d').max()\n",
    "df1.head(2)"
   ]
  },
  {
   "cell_type": "code",
   "execution_count": 17,
   "id": "3c37e694-c984-4671-92f5-1e6a24b60137",
   "metadata": {},
   "outputs": [
    {
     "data": {
      "image/png": "[encoded data removed]",
      "text/plain": [
       "<Figure size 640x480 with 1 Axes>"
      ]
     },
     "metadata": {},
     "output_type": "display_data"
    }
   ],
   "source": [
    "df1.plot()\n",
    "plt.title('Maximum Temperature Over days')\n",
    "plt.xlabel('Days')\n",
    "plt.ylabel('Max Temp')\n",
    "plt.legend()\n",
    "plt.show()"
   ]
  },
  {
   "cell_type": "markdown",
   "id": "ad3186a3-e5b3-4200-82a9-380a012fbde7",
   "metadata": {},
   "source": [
    "* **Which month is the coldest, on average?**"
   ]
  },
  {
   "cell_type": "markdown",
   "id": "bb42a1b0-4dd5-4d54-a04a-e59dd64f8490",
   "metadata": {},
   "source": [
    "*The plot suggests that **January** is the coldest month*"
   ]
  },
  {
   "cell_type": "code",
   "execution_count": 18,
   "id": "d8e57f7e-7e12-471f-9cdc-67d70dd9d4b9",
   "metadata": {},
   "outputs": [
    {
     "data": {
      "text/plain": [
       "date\n",
       "2010-01-31    54.651613\n",
       "Freq: M, Name: temp, dtype: float64"
      ]
     },
     "execution_count": 18,
     "metadata": {},
     "output_type": "execute_result"
    }
   ],
   "source": [
    "monthly_avg_temp = df1.resample('M')['temp'].mean()\n",
    "monthly_avg_temp[:1]"
   ]
  },
  {
   "cell_type": "code",
   "execution_count": 19,
   "id": "34711978-c8cf-4a68-92d2-07684f01615c",
   "metadata": {},
   "outputs": [
    {
     "data": {
      "text/plain": [
       "Timestamp('2010-01-31 00:00:00', freq='M')"
      ]
     },
     "execution_count": 19,
     "metadata": {},
     "output_type": "execute_result"
    }
   ],
   "source": [
    "coldest_month = monthly_avg_temp.idxmin()\n",
    "coldest_month"
   ]
  },
  {
   "cell_type": "markdown",
   "id": "ff3bf65e-72bb-4001-918b-17aae5e426d3",
   "metadata": {},
   "source": [
    "* **Which month has the highest average temperature?**"
   ]
  },
  {
   "cell_type": "markdown",
   "id": "35a4c8e1-a12d-40df-84fa-0c00052ca3ea",
   "metadata": {},
   "source": [
    "*The plot suggests that **September** is the hottest month*"
   ]
  },
  {
   "cell_type": "code",
   "execution_count": 20,
   "id": "b5479b51-bccb-48ec-8acc-93a640d5c156",
   "metadata": {},
   "outputs": [
    {
     "data": {
      "text/plain": [
       "date\n",
       "2010-01-31    54.651613\n",
       "Freq: M, Name: temp, dtype: float64"
      ]
     },
     "execution_count": 20,
     "metadata": {},
     "output_type": "execute_result"
    }
   ],
   "source": [
    "monthly_avg_temp =  df1.resample('M')['temp'].mean()\n",
    "monthly_avg_temp[:1]"
   ]
  },
  {
   "cell_type": "code",
   "execution_count": 58,
   "id": "763554fe-0400-460e-bc63-f81daaa3a785",
   "metadata": {},
   "outputs": [
    {
     "data": {
      "text/plain": [
       "Timestamp('2010-09-30 00:00:00', freq='M')"
      ]
     },
     "execution_count": 58,
     "metadata": {},
     "output_type": "execute_result"
    }
   ],
   "source": [
    "hottest_month = monthly_avg_temp.idxmax()\n",
    "hottest_month"
   ]
  },
  {
   "cell_type": "markdown",
   "id": "957ca3a7-db4d-4a89-9b23-669e626c1e7a",
   "metadata": {},
   "source": [
    "* **Resample by the day and calculate the min and max temp for the day (Hint: .agg(['min', 'max'])). Use this resampled dataframe to calculate the change in temperature for the day. Which month has the highest daily temperature variability?**"
   ]
  },
  {
   "cell_type": "code",
   "execution_count": 22,
   "id": "2fd6de45-489d-42da-b404-78d5c7382eb2",
   "metadata": {},
   "outputs": [],
   "source": [
    "df1 = prep_temps()"
   ]
  },
  {
   "cell_type": "code",
   "execution_count": 23,
   "id": "0c49ef28-7f28-4196-b698-2a0629bd264c",
   "metadata": {},
   "outputs": [
    {
     "data": {
      "text/html": [
       "<div>\n",
       "<style scoped>\n",
       "    .dataframe tbody tr th:only-of-type {\n",
       "        vertical-align: middle;\n",
       "    }\n",
       "\n",
       "    .dataframe tbody tr th {\n",
       "        vertical-align: top;\n",
       "    }\n",
       "\n",
       "    .dataframe thead tr th {\n",
       "        text-align: left;\n",
       "    }\n",
       "\n",
       "    .dataframe thead tr:last-of-type th {\n",
       "        text-align: right;\n",
       "    }\n",
       "</style>\n",
       "<table border=\"1\" class=\"dataframe\">\n",
       "  <thead>\n",
       "    <tr>\n",
       "      <th></th>\n",
       "      <th colspan=\"2\" halign=\"left\">temp</th>\n",
       "    </tr>\n",
       "    <tr>\n",
       "      <th></th>\n",
       "      <th>min</th>\n",
       "      <th>max</th>\n",
       "    </tr>\n",
       "    <tr>\n",
       "      <th>date</th>\n",
       "      <th></th>\n",
       "      <th></th>\n",
       "    </tr>\n",
       "  </thead>\n",
       "  <tbody>\n",
       "    <tr>\n",
       "      <th>2010-01-01</th>\n",
       "      <td>45.8</td>\n",
       "      <td>53.3</td>\n",
       "    </tr>\n",
       "    <tr>\n",
       "      <th>2010-01-02</th>\n",
       "      <td>46.0</td>\n",
       "      <td>53.4</td>\n",
       "    </tr>\n",
       "    <tr>\n",
       "      <th>2010-01-03</th>\n",
       "      <td>46.1</td>\n",
       "      <td>53.5</td>\n",
       "    </tr>\n",
       "    <tr>\n",
       "      <th>2010-01-04</th>\n",
       "      <td>46.1</td>\n",
       "      <td>53.6</td>\n",
       "    </tr>\n",
       "    <tr>\n",
       "      <th>2010-01-05</th>\n",
       "      <td>46.1</td>\n",
       "      <td>53.8</td>\n",
       "    </tr>\n",
       "  </tbody>\n",
       "</table>\n",
       "</div>"
      ],
      "text/plain": [
       "            temp      \n",
       "             min   max\n",
       "date                  \n",
       "2010-01-01  45.8  53.3\n",
       "2010-01-02  46.0  53.4\n",
       "2010-01-03  46.1  53.5\n",
       "2010-01-04  46.1  53.6\n",
       "2010-01-05  46.1  53.8"
      ]
     },
     "execution_count": 23,
     "metadata": {},
     "output_type": "execute_result"
    }
   ],
   "source": [
    "df1 = df1.resample('d').agg(['min', 'max'])\n",
    "df1.head()"
   ]
  },
  {
   "cell_type": "code",
   "execution_count": 24,
   "id": "154b5766-49e1-49dd-b1d6-d2533f10d164",
   "metadata": {},
   "outputs": [
    {
     "data": {
      "image/png": "[encoded data removed]",
      "text/plain": [
       "<Figure size 640x480 with 1 Axes>"
      ]
     },
     "metadata": {},
     "output_type": "display_data"
    }
   ],
   "source": [
    "df1.plot()\n",
    "plt.title('Temp Variations Over days')\n",
    "plt.xlabel('Days')\n",
    "plt.ylabel('temps')\n",
    "plt.legend()\n",
    "plt.show()"
   ]
  },
  {
   "cell_type": "markdown",
   "id": "58600e33-0b78-4935-b748-f338ec66a859",
   "metadata": {},
   "source": [
    "- september"
   ]
  },
  {
   "cell_type": "markdown",
   "id": "e8ba15f8-b780-4b3e-bec4-00efa27cfc04",
   "metadata": {},
   "source": [
    "## Bonus: \n",
    "\n",
    "* **Visualize the daily min, average, and max temperature over time on a single line plot, i.e. the min, average, and maximum temperature should be 3 seperate lines.**"
   ]
  },
  {
   "cell_type": "code",
   "execution_count": 25,
   "id": "8b3c2e5e-68ce-4ecb-8291-fed9c6da8c19",
   "metadata": {},
   "outputs": [],
   "source": [
    "df1 = prep_temps()"
   ]
  },
  {
   "cell_type": "code",
   "execution_count": 26,
   "id": "7d80599b-e555-4dff-a8b5-71786561b97a",
   "metadata": {},
   "outputs": [
    {
     "data": {
      "text/html": [
       "<div>\n",
       "<style scoped>\n",
       "    .dataframe tbody tr th:only-of-type {\n",
       "        vertical-align: middle;\n",
       "    }\n",
       "\n",
       "    .dataframe tbody tr th {\n",
       "        vertical-align: top;\n",
       "    }\n",
       "\n",
       "    .dataframe thead th {\n",
       "        text-align: right;\n",
       "    }\n",
       "</style>\n",
       "<table border=\"1\" class=\"dataframe\">\n",
       "  <thead>\n",
       "    <tr style=\"text-align: right;\">\n",
       "      <th></th>\n",
       "      <th>temp</th>\n",
       "    </tr>\n",
       "    <tr>\n",
       "      <th>date</th>\n",
       "      <th></th>\n",
       "    </tr>\n",
       "  </thead>\n",
       "  <tbody>\n",
       "    <tr>\n",
       "      <th>2010-01-01 00:00:00</th>\n",
       "      <td>47.8</td>\n",
       "    </tr>\n",
       "    <tr>\n",
       "      <th>2010-01-01 01:00:00</th>\n",
       "      <td>47.4</td>\n",
       "    </tr>\n",
       "    <tr>\n",
       "      <th>2010-01-01 02:00:00</th>\n",
       "      <td>46.9</td>\n",
       "    </tr>\n",
       "    <tr>\n",
       "      <th>2010-01-01 03:00:00</th>\n",
       "      <td>46.5</td>\n",
       "    </tr>\n",
       "    <tr>\n",
       "      <th>2010-01-01 04:00:00</th>\n",
       "      <td>46.0</td>\n",
       "    </tr>\n",
       "  </tbody>\n",
       "</table>\n",
       "</div>"
      ],
      "text/plain": [
       "                     temp\n",
       "date                     \n",
       "2010-01-01 00:00:00  47.8\n",
       "2010-01-01 01:00:00  47.4\n",
       "2010-01-01 02:00:00  46.9\n",
       "2010-01-01 03:00:00  46.5\n",
       "2010-01-01 04:00:00  46.0"
      ]
     },
     "execution_count": 26,
     "metadata": {},
     "output_type": "execute_result"
    }
   ],
   "source": [
    "df1.head()"
   ]
  },
  {
   "cell_type": "markdown",
   "id": "01b56e71-016b-445f-a3cd-900b75384f53",
   "metadata": {},
   "source": [
    "# "
   ]
  },
  {
   "cell_type": "code",
   "execution_count": 27,
   "id": "03dd28ba-5ec3-44c0-8ce4-979533c97903",
   "metadata": {},
   "outputs": [
    {
     "data": {
      "text/html": [
       "<div>\n",
       "<style scoped>\n",
       "    .dataframe tbody tr th:only-of-type {\n",
       "        vertical-align: middle;\n",
       "    }\n",
       "\n",
       "    .dataframe tbody tr th {\n",
       "        vertical-align: top;\n",
       "    }\n",
       "\n",
       "    .dataframe thead tr th {\n",
       "        text-align: left;\n",
       "    }\n",
       "\n",
       "    .dataframe thead tr:last-of-type th {\n",
       "        text-align: right;\n",
       "    }\n",
       "</style>\n",
       "<table border=\"1\" class=\"dataframe\">\n",
       "  <thead>\n",
       "    <tr>\n",
       "      <th></th>\n",
       "      <th colspan=\"3\" halign=\"left\">temp</th>\n",
       "    </tr>\n",
       "    <tr>\n",
       "      <th></th>\n",
       "      <th>min</th>\n",
       "      <th>mean</th>\n",
       "      <th>max</th>\n",
       "    </tr>\n",
       "    <tr>\n",
       "      <th>date</th>\n",
       "      <th></th>\n",
       "      <th></th>\n",
       "      <th></th>\n",
       "    </tr>\n",
       "  </thead>\n",
       "  <tbody>\n",
       "    <tr>\n",
       "      <th>2010-01-01</th>\n",
       "      <td>45.8</td>\n",
       "      <td>49.170833</td>\n",
       "      <td>53.3</td>\n",
       "    </tr>\n",
       "    <tr>\n",
       "      <th>2010-01-02</th>\n",
       "      <td>46.0</td>\n",
       "      <td>49.304167</td>\n",
       "      <td>53.4</td>\n",
       "    </tr>\n",
       "    <tr>\n",
       "      <th>2010-01-03</th>\n",
       "      <td>46.1</td>\n",
       "      <td>49.391667</td>\n",
       "      <td>53.5</td>\n",
       "    </tr>\n",
       "    <tr>\n",
       "      <th>2010-01-04</th>\n",
       "      <td>46.1</td>\n",
       "      <td>49.445833</td>\n",
       "      <td>53.6</td>\n",
       "    </tr>\n",
       "    <tr>\n",
       "      <th>2010-01-05</th>\n",
       "      <td>46.1</td>\n",
       "      <td>49.491667</td>\n",
       "      <td>53.8</td>\n",
       "    </tr>\n",
       "  </tbody>\n",
       "</table>\n",
       "</div>"
      ],
      "text/plain": [
       "            temp                 \n",
       "             min       mean   max\n",
       "date                             \n",
       "2010-01-01  45.8  49.170833  53.3\n",
       "2010-01-02  46.0  49.304167  53.4\n",
       "2010-01-03  46.1  49.391667  53.5\n",
       "2010-01-04  46.1  49.445833  53.6\n",
       "2010-01-05  46.1  49.491667  53.8"
      ]
     },
     "execution_count": 27,
     "metadata": {},
     "output_type": "execute_result"
    }
   ],
   "source": [
    "df1 = df1.resample('d').agg(['min', 'mean', 'max'])\n",
    "df1.head()"
   ]
  },
  {
   "cell_type": "code",
   "execution_count": 28,
   "id": "86d8dc9a-1fa8-4e3d-b0fa-4592efd5309d",
   "metadata": {},
   "outputs": [
    {
     "data": {
      "image/png": "[encoded data removed]",
      "text/plain": [
       "<Figure size 640x480 with 1 Axes>"
      ]
     },
     "metadata": {},
     "output_type": "display_data"
    }
   ],
   "source": [
    "df1.plot()\n",
    "plt.title('Temp Variations Over days')\n",
    "plt.xlabel('Days')\n",
    "plt.ylabel('temps')\n",
    "plt.legend()\n",
    "plt.show()"
   ]
  },
  {
   "cell_type": "markdown",
   "id": "f144a0dd-d280-4a97-a181-e07253d24143",
   "metadata": {},
   "source": [
    "  "
   ]
  },
  {
   "cell_type": "markdown",
   "id": "fddee175-cd8a-4718-93ae-bf8da79b1669",
   "metadata": {},
   "source": [
    "  "
   ]
  },
  {
   "cell_type": "markdown",
   "id": "496b10df-211c-4d3c-b9d0-e9dece143585",
   "metadata": {},
   "source": [
    "  "
   ]
  },
  {
   "cell_type": "markdown",
   "id": "d0c7171e-7c08-4a08-9b6c-9ca5cfae8e37",
   "metadata": {},
   "source": [
    "  "
   ]
  },
  {
   "cell_type": "markdown",
   "id": "e219312f-49c7-42bb-a75d-da719d5b8358",
   "metadata": {},
   "source": [
    "  "
   ]
  },
  {
   "cell_type": "markdown",
   "id": "61cf6f16-73cd-4e39-97a4-2217ad4e03b9",
   "metadata": {},
   "source": [
    "  "
   ]
  },
  {
   "cell_type": "code",
   "execution_count": 29,
   "id": "2ee4b2b1-22be-4b74-8088-2aa4dfea633b",
   "metadata": {},
   "outputs": [],
   "source": [
    "df2 = data.seattle_weather()"
   ]
  },
  {
   "cell_type": "markdown",
   "id": "f3cb900a-17c6-4c59-a19b-aeab3063e617",
   "metadata": {},
   "source": [
    "> Use the above dataset for the following exercises:"
   ]
  },
  {
   "cell_type": "code",
   "execution_count": 30,
   "id": "1143333b-3b56-45b0-a76a-68b2845614e7",
   "metadata": {},
   "outputs": [
    {
     "name": "stdout",
     "output_type": "stream",
     "text": [
      "<class 'pandas.core.frame.DataFrame'>\n",
      "RangeIndex: 1461 entries, 0 to 1460\n",
      "Data columns (total 6 columns):\n",
      " #   Column         Non-Null Count  Dtype         \n",
      "---  ------         --------------  -----         \n",
      " 0   date           1461 non-null   datetime64[ns]\n",
      " 1   precipitation  1461 non-null   float64       \n",
      " 2   temp_max       1461 non-null   float64       \n",
      " 3   temp_min       1461 non-null   float64       \n",
      " 4   wind           1461 non-null   float64       \n",
      " 5   weather        1461 non-null   object        \n",
      "dtypes: datetime64[ns](1), float64(4), object(1)\n",
      "memory usage: 68.6+ KB\n"
     ]
    }
   ],
   "source": [
    "df2.info()"
   ]
  },
  {
   "cell_type": "code",
   "execution_count": 31,
   "id": "b8d5cf00-4ca3-41e7-80de-2ed72877cf9c",
   "metadata": {},
   "outputs": [
    {
     "data": {
      "text/html": [
       "<div>\n",
       "<style scoped>\n",
       "    .dataframe tbody tr th:only-of-type {\n",
       "        vertical-align: middle;\n",
       "    }\n",
       "\n",
       "    .dataframe tbody tr th {\n",
       "        vertical-align: top;\n",
       "    }\n",
       "\n",
       "    .dataframe thead th {\n",
       "        text-align: right;\n",
       "    }\n",
       "</style>\n",
       "<table border=\"1\" class=\"dataframe\">\n",
       "  <thead>\n",
       "    <tr style=\"text-align: right;\">\n",
       "      <th></th>\n",
       "      <th>count</th>\n",
       "      <th>mean</th>\n",
       "      <th>std</th>\n",
       "      <th>min</th>\n",
       "      <th>25%</th>\n",
       "      <th>50%</th>\n",
       "      <th>75%</th>\n",
       "      <th>max</th>\n",
       "    </tr>\n",
       "  </thead>\n",
       "  <tbody>\n",
       "    <tr>\n",
       "      <th>precipitation</th>\n",
       "      <td>1461.0</td>\n",
       "      <td>3.029432</td>\n",
       "      <td>6.680194</td>\n",
       "      <td>0.0</td>\n",
       "      <td>0.0</td>\n",
       "      <td>0.0</td>\n",
       "      <td>2.8</td>\n",
       "      <td>55.9</td>\n",
       "    </tr>\n",
       "    <tr>\n",
       "      <th>temp_max</th>\n",
       "      <td>1461.0</td>\n",
       "      <td>16.439083</td>\n",
       "      <td>7.349758</td>\n",
       "      <td>-1.6</td>\n",
       "      <td>10.6</td>\n",
       "      <td>15.6</td>\n",
       "      <td>22.2</td>\n",
       "      <td>35.6</td>\n",
       "    </tr>\n",
       "    <tr>\n",
       "      <th>temp_min</th>\n",
       "      <td>1461.0</td>\n",
       "      <td>8.234771</td>\n",
       "      <td>5.023004</td>\n",
       "      <td>-7.1</td>\n",
       "      <td>4.4</td>\n",
       "      <td>8.3</td>\n",
       "      <td>12.2</td>\n",
       "      <td>18.3</td>\n",
       "    </tr>\n",
       "    <tr>\n",
       "      <th>wind</th>\n",
       "      <td>1461.0</td>\n",
       "      <td>3.241136</td>\n",
       "      <td>1.437825</td>\n",
       "      <td>0.4</td>\n",
       "      <td>2.2</td>\n",
       "      <td>3.0</td>\n",
       "      <td>4.0</td>\n",
       "      <td>9.5</td>\n",
       "    </tr>\n",
       "  </tbody>\n",
       "</table>\n",
       "</div>"
      ],
      "text/plain": [
       "                count       mean       std  min   25%   50%   75%   max\n",
       "precipitation  1461.0   3.029432  6.680194  0.0   0.0   0.0   2.8  55.9\n",
       "temp_max       1461.0  16.439083  7.349758 -1.6  10.6  15.6  22.2  35.6\n",
       "temp_min       1461.0   8.234771  5.023004 -7.1   4.4   8.3  12.2  18.3\n",
       "wind           1461.0   3.241136  1.437825  0.4   2.2   3.0   4.0   9.5"
      ]
     },
     "execution_count": 31,
     "metadata": {},
     "output_type": "execute_result"
    }
   ],
   "source": [
    "df2.describe().T"
   ]
  },
  {
   "cell_type": "code",
   "execution_count": 32,
   "id": "72117629-f966-4290-8178-6108e74f762a",
   "metadata": {},
   "outputs": [
    {
     "data": {
      "text/html": [
       "<div>\n",
       "<style scoped>\n",
       "    .dataframe tbody tr th:only-of-type {\n",
       "        vertical-align: middle;\n",
       "    }\n",
       "\n",
       "    .dataframe tbody tr th {\n",
       "        vertical-align: top;\n",
       "    }\n",
       "\n",
       "    .dataframe thead th {\n",
       "        text-align: right;\n",
       "    }\n",
       "</style>\n",
       "<table border=\"1\" class=\"dataframe\">\n",
       "  <thead>\n",
       "    <tr style=\"text-align: right;\">\n",
       "      <th></th>\n",
       "      <th>date</th>\n",
       "      <th>precipitation</th>\n",
       "      <th>temp_max</th>\n",
       "      <th>temp_min</th>\n",
       "      <th>wind</th>\n",
       "      <th>weather</th>\n",
       "    </tr>\n",
       "  </thead>\n",
       "  <tbody>\n",
       "    <tr>\n",
       "      <th>0</th>\n",
       "      <td>2012-01-01</td>\n",
       "      <td>0.0</td>\n",
       "      <td>12.8</td>\n",
       "      <td>5.0</td>\n",
       "      <td>4.7</td>\n",
       "      <td>drizzle</td>\n",
       "    </tr>\n",
       "    <tr>\n",
       "      <th>1</th>\n",
       "      <td>2012-01-02</td>\n",
       "      <td>10.9</td>\n",
       "      <td>10.6</td>\n",
       "      <td>2.8</td>\n",
       "      <td>4.5</td>\n",
       "      <td>rain</td>\n",
       "    </tr>\n",
       "    <tr>\n",
       "      <th>2</th>\n",
       "      <td>2012-01-03</td>\n",
       "      <td>0.8</td>\n",
       "      <td>11.7</td>\n",
       "      <td>7.2</td>\n",
       "      <td>2.3</td>\n",
       "      <td>rain</td>\n",
       "    </tr>\n",
       "    <tr>\n",
       "      <th>3</th>\n",
       "      <td>2012-01-04</td>\n",
       "      <td>20.3</td>\n",
       "      <td>12.2</td>\n",
       "      <td>5.6</td>\n",
       "      <td>4.7</td>\n",
       "      <td>rain</td>\n",
       "    </tr>\n",
       "    <tr>\n",
       "      <th>4</th>\n",
       "      <td>2012-01-05</td>\n",
       "      <td>1.3</td>\n",
       "      <td>8.9</td>\n",
       "      <td>2.8</td>\n",
       "      <td>6.1</td>\n",
       "      <td>rain</td>\n",
       "    </tr>\n",
       "  </tbody>\n",
       "</table>\n",
       "</div>"
      ],
      "text/plain": [
       "        date  precipitation  temp_max  temp_min  wind  weather\n",
       "0 2012-01-01            0.0      12.8       5.0   4.7  drizzle\n",
       "1 2012-01-02           10.9      10.6       2.8   4.5     rain\n",
       "2 2012-01-03            0.8      11.7       7.2   2.3     rain\n",
       "3 2012-01-04           20.3      12.2       5.6   4.7     rain\n",
       "4 2012-01-05            1.3       8.9       2.8   6.1     rain"
      ]
     },
     "execution_count": 32,
     "metadata": {},
     "output_type": "execute_result"
    }
   ],
   "source": [
    "df2.head()"
   ]
  },
  {
   "cell_type": "markdown",
   "id": "3c5789de-f5cb-47be-8286-c895efbceb9c",
   "metadata": {},
   "source": [
    "* **Which year and month combination has the highest amount of precipitation?**"
   ]
  },
  {
   "cell_type": "code",
   "execution_count": 33,
   "id": "6de68a5d-602b-4925-b068-a568c4defa79",
   "metadata": {},
   "outputs": [],
   "source": [
    "def prep_sw():\n",
    "    df = data.seattle_weather()\n",
    "    df = df.set_index('date')\n",
    "    df = df.sort_values(by='date')\n",
    "    df = df.rename(columns={'precipitation' : 'rain'})\n",
    "\n",
    "    return df"
   ]
  },
  {
   "cell_type": "code",
   "execution_count": 34,
   "id": "8a2c6d57-1017-4ff6-861d-a563b3df8578",
   "metadata": {},
   "outputs": [],
   "source": [
    "df2 = prep_sw()"
   ]
  },
  {
   "cell_type": "code",
   "execution_count": 35,
   "id": "bf4b6b1a-83d0-4d3e-b0c6-dcb9826021f0",
   "metadata": {},
   "outputs": [],
   "source": [
    "# df2.resample('y','m').max('precipitation') (attempt 1)\n",
    "max_rain_month = df2.resample('M').sum()['rain'].idxmax()"
   ]
  },
  {
   "cell_type": "code",
   "execution_count": 36,
   "id": "0c698b53-9e66-4857-9529-049473c6320b",
   "metadata": {},
   "outputs": [
    {
     "data": {
      "text/plain": [
       "Timestamp('2015-12-31 00:00:00', freq='M')"
      ]
     },
     "execution_count": 36,
     "metadata": {},
     "output_type": "execute_result"
    }
   ],
   "source": [
    "max_rain_month"
   ]
  },
  {
   "cell_type": "markdown",
   "id": "f4046ab4-90fc-4924-b6ef-af1b2b6a297d",
   "metadata": {},
   "source": [
    "* **Visualize the amount of monthly precipitation over time.**"
   ]
  },
  {
   "cell_type": "code",
   "execution_count": 37,
   "id": "053e7195-a70f-43fb-bc0f-6757138a0bc1",
   "metadata": {},
   "outputs": [],
   "source": [
    "df2 = prep_sw()"
   ]
  },
  {
   "cell_type": "code",
   "execution_count": 38,
   "id": "f97cc72e-5623-4f46-a8d0-baf5504006eb",
   "metadata": {},
   "outputs": [],
   "source": [
    "df2 = df2.resample('m').sum()['rain']"
   ]
  },
  {
   "cell_type": "code",
   "execution_count": 39,
   "id": "d0ee7a2e-4850-4db2-9aca-f85f11efe7bc",
   "metadata": {},
   "outputs": [
    {
     "data": {
      "text/plain": [
       "date\n",
       "2012-01-31    173.3\n",
       "2012-02-29     92.3\n",
       "2012-03-31    183.0\n",
       "2012-04-30     68.1\n",
       "2012-05-31     52.2\n",
       "Freq: M, Name: rain, dtype: float64"
      ]
     },
     "execution_count": 39,
     "metadata": {},
     "output_type": "execute_result"
    }
   ],
   "source": [
    "df2.head()"
   ]
  },
  {
   "cell_type": "code",
   "execution_count": 40,
   "id": "6ffb6705-c383-45e0-a120-1eb6730c03f7",
   "metadata": {},
   "outputs": [
    {
     "data": {
      "image/png": "[encoded data removed]",
      "text/plain": [
       "<Figure size 640x480 with 1 Axes>"
      ]
     },
     "metadata": {},
     "output_type": "display_data"
    }
   ],
   "source": [
    "df2.plot()\n",
    "plt.title('Rain by Month')\n",
    "plt.xlabel('Months')\n",
    "plt.ylabel('Rain')\n",
    "plt.legend()\n",
    "plt.show()"
   ]
  },
  {
   "cell_type": "markdown",
   "id": "9a9d68a5-b2cc-4b8e-bd28-626e88cddad8",
   "metadata": {},
   "source": [
    "* **Visualize the amount of wind over time. Choose a time interval you think is appropriate.**"
   ]
  },
  {
   "cell_type": "markdown",
   "id": "424f5208-e7bc-4b3c-b968-273f12bb203a",
   "metadata": {},
   "source": [
    "### Days intervals"
   ]
  },
  {
   "cell_type": "code",
   "execution_count": 41,
   "id": "e9b505c9-c2bb-491c-aee7-a504b107c2b9",
   "metadata": {},
   "outputs": [],
   "source": [
    "df2 = prep_sw()"
   ]
  },
  {
   "cell_type": "code",
   "execution_count": 42,
   "id": "1273968c-d62b-420c-b400-2e33b1d13e1b",
   "metadata": {},
   "outputs": [],
   "source": [
    "df2 = df2.resample('d').sum()['wind']"
   ]
  },
  {
   "cell_type": "code",
   "execution_count": 43,
   "id": "f266f25e-c99b-4c16-94dd-8ca90abd94ed",
   "metadata": {},
   "outputs": [
    {
     "data": {
      "text/plain": [
       "date\n",
       "2012-01-01    4.7\n",
       "2012-01-02    4.5\n",
       "2012-01-03    2.3\n",
       "2012-01-04    4.7\n",
       "2012-01-05    6.1\n",
       "Freq: D, Name: wind, dtype: float64"
      ]
     },
     "execution_count": 43,
     "metadata": {},
     "output_type": "execute_result"
    }
   ],
   "source": [
    "df2.head()"
   ]
  },
  {
   "cell_type": "code",
   "execution_count": 44,
   "id": "58244eda-986a-4978-9d91-191b14403792",
   "metadata": {},
   "outputs": [
    {
     "data": {
      "image/png": "[encoded data removed]",
      "text/plain": [
       "<Figure size 640x480 with 1 Axes>"
      ]
     },
     "metadata": {},
     "output_type": "display_data"
    }
   ],
   "source": [
    "df2.plot()\n",
    "plt.title('Wind by Days')\n",
    "plt.xlabel('Days')\n",
    "plt.ylabel('Wind')\n",
    "plt.legend()\n",
    "plt.show()"
   ]
  },
  {
   "cell_type": "markdown",
   "id": "0a1200e1-b955-4dfd-a1cc-16b3303ccdd3",
   "metadata": {},
   "source": [
    "-----------------------------"
   ]
  },
  {
   "cell_type": "markdown",
   "id": "85b13ed0-b539-427a-b938-a0ffc0595933",
   "metadata": {},
   "source": [
    "### Months intervals"
   ]
  },
  {
   "cell_type": "code",
   "execution_count": 45,
   "id": "32fc0106-9860-400c-8f4a-ee707dc60389",
   "metadata": {},
   "outputs": [],
   "source": [
    "df2 = prep_sw()"
   ]
  },
  {
   "cell_type": "code",
   "execution_count": 46,
   "id": "9f5ede65-ac52-4f5d-a0ed-55514e0cd214",
   "metadata": {},
   "outputs": [],
   "source": [
    "df2 = df2.resample('m').sum()['wind']"
   ]
  },
  {
   "cell_type": "code",
   "execution_count": 47,
   "id": "88ad5420-0466-4b63-990a-5853192aceea",
   "metadata": {},
   "outputs": [
    {
     "data": {
      "text/plain": [
       "date\n",
       "2012-01-31    120.9\n",
       "2012-02-29    113.2\n",
       "2012-03-31    131.7\n",
       "2012-04-30    101.2\n",
       "2012-05-31    104.0\n",
       "Freq: M, Name: wind, dtype: float64"
      ]
     },
     "execution_count": 47,
     "metadata": {},
     "output_type": "execute_result"
    }
   ],
   "source": [
    "df2.head()"
   ]
  },
  {
   "cell_type": "code",
   "execution_count": 48,
   "id": "5013ae7c-9648-412f-bdc5-ead574a01eb0",
   "metadata": {},
   "outputs": [
    {
     "data": {
      "image/png": "[encoded data removed]",
      "text/plain": [
       "<Figure size 640x480 with 1 Axes>"
      ]
     },
     "metadata": {},
     "output_type": "display_data"
    }
   ],
   "source": [
    "df2.plot()\n",
    "plt.title('Wind by Months')\n",
    "plt.xlabel('months')\n",
    "plt.ylabel('Wind')\n",
    "plt.legend()\n",
    "plt.show()"
   ]
  },
  {
   "cell_type": "markdown",
   "id": "5ea8b4b2-dba2-461e-b8fb-c33f998754a1",
   "metadata": {},
   "source": [
    "-----------"
   ]
  },
  {
   "cell_type": "markdown",
   "id": "450ba9ae-55f3-4c34-ac70-4c27c9ce0176",
   "metadata": {},
   "source": [
    "### Years intervals"
   ]
  },
  {
   "cell_type": "code",
   "execution_count": 49,
   "id": "934bbbd2-8cc0-4bf2-8f4c-8fd265037737",
   "metadata": {},
   "outputs": [],
   "source": [
    "df2 = prep_sw()"
   ]
  },
  {
   "cell_type": "code",
   "execution_count": 50,
   "id": "b57f1715-145d-4775-b354-bccb745666cb",
   "metadata": {},
   "outputs": [],
   "source": [
    "df2 = df2.resample('y').sum()['wind']"
   ]
  },
  {
   "cell_type": "code",
   "execution_count": 51,
   "id": "de197795-5231-4790-bd5f-89d5295fe5c8",
   "metadata": {},
   "outputs": [
    {
     "data": {
      "text/plain": [
       "date\n",
       "2012-12-31    1244.7\n",
       "2013-12-31    1100.8\n",
       "2014-12-31    1236.5\n",
       "2015-12-31    1153.3\n",
       "Freq: A-DEC, Name: wind, dtype: float64"
      ]
     },
     "execution_count": 51,
     "metadata": {},
     "output_type": "execute_result"
    }
   ],
   "source": [
    "df2.head()"
   ]
  },
  {
   "cell_type": "code",
   "execution_count": 52,
   "id": "62d2d988-94c5-4cd9-987f-8cea617476f1",
   "metadata": {},
   "outputs": [
    {
     "data": {
      "image/png": "[encoded data removed]",
      "text/plain": [
       "<Figure size 640x480 with 1 Axes>"
      ]
     },
     "metadata": {},
     "output_type": "display_data"
    }
   ],
   "source": [
    "df2.plot()\n",
    "plt.title('Wind by Year')\n",
    "plt.xlabel('Years')\n",
    "plt.ylabel('Winds')\n",
    "plt.legend()\n",
    "plt.show()"
   ]
  },
  {
   "cell_type": "markdown",
   "id": "ba81e34f-849d-4a29-bc6e-91f39b3524d5",
   "metadata": {},
   "source": [
    "* **Which year-month combination is the windiest?**"
   ]
  },
  {
   "cell_type": "code",
   "execution_count": 53,
   "id": "c3989361-8b30-450a-9016-5a4e2ee93fc0",
   "metadata": {},
   "outputs": [],
   "source": [
    "df2 = prep_sw()"
   ]
  },
  {
   "cell_type": "code",
   "execution_count": 54,
   "id": "27338027-ed19-45d2-a01c-356eaa0c40ce",
   "metadata": {},
   "outputs": [
    {
     "data": {
      "text/plain": [
       "Timestamp('2012-12-17 00:00:00')"
      ]
     },
     "execution_count": 54,
     "metadata": {},
     "output_type": "execute_result"
    }
   ],
   "source": [
    "max_wind_index = df2['wind'].idxmax()\n",
    "max_wind_index"
   ]
  },
  {
   "cell_type": "code",
   "execution_count": 55,
   "id": "2115c9b3-cf78-4837-ae9c-2933898f87db",
   "metadata": {},
   "outputs": [
    {
     "data": {
      "text/plain": [
       "'2012-12'"
      ]
     },
     "execution_count": 55,
     "metadata": {},
     "output_type": "execute_result"
    }
   ],
   "source": [
    "month_year_combination = max_wind_index.strftime(\"%Y-%m\")\n",
    "month_year_combination"
   ]
  },
  {
   "cell_type": "markdown",
   "id": "e89295b5-5339-4c1e-92ff-bda83c8369e8",
   "metadata": {},
   "source": [
    "- december of 2012"
   ]
  },
  {
   "cell_type": "markdown",
   "id": "756c0572-6879-4d3d-ab60-bb04e88ce2dd",
   "metadata": {},
   "source": [
    "-----------"
   ]
  },
  {
   "cell_type": "markdown",
   "id": "88107b74-87af-4afd-b740-c010857fdffa",
   "metadata": {},
   "source": [
    "* **What's the sunniest year?** (*Hint: which year has the highest number of days where weather == sun?*)"
   ]
  },
  {
   "cell_type": "code",
   "execution_count": 210,
   "id": "756be867-8cb5-4409-9687-4e07b71c6b8e",
   "metadata": {},
   "outputs": [],
   "source": [
    "df2 = prep_sw()"
   ]
  },
  {
   "cell_type": "code",
   "execution_count": 211,
   "id": "23316529-cdb8-4ea7-ab48-02d7efd2b213",
   "metadata": {},
   "outputs": [
    {
     "data": {
      "text/html": [
       "<div>\n",
       "<style scoped>\n",
       "    .dataframe tbody tr th:only-of-type {\n",
       "        vertical-align: middle;\n",
       "    }\n",
       "\n",
       "    .dataframe tbody tr th {\n",
       "        vertical-align: top;\n",
       "    }\n",
       "\n",
       "    .dataframe thead th {\n",
       "        text-align: right;\n",
       "    }\n",
       "</style>\n",
       "<table border=\"1\" class=\"dataframe\">\n",
       "  <thead>\n",
       "    <tr style=\"text-align: right;\">\n",
       "      <th></th>\n",
       "      <th>rain</th>\n",
       "      <th>temp_max</th>\n",
       "      <th>temp_min</th>\n",
       "      <th>wind</th>\n",
       "      <th>weather</th>\n",
       "    </tr>\n",
       "    <tr>\n",
       "      <th>date</th>\n",
       "      <th></th>\n",
       "      <th></th>\n",
       "      <th></th>\n",
       "      <th></th>\n",
       "      <th></th>\n",
       "    </tr>\n",
       "  </thead>\n",
       "  <tbody>\n",
       "    <tr>\n",
       "      <th>2012-01-08</th>\n",
       "      <td>0.0</td>\n",
       "      <td>10.0</td>\n",
       "      <td>2.8</td>\n",
       "      <td>2.0</td>\n",
       "      <td>sun</td>\n",
       "    </tr>\n",
       "    <tr>\n",
       "      <th>2012-01-11</th>\n",
       "      <td>0.0</td>\n",
       "      <td>6.1</td>\n",
       "      <td>-1.1</td>\n",
       "      <td>5.1</td>\n",
       "      <td>sun</td>\n",
       "    </tr>\n",
       "    <tr>\n",
       "      <th>2012-01-12</th>\n",
       "      <td>0.0</td>\n",
       "      <td>6.1</td>\n",
       "      <td>-1.7</td>\n",
       "      <td>1.9</td>\n",
       "      <td>sun</td>\n",
       "    </tr>\n",
       "    <tr>\n",
       "      <th>2012-01-13</th>\n",
       "      <td>0.0</td>\n",
       "      <td>5.0</td>\n",
       "      <td>-2.8</td>\n",
       "      <td>1.3</td>\n",
       "      <td>sun</td>\n",
       "    </tr>\n",
       "    <tr>\n",
       "      <th>2012-02-02</th>\n",
       "      <td>0.0</td>\n",
       "      <td>8.3</td>\n",
       "      <td>1.7</td>\n",
       "      <td>2.6</td>\n",
       "      <td>sun</td>\n",
       "    </tr>\n",
       "    <tr>\n",
       "      <th>...</th>\n",
       "      <td>...</td>\n",
       "      <td>...</td>\n",
       "      <td>...</td>\n",
       "      <td>...</td>\n",
       "      <td>...</td>\n",
       "    </tr>\n",
       "    <tr>\n",
       "      <th>2015-12-13</th>\n",
       "      <td>1.3</td>\n",
       "      <td>7.8</td>\n",
       "      <td>6.1</td>\n",
       "      <td>6.1</td>\n",
       "      <td>sun</td>\n",
       "    </tr>\n",
       "    <tr>\n",
       "      <th>2015-12-14</th>\n",
       "      <td>0.0</td>\n",
       "      <td>7.8</td>\n",
       "      <td>1.7</td>\n",
       "      <td>1.7</td>\n",
       "      <td>sun</td>\n",
       "    </tr>\n",
       "    <tr>\n",
       "      <th>2015-12-26</th>\n",
       "      <td>0.0</td>\n",
       "      <td>4.4</td>\n",
       "      <td>0.0</td>\n",
       "      <td>2.5</td>\n",
       "      <td>sun</td>\n",
       "    </tr>\n",
       "    <tr>\n",
       "      <th>2015-12-30</th>\n",
       "      <td>0.0</td>\n",
       "      <td>5.6</td>\n",
       "      <td>-1.0</td>\n",
       "      <td>3.4</td>\n",
       "      <td>sun</td>\n",
       "    </tr>\n",
       "    <tr>\n",
       "      <th>2015-12-31</th>\n",
       "      <td>0.0</td>\n",
       "      <td>5.6</td>\n",
       "      <td>-2.1</td>\n",
       "      <td>3.5</td>\n",
       "      <td>sun</td>\n",
       "    </tr>\n",
       "  </tbody>\n",
       "</table>\n",
       "<p>714 rows × 5 columns</p>\n",
       "</div>"
      ],
      "text/plain": [
       "            rain  temp_max  temp_min  wind weather\n",
       "date                                              \n",
       "2012-01-08   0.0      10.0       2.8   2.0     sun\n",
       "2012-01-11   0.0       6.1      -1.1   5.1     sun\n",
       "2012-01-12   0.0       6.1      -1.7   1.9     sun\n",
       "2012-01-13   0.0       5.0      -2.8   1.3     sun\n",
       "2012-02-02   0.0       8.3       1.7   2.6     sun\n",
       "...          ...       ...       ...   ...     ...\n",
       "2015-12-13   1.3       7.8       6.1   6.1     sun\n",
       "2015-12-14   0.0       7.8       1.7   1.7     sun\n",
       "2015-12-26   0.0       4.4       0.0   2.5     sun\n",
       "2015-12-30   0.0       5.6      -1.0   3.4     sun\n",
       "2015-12-31   0.0       5.6      -2.1   3.5     sun\n",
       "\n",
       "[714 rows x 5 columns]"
      ]
     },
     "execution_count": 211,
     "metadata": {},
     "output_type": "execute_result"
    }
   ],
   "source": [
    "# boolean mask used to updated dataframe with weather as only sun\n",
    "df2 = df2[df2['weather'] == 'sun']\n",
    "df2"
   ]
  },
  {
   "cell_type": "code",
   "execution_count": 212,
   "id": "4f3675a3-198e-40c7-84ec-496dfa8e54db",
   "metadata": {},
   "outputs": [
    {
     "data": {
      "text/plain": [
       "date        weather\n",
       "2012-12-31  sun        118\n",
       "2013-12-31  sun        205\n",
       "2014-12-31  sun        211\n",
       "2015-12-31  sun        180\n",
       "Name: weather, dtype: int64"
      ]
     },
     "execution_count": 212,
     "metadata": {},
     "output_type": "execute_result"
    }
   ],
   "source": [
    "# resample by year and used value count methods to return day count of each year\n",
    "df2 = df2.resample('y')['weather'].value_counts()\n",
    "df2"
   ]
  },
  {
   "cell_type": "code",
   "execution_count": 213,
   "id": "07677809-25a1-426f-94a3-34b631caad19",
   "metadata": {
    "scrolled": true
   },
   "outputs": [
    {
     "data": {
      "text/plain": [
       "(Timestamp('2014-12-31 00:00:00', freq='A-DEC'), 'sun')"
      ]
     },
     "execution_count": 213,
     "metadata": {},
     "output_type": "execute_result"
    }
   ],
   "source": [
    "# returned max count from index with argmax method\n",
    "most_sunny_year = df2.index[df2.argmax()]\n",
    "most_sunny_year"
   ]
  },
  {
   "cell_type": "markdown",
   "id": "1add5562-0d2e-4e1b-ab76-080848418347",
   "metadata": {},
   "source": [
    "- The year 2014 had to most sunny days"
   ]
  },
  {
   "cell_type": "markdown",
   "id": "7e30430c-1a49-441f-bc84-8e69f3b2a468",
   "metadata": {},
   "source": [
    "-----------------"
   ]
  },
  {
   "cell_type": "markdown",
   "id": "33ca7d3d-fa5d-40fd-bfed-1e9f5ec8d7c2",
   "metadata": {},
   "source": [
    "* **In which month does it rain the most?**"
   ]
  },
  {
   "cell_type": "code",
   "execution_count": 235,
   "id": "ab54fb44-3eab-41f4-b72f-36a9d4083f14",
   "metadata": {},
   "outputs": [],
   "source": [
    "df2 = prep_sw()"
   ]
  },
  {
   "cell_type": "code",
   "execution_count": 236,
   "id": "77e647e4-13f2-424a-80e2-0007f5c2b48a",
   "metadata": {},
   "outputs": [
    {
     "data": {
      "text/html": [
       "<div>\n",
       "<style scoped>\n",
       "    .dataframe tbody tr th:only-of-type {\n",
       "        vertical-align: middle;\n",
       "    }\n",
       "\n",
       "    .dataframe tbody tr th {\n",
       "        vertical-align: top;\n",
       "    }\n",
       "\n",
       "    .dataframe thead th {\n",
       "        text-align: right;\n",
       "    }\n",
       "</style>\n",
       "<table border=\"1\" class=\"dataframe\">\n",
       "  <thead>\n",
       "    <tr style=\"text-align: right;\">\n",
       "      <th></th>\n",
       "      <th>rain</th>\n",
       "      <th>temp_max</th>\n",
       "      <th>temp_min</th>\n",
       "      <th>wind</th>\n",
       "      <th>weather</th>\n",
       "    </tr>\n",
       "    <tr>\n",
       "      <th>date</th>\n",
       "      <th></th>\n",
       "      <th></th>\n",
       "      <th></th>\n",
       "      <th></th>\n",
       "      <th></th>\n",
       "    </tr>\n",
       "  </thead>\n",
       "  <tbody>\n",
       "    <tr>\n",
       "      <th>2012-01-01</th>\n",
       "      <td>0.0</td>\n",
       "      <td>12.8</td>\n",
       "      <td>5.0</td>\n",
       "      <td>4.7</td>\n",
       "      <td>drizzle</td>\n",
       "    </tr>\n",
       "    <tr>\n",
       "      <th>2012-01-02</th>\n",
       "      <td>10.9</td>\n",
       "      <td>10.6</td>\n",
       "      <td>2.8</td>\n",
       "      <td>4.5</td>\n",
       "      <td>rain</td>\n",
       "    </tr>\n",
       "  </tbody>\n",
       "</table>\n",
       "</div>"
      ],
      "text/plain": [
       "            rain  temp_max  temp_min  wind  weather\n",
       "date                                               \n",
       "2012-01-01   0.0      12.8       5.0   4.7  drizzle\n",
       "2012-01-02  10.9      10.6       2.8   4.5     rain"
      ]
     },
     "execution_count": 236,
     "metadata": {},
     "output_type": "execute_result"
    }
   ],
   "source": [
    "df2.head(2)"
   ]
  },
  {
   "cell_type": "code",
   "execution_count": 237,
   "id": "14ab26f4-d541-4efc-be8c-f407459d41ee",
   "metadata": {},
   "outputs": [
    {
     "data": {
      "text/html": [
       "<div>\n",
       "<style scoped>\n",
       "    .dataframe tbody tr th:only-of-type {\n",
       "        vertical-align: middle;\n",
       "    }\n",
       "\n",
       "    .dataframe tbody tr th {\n",
       "        vertical-align: top;\n",
       "    }\n",
       "\n",
       "    .dataframe thead th {\n",
       "        text-align: right;\n",
       "    }\n",
       "</style>\n",
       "<table border=\"1\" class=\"dataframe\">\n",
       "  <thead>\n",
       "    <tr style=\"text-align: right;\">\n",
       "      <th></th>\n",
       "      <th>rain</th>\n",
       "      <th>temp_max</th>\n",
       "      <th>temp_min</th>\n",
       "      <th>wind</th>\n",
       "      <th>weather</th>\n",
       "    </tr>\n",
       "    <tr>\n",
       "      <th>date</th>\n",
       "      <th></th>\n",
       "      <th></th>\n",
       "      <th></th>\n",
       "      <th></th>\n",
       "      <th></th>\n",
       "    </tr>\n",
       "  </thead>\n",
       "  <tbody>\n",
       "    <tr>\n",
       "      <th>2012-01-02</th>\n",
       "      <td>10.9</td>\n",
       "      <td>10.6</td>\n",
       "      <td>2.8</td>\n",
       "      <td>4.5</td>\n",
       "      <td>rain</td>\n",
       "    </tr>\n",
       "    <tr>\n",
       "      <th>2012-01-03</th>\n",
       "      <td>0.8</td>\n",
       "      <td>11.7</td>\n",
       "      <td>7.2</td>\n",
       "      <td>2.3</td>\n",
       "      <td>rain</td>\n",
       "    </tr>\n",
       "  </tbody>\n",
       "</table>\n",
       "</div>"
      ],
      "text/plain": [
       "            rain  temp_max  temp_min  wind weather\n",
       "date                                              \n",
       "2012-01-02  10.9      10.6       2.8   4.5    rain\n",
       "2012-01-03   0.8      11.7       7.2   2.3    rain"
      ]
     },
     "execution_count": 237,
     "metadata": {},
     "output_type": "execute_result"
    }
   ],
   "source": [
    "df2 = df2[df2['weather'] == 'rain']\n",
    "df2.head(2)"
   ]
  },
  {
   "cell_type": "code",
   "execution_count": null,
   "id": "d16f05e6-745f-497e-94b2-f2bc98eb7c22",
   "metadata": {},
   "outputs": [],
   "source": []
  },
  {
   "cell_type": "code",
   "execution_count": 238,
   "id": "69b0802d-0c32-47b6-af29-4b13a1fd5364",
   "metadata": {},
   "outputs": [
    {
     "data": {
      "text/plain": [
       "date        weather\n",
       "2012-01-31  rain       18\n",
       "2012-02-29  rain       17\n",
       "2012-03-31  rain       19\n",
       "2012-04-30  rain       19\n",
       "2012-05-31  rain       16\n",
       "2012-06-30  rain       19\n",
       "2012-07-31  rain       12\n",
       "2012-08-31  rain        2\n",
       "2012-09-30  rain        4\n",
       "2012-10-31  rain       17\n",
       "2012-11-30  rain       25\n",
       "2012-12-31  rain       23\n",
       "2013-01-31  rain       16\n",
       "2013-02-28  rain       23\n",
       "2013-03-31  rain       18\n",
       "2013-07-31  rain        1\n",
       "2013-08-31  rain        1\n",
       "2013-10-31  rain        1\n",
       "2014-07-31  rain        1\n",
       "2014-08-31  rain        1\n",
       "2014-10-31  rain        1\n",
       "2015-01-31  rain        1\n",
       "2015-04-30  rain        1\n",
       "2015-08-31  rain        2\n",
       "2015-10-31  rain        1\n",
       "Name: weather, dtype: int64"
      ]
     },
     "execution_count": 238,
     "metadata": {},
     "output_type": "execute_result"
    }
   ],
   "source": [
    "df2 = df2.resample('M')['weather'].value_counts()\n",
    "df2"
   ]
  },
  {
   "cell_type": "code",
   "execution_count": 239,
   "id": "8f3a7af5-2c19-4a83-b94f-646869d6ac23",
   "metadata": {},
   "outputs": [
    {
     "data": {
      "text/plain": [
       "(Timestamp('2012-11-30 00:00:00', freq='M'), 'rain')"
      ]
     },
     "execution_count": 239,
     "metadata": {},
     "output_type": "execute_result"
    }
   ],
   "source": [
    "# returned max count from index with argmax method\n",
    "most_rainy_month = df2.index[df2.argmax()]\n",
    "most_rainy_month"
   ]
  },
  {
   "cell_type": "markdown",
   "id": "30741401-985a-43ab-8910-e994de70f8c8",
   "metadata": {},
   "source": [
    "- November has the most rain"
   ]
  },
  {
   "cell_type": "markdown",
   "id": "35b2852b-46ed-4219-98db-884b050dbce1",
   "metadata": {},
   "source": [
    "-------"
   ]
  },
  {
   "cell_type": "markdown",
   "id": "7f5d3a93-aaf4-483a-96fa-71297df5afe8",
   "metadata": {},
   "source": [
    "* **Which month has the most number of days with a non-zero amount of precipitation?**"
   ]
  },
  {
   "cell_type": "code",
   "execution_count": 289,
   "id": "d4275ba2-8400-4b7d-8b89-d452786b264e",
   "metadata": {},
   "outputs": [],
   "source": [
    "df2 = prep_sw()"
   ]
  },
  {
   "cell_type": "code",
   "execution_count": 290,
   "id": "e5cfd601-267b-4854-a43b-e96774fc59f4",
   "metadata": {},
   "outputs": [
    {
     "data": {
      "text/html": [
       "<div>\n",
       "<style scoped>\n",
       "    .dataframe tbody tr th:only-of-type {\n",
       "        vertical-align: middle;\n",
       "    }\n",
       "\n",
       "    .dataframe tbody tr th {\n",
       "        vertical-align: top;\n",
       "    }\n",
       "\n",
       "    .dataframe thead th {\n",
       "        text-align: right;\n",
       "    }\n",
       "</style>\n",
       "<table border=\"1\" class=\"dataframe\">\n",
       "  <thead>\n",
       "    <tr style=\"text-align: right;\">\n",
       "      <th></th>\n",
       "      <th>rain</th>\n",
       "      <th>temp_max</th>\n",
       "      <th>temp_min</th>\n",
       "      <th>wind</th>\n",
       "      <th>weather</th>\n",
       "    </tr>\n",
       "    <tr>\n",
       "      <th>date</th>\n",
       "      <th></th>\n",
       "      <th></th>\n",
       "      <th></th>\n",
       "      <th></th>\n",
       "      <th></th>\n",
       "    </tr>\n",
       "  </thead>\n",
       "  <tbody>\n",
       "    <tr>\n",
       "      <th>2012-01-02</th>\n",
       "      <td>10.9</td>\n",
       "      <td>10.6</td>\n",
       "      <td>2.8</td>\n",
       "      <td>4.5</td>\n",
       "      <td>rain</td>\n",
       "    </tr>\n",
       "    <tr>\n",
       "      <th>2012-01-03</th>\n",
       "      <td>0.8</td>\n",
       "      <td>11.7</td>\n",
       "      <td>7.2</td>\n",
       "      <td>2.3</td>\n",
       "      <td>rain</td>\n",
       "    </tr>\n",
       "    <tr>\n",
       "      <th>2012-01-04</th>\n",
       "      <td>20.3</td>\n",
       "      <td>12.2</td>\n",
       "      <td>5.6</td>\n",
       "      <td>4.7</td>\n",
       "      <td>rain</td>\n",
       "    </tr>\n",
       "    <tr>\n",
       "      <th>2012-01-05</th>\n",
       "      <td>1.3</td>\n",
       "      <td>8.9</td>\n",
       "      <td>2.8</td>\n",
       "      <td>6.1</td>\n",
       "      <td>rain</td>\n",
       "    </tr>\n",
       "    <tr>\n",
       "      <th>2012-01-06</th>\n",
       "      <td>2.5</td>\n",
       "      <td>4.4</td>\n",
       "      <td>2.2</td>\n",
       "      <td>2.2</td>\n",
       "      <td>rain</td>\n",
       "    </tr>\n",
       "  </tbody>\n",
       "</table>\n",
       "</div>"
      ],
      "text/plain": [
       "            rain  temp_max  temp_min  wind weather\n",
       "date                                              \n",
       "2012-01-02  10.9      10.6       2.8   4.5    rain\n",
       "2012-01-03   0.8      11.7       7.2   2.3    rain\n",
       "2012-01-04  20.3      12.2       5.6   4.7    rain\n",
       "2012-01-05   1.3       8.9       2.8   6.1    rain\n",
       "2012-01-06   2.5       4.4       2.2   2.2    rain"
      ]
     },
     "execution_count": 290,
     "metadata": {},
     "output_type": "execute_result"
    }
   ],
   "source": [
    "df2 = df2[df2['rain'] != 0]\n",
    "df2.head()"
   ]
  },
  {
   "cell_type": "code",
   "execution_count": 291,
   "id": "3850dfd3-b89e-4ebd-94fd-8a83813e718b",
   "metadata": {},
   "outputs": [],
   "source": [
    "df2 = df2.resample('m')['rain'].count()"
   ]
  },
  {
   "cell_type": "code",
   "execution_count": 292,
   "id": "b80f372c-eff3-4ce9-b899-97f5288de2b3",
   "metadata": {},
   "outputs": [
    {
     "data": {
      "text/plain": [
       "date\n",
       "2012-01-31    22\n",
       "2012-02-29    19\n",
       "2012-03-31    22\n",
       "2012-04-30    17\n",
       "2012-05-31    10\n",
       "Freq: M, Name: rain, dtype: int64"
      ]
     },
     "execution_count": 292,
     "metadata": {},
     "output_type": "execute_result"
    }
   ],
   "source": [
    "df2.head()"
   ]
  },
  {
   "cell_type": "code",
   "execution_count": 294,
   "id": "040daf93-af32-43ef-a191-623ef062e63c",
   "metadata": {},
   "outputs": [
    {
     "data": {
      "text/plain": [
       "Timestamp('2012-12-31 00:00:00', freq='M')"
      ]
     },
     "execution_count": 294,
     "metadata": {},
     "output_type": "execute_result"
    }
   ],
   "source": [
    "most_rainy_month = df2.index[df2.argmax()]\n",
    "most_rainy_month"
   ]
  },
  {
   "cell_type": "markdown",
   "id": "38daa677-6b88-4159-8c93-64b54674694e",
   "metadata": {},
   "source": [
    "  "
   ]
  },
  {
   "cell_type": "markdown",
   "id": "6041b215-2489-4ef5-82e6-a9cc1891be4b",
   "metadata": {},
   "source": [
    "  "
   ]
  },
  {
   "cell_type": "markdown",
   "id": "8cbbd019-3c2b-486b-aa8b-cfe5ee58d850",
   "metadata": {},
   "source": [
    "  "
   ]
  },
  {
   "cell_type": "markdown",
   "id": "1ce2a2bf-8b98-4224-84b1-5c926697d309",
   "metadata": {},
   "source": [
    "  "
   ]
  },
  {
   "cell_type": "markdown",
   "id": "4fa90b1e-dd2f-4278-8676-13ba1c4d8d56",
   "metadata": {},
   "source": [
    "  "
   ]
  },
  {
   "cell_type": "markdown",
   "id": "f1b071da-c55c-40b6-bd8c-aa9b11b2d05b",
   "metadata": {},
   "source": [
    "  "
   ]
  },
  {
   "cell_type": "code",
   "execution_count": 296,
   "id": "3e169dd3-735b-4af4-b4e3-05dac432d3b9",
   "metadata": {},
   "outputs": [],
   "source": [
    "df3 = data.flights_20k()"
   ]
  },
  {
   "cell_type": "markdown",
   "id": "24364eef-cd9d-47c6-9a8a-7d0cd6cafb8d",
   "metadata": {},
   "source": [
    "> Use the above dataset for the following exercises:"
   ]
  },
  {
   "cell_type": "code",
   "execution_count": 298,
   "id": "3f650446-3d2f-4265-9779-73069902fac8",
   "metadata": {},
   "outputs": [
    {
     "name": "stdout",
     "output_type": "stream",
     "text": [
      "<class 'pandas.core.frame.DataFrame'>\n",
      "RangeIndex: 20000 entries, 0 to 19999\n",
      "Data columns (total 5 columns):\n",
      " #   Column       Non-Null Count  Dtype         \n",
      "---  ------       --------------  -----         \n",
      " 0   date         20000 non-null  datetime64[ns]\n",
      " 1   delay        20000 non-null  int64         \n",
      " 2   distance     20000 non-null  int64         \n",
      " 3   origin       20000 non-null  object        \n",
      " 4   destination  20000 non-null  object        \n",
      "dtypes: datetime64[ns](1), int64(2), object(2)\n",
      "memory usage: 781.4+ KB\n"
     ]
    }
   ],
   "source": [
    "df3.info()"
   ]
  },
  {
   "cell_type": "code",
   "execution_count": 299,
   "id": "9969319c-da81-4997-8633-16fbb7a44af7",
   "metadata": {},
   "outputs": [
    {
     "data": {
      "text/html": [
       "<div>\n",
       "<style scoped>\n",
       "    .dataframe tbody tr th:only-of-type {\n",
       "        vertical-align: middle;\n",
       "    }\n",
       "\n",
       "    .dataframe tbody tr th {\n",
       "        vertical-align: top;\n",
       "    }\n",
       "\n",
       "    .dataframe thead th {\n",
       "        text-align: right;\n",
       "    }\n",
       "</style>\n",
       "<table border=\"1\" class=\"dataframe\">\n",
       "  <thead>\n",
       "    <tr style=\"text-align: right;\">\n",
       "      <th></th>\n",
       "      <th>delay</th>\n",
       "      <th>distance</th>\n",
       "    </tr>\n",
       "  </thead>\n",
       "  <tbody>\n",
       "    <tr>\n",
       "      <th>count</th>\n",
       "      <td>20000.000000</td>\n",
       "      <td>20000.000000</td>\n",
       "    </tr>\n",
       "    <tr>\n",
       "      <th>mean</th>\n",
       "      <td>8.103600</td>\n",
       "      <td>505.262400</td>\n",
       "    </tr>\n",
       "    <tr>\n",
       "      <th>std</th>\n",
       "      <td>25.375748</td>\n",
       "      <td>356.950889</td>\n",
       "    </tr>\n",
       "    <tr>\n",
       "      <th>min</th>\n",
       "      <td>-58.000000</td>\n",
       "      <td>108.000000</td>\n",
       "    </tr>\n",
       "    <tr>\n",
       "      <th>25%</th>\n",
       "      <td>-5.000000</td>\n",
       "      <td>284.000000</td>\n",
       "    </tr>\n",
       "    <tr>\n",
       "      <th>50%</th>\n",
       "      <td>0.000000</td>\n",
       "      <td>370.000000</td>\n",
       "    </tr>\n",
       "    <tr>\n",
       "      <th>75%</th>\n",
       "      <td>12.000000</td>\n",
       "      <td>611.000000</td>\n",
       "    </tr>\n",
       "    <tr>\n",
       "      <th>max</th>\n",
       "      <td>509.000000</td>\n",
       "      <td>2298.000000</td>\n",
       "    </tr>\n",
       "  </tbody>\n",
       "</table>\n",
       "</div>"
      ],
      "text/plain": [
       "              delay      distance\n",
       "count  20000.000000  20000.000000\n",
       "mean       8.103600    505.262400\n",
       "std       25.375748    356.950889\n",
       "min      -58.000000    108.000000\n",
       "25%       -5.000000    284.000000\n",
       "50%        0.000000    370.000000\n",
       "75%       12.000000    611.000000\n",
       "max      509.000000   2298.000000"
      ]
     },
     "execution_count": 299,
     "metadata": {},
     "output_type": "execute_result"
    }
   ],
   "source": [
    "df3.describe()"
   ]
  },
  {
   "cell_type": "code",
   "execution_count": 300,
   "id": "2c320af7-b46f-4da6-9dc6-03d8b4fc8a24",
   "metadata": {},
   "outputs": [
    {
     "data": {
      "text/html": [
       "<div>\n",
       "<style scoped>\n",
       "    .dataframe tbody tr th:only-of-type {\n",
       "        vertical-align: middle;\n",
       "    }\n",
       "\n",
       "    .dataframe tbody tr th {\n",
       "        vertical-align: top;\n",
       "    }\n",
       "\n",
       "    .dataframe thead th {\n",
       "        text-align: right;\n",
       "    }\n",
       "</style>\n",
       "<table border=\"1\" class=\"dataframe\">\n",
       "  <thead>\n",
       "    <tr style=\"text-align: right;\">\n",
       "      <th></th>\n",
       "      <th>date</th>\n",
       "      <th>delay</th>\n",
       "      <th>distance</th>\n",
       "      <th>origin</th>\n",
       "      <th>destination</th>\n",
       "    </tr>\n",
       "  </thead>\n",
       "  <tbody>\n",
       "    <tr>\n",
       "      <th>0</th>\n",
       "      <td>2001-01-13 14:56:00</td>\n",
       "      <td>32</td>\n",
       "      <td>417</td>\n",
       "      <td>SAN</td>\n",
       "      <td>SJC</td>\n",
       "    </tr>\n",
       "    <tr>\n",
       "      <th>1</th>\n",
       "      <td>2001-01-31 16:40:00</td>\n",
       "      <td>-5</td>\n",
       "      <td>1093</td>\n",
       "      <td>FLL</td>\n",
       "      <td>ISP</td>\n",
       "    </tr>\n",
       "    <tr>\n",
       "      <th>2</th>\n",
       "      <td>2001-02-11 18:39:00</td>\n",
       "      <td>3</td>\n",
       "      <td>293</td>\n",
       "      <td>LBB</td>\n",
       "      <td>DAL</td>\n",
       "    </tr>\n",
       "    <tr>\n",
       "      <th>3</th>\n",
       "      <td>2001-01-10 21:00:00</td>\n",
       "      <td>-15</td>\n",
       "      <td>550</td>\n",
       "      <td>MSY</td>\n",
       "      <td>MCO</td>\n",
       "    </tr>\n",
       "    <tr>\n",
       "      <th>4</th>\n",
       "      <td>2001-03-30 21:45:00</td>\n",
       "      <td>-2</td>\n",
       "      <td>229</td>\n",
       "      <td>STL</td>\n",
       "      <td>IND</td>\n",
       "    </tr>\n",
       "  </tbody>\n",
       "</table>\n",
       "</div>"
      ],
      "text/plain": [
       "                 date  delay  distance origin destination\n",
       "0 2001-01-13 14:56:00     32       417    SAN         SJC\n",
       "1 2001-01-31 16:40:00     -5      1093    FLL         ISP\n",
       "2 2001-02-11 18:39:00      3       293    LBB         DAL\n",
       "3 2001-01-10 21:00:00    -15       550    MSY         MCO\n",
       "4 2001-03-30 21:45:00     -2       229    STL         IND"
      ]
     },
     "execution_count": 300,
     "metadata": {},
     "output_type": "execute_result"
    }
   ],
   "source": [
    "df3.head()"
   ]
  },
  {
   "cell_type": "markdown",
   "id": "543f8cb7-a80d-4ce1-97c3-8c7b47b985a2",
   "metadata": {},
   "source": [
    "* **Convert any negative delays to 0.**"
   ]
  },
  {
   "cell_type": "code",
   "execution_count": 302,
   "id": "97033748-4269-4dff-9756-7ea71ec06b23",
   "metadata": {},
   "outputs": [],
   "source": [
    "df3['delay'] = df3['delay'].where(df3['delay'] >= 0, 0)"
   ]
  },
  {
   "cell_type": "code",
   "execution_count": 303,
   "id": "c656810a-2eba-45f9-ba40-067fa1dfea87",
   "metadata": {},
   "outputs": [
    {
     "data": {
      "text/html": [
       "<div>\n",
       "<style scoped>\n",
       "    .dataframe tbody tr th:only-of-type {\n",
       "        vertical-align: middle;\n",
       "    }\n",
       "\n",
       "    .dataframe tbody tr th {\n",
       "        vertical-align: top;\n",
       "    }\n",
       "\n",
       "    .dataframe thead th {\n",
       "        text-align: right;\n",
       "    }\n",
       "</style>\n",
       "<table border=\"1\" class=\"dataframe\">\n",
       "  <thead>\n",
       "    <tr style=\"text-align: right;\">\n",
       "      <th></th>\n",
       "      <th>date</th>\n",
       "      <th>delay</th>\n",
       "      <th>distance</th>\n",
       "      <th>origin</th>\n",
       "      <th>destination</th>\n",
       "    </tr>\n",
       "  </thead>\n",
       "  <tbody>\n",
       "    <tr>\n",
       "      <th>0</th>\n",
       "      <td>2001-01-13 14:56:00</td>\n",
       "      <td>32</td>\n",
       "      <td>417</td>\n",
       "      <td>SAN</td>\n",
       "      <td>SJC</td>\n",
       "    </tr>\n",
       "    <tr>\n",
       "      <th>1</th>\n",
       "      <td>2001-01-31 16:40:00</td>\n",
       "      <td>0</td>\n",
       "      <td>1093</td>\n",
       "      <td>FLL</td>\n",
       "      <td>ISP</td>\n",
       "    </tr>\n",
       "    <tr>\n",
       "      <th>2</th>\n",
       "      <td>2001-02-11 18:39:00</td>\n",
       "      <td>3</td>\n",
       "      <td>293</td>\n",
       "      <td>LBB</td>\n",
       "      <td>DAL</td>\n",
       "    </tr>\n",
       "    <tr>\n",
       "      <th>3</th>\n",
       "      <td>2001-01-10 21:00:00</td>\n",
       "      <td>0</td>\n",
       "      <td>550</td>\n",
       "      <td>MSY</td>\n",
       "      <td>MCO</td>\n",
       "    </tr>\n",
       "    <tr>\n",
       "      <th>4</th>\n",
       "      <td>2001-03-30 21:45:00</td>\n",
       "      <td>0</td>\n",
       "      <td>229</td>\n",
       "      <td>STL</td>\n",
       "      <td>IND</td>\n",
       "    </tr>\n",
       "  </tbody>\n",
       "</table>\n",
       "</div>"
      ],
      "text/plain": [
       "                 date  delay  distance origin destination\n",
       "0 2001-01-13 14:56:00     32       417    SAN         SJC\n",
       "1 2001-01-31 16:40:00      0      1093    FLL         ISP\n",
       "2 2001-02-11 18:39:00      3       293    LBB         DAL\n",
       "3 2001-01-10 21:00:00      0       550    MSY         MCO\n",
       "4 2001-03-30 21:45:00      0       229    STL         IND"
      ]
     },
     "execution_count": 303,
     "metadata": {},
     "output_type": "execute_result"
    }
   ],
   "source": [
    "df3.head()"
   ]
  },
  {
   "cell_type": "markdown",
   "id": "c891adc4-a143-468d-8f52-39c28c3e8003",
   "metadata": {},
   "source": [
    "* **Which hour of the day has the highest average delay?**"
   ]
  },
  {
   "cell_type": "code",
   "execution_count": null,
   "id": "76a7efe2-c711-4413-bd65-3382ce34a880",
   "metadata": {},
   "outputs": [],
   "source": [
    "df3."
   ]
  },
  {
   "cell_type": "markdown",
   "id": "2008cc10-8793-4a10-b3b5-fb2c42a5d2d6",
   "metadata": {},
   "source": [
    "* **Does the day of the week make a difference in the delay amount?**"
   ]
  },
  {
   "cell_type": "code",
   "execution_count": null,
   "id": "39254d36-b730-474d-90f2-c58bb1f581a2",
   "metadata": {},
   "outputs": [],
   "source": []
  },
  {
   "cell_type": "markdown",
   "id": "f10232b9-5617-4e18-ac1e-d5829e38d125",
   "metadata": {},
   "source": [
    "* **Does the month make a difference in the delay amount?**"
   ]
  },
  {
   "cell_type": "code",
   "execution_count": null,
   "id": "6d74795b-b86c-4b62-aef8-59a83bb56bdd",
   "metadata": {},
   "outputs": [],
   "source": []
  },
  {
   "cell_type": "markdown",
   "id": "d636f370-6933-4d10-b4e4-45c4f96faeee",
   "metadata": {},
   "source": [
    "  "
   ]
  },
  {
   "cell_type": "markdown",
   "id": "4098411a-75f0-4734-9e42-3265e96d67dc",
   "metadata": {},
   "source": [
    "  "
   ]
  },
  {
   "cell_type": "markdown",
   "id": "f56b4af9-ec1f-40d1-96a9-c2e5489bd071",
   "metadata": {},
   "source": [
    "  "
   ]
  },
  {
   "cell_type": "markdown",
   "id": "435eab82-e95e-404d-b900-799140db5f3d",
   "metadata": {},
   "source": [
    "  "
   ]
  },
  {
   "cell_type": "markdown",
   "id": "e7e70aa6-286f-40f9-ac2a-5bf2d7711e89",
   "metadata": {},
   "source": [
    "  "
   ]
  },
  {
   "cell_type": "markdown",
   "id": "55792031-c920-4665-93a8-20e933930273",
   "metadata": {},
   "source": [
    "  "
   ]
  },
  {
   "cell_type": "markdown",
   "id": "2df002cc-1009-4934-bd39-8430a77d1a46",
   "metadata": {},
   "source": [
    "# Bonus"
   ]
  },
  {
   "cell_type": "code",
   "execution_count": null,
   "id": "57fd242c-39ef-4315-8cbc-7f23072e3265",
   "metadata": {},
   "outputs": [],
   "source": [
    "data.iowa_electricity()"
   ]
  },
  {
   "cell_type": "markdown",
   "id": "e5fef3ae-a56f-45f2-92a6-c098d4f2f347",
   "metadata": {},
   "source": [
    "> Use the above dataset for the following exercises:"
   ]
  },
  {
   "cell_type": "markdown",
   "id": "3ddb5daf-901c-42f7-ae64-e56d785a8b85",
   "metadata": {},
   "source": [
    "* **For each row, calculate the percentage of the year's total that energy source provided.**"
   ]
  },
  {
   "cell_type": "code",
   "execution_count": null,
   "id": "b6f0282f-3b06-4401-a84a-806bf4013707",
   "metadata": {},
   "outputs": [],
   "source": []
  },
  {
   "cell_type": "markdown",
   "id": "b010a25d-92fd-4b60-a39a-e4b966ede034",
   "metadata": {},
   "source": [
    "* **Lineplot of generation over time, color by source**"
   ]
  },
  {
   "cell_type": "code",
   "execution_count": null,
   "id": "776e7438-29dd-4c5f-bf9f-34503b7c66ff",
   "metadata": {},
   "outputs": [],
   "source": []
  },
  {
   "cell_type": "markdown",
   "id": "c8b7a7bc-8b07-4751-8f00-3cc2d29562a0",
   "metadata": {},
   "source": [
    "* **Display the data as table where years are columns, and energy source is rows (Hint: df.pivot_table)**"
   ]
  },
  {
   "cell_type": "code",
   "execution_count": null,
   "id": "8acbec44-4c47-42af-962e-654b08a478b7",
   "metadata": {},
   "outputs": [],
   "source": []
  },
  {
   "cell_type": "markdown",
   "id": "823af706-2b9b-462c-9b8e-78161a8e8dcb",
   "metadata": {},
   "source": [
    "* **Make a line plot that shows the amount of energy generated over time. Each source should be a separate line?**"
   ]
  },
  {
   "cell_type": "code",
   "execution_count": null,
   "id": "ef96f387-4508-45a9-a9f4-9d2e08addf51",
   "metadata": {},
   "outputs": [],
   "source": []
  },
  {
   "cell_type": "markdown",
   "id": "dfd09219-0a48-4b2a-9810-a6d4125a1dbd",
   "metadata": {},
   "source": [
    "* **Is the total generation increasing over time?**\n",
    "    * *How would you control for increasing consumption over time when considering how much energy is coming from each source?*\n",
    "    * *express each number as a % of the year's total*"
   ]
  },
  {
   "cell_type": "code",
   "execution_count": null,
   "id": "a43fcf84-cd29-4211-92de-5a200fff004b",
   "metadata": {},
   "outputs": [],
   "source": []
  },
  {
   "cell_type": "markdown",
   "id": "3135b38d-e13c-40d1-83b6-98eda18c06c3",
   "metadata": {},
   "source": [
    "----------------------------------------------------------------------------------------------------------------"
   ]
  },
  {
   "cell_type": "markdown",
   "id": "bc93255d-8933-4301-a011-4e99d0d39c00",
   "metadata": {},
   "source": [
    "  "
   ]
  },
  {
   "cell_type": "markdown",
   "id": "01a3c35f-de0f-44d3-a495-1eda401152dc",
   "metadata": {},
   "source": [
    "  "
   ]
  },
  {
   "cell_type": "markdown",
   "id": "29e4301a-6c6b-4e2e-9909-f982094e5079",
   "metadata": {},
   "source": [
    "  "
   ]
  },
  {
   "cell_type": "markdown",
   "id": "e9f6c2b8-21f4-44b5-a1fc-4f5a9b7a5003",
   "metadata": {},
   "source": [
    "  "
   ]
  },
  {
   "cell_type": "markdown",
   "id": "34290a56-3fa4-41cd-81fd-a782172ce705",
   "metadata": {},
   "source": [
    "  "
   ]
  },
  {
   "cell_type": "markdown",
   "id": "f603b697-9529-4f74-a2d8-e634bd5d6add",
   "metadata": {},
   "source": [
    "  "
   ]
  },
  {
   "cell_type": "markdown",
   "id": "776ae093-8903-488d-baea-dca900ec59dd",
   "metadata": {},
   "source": [
    "> Use the sf_temps dataset"
   ]
  },
  {
   "cell_type": "markdown",
   "id": "bbd4b6fc-a498-4603-a378-a66a1d14c211",
   "metadata": {},
   "source": [
    "* **Create 4 categories for temperature, cold, cool, warm, hot** (*hint: use pd.cut or pd.qcut for this*)"
   ]
  },
  {
   "cell_type": "code",
   "execution_count": null,
   "id": "500a6d66-65d4-46d5-ada2-4d619aad818c",
   "metadata": {},
   "outputs": [],
   "source": []
  },
  {
   "cell_type": "markdown",
   "id": "58a660f0-1d2e-4aab-b462-52f33a0871b4",
   "metadata": {},
   "source": [
    "* **How does the occurances of these 4 categories change month over month? i.e. how many days have each distinction? Visualize this and give the visual appropriate colors for each category.**"
   ]
  },
  {
   "cell_type": "code",
   "execution_count": null,
   "id": "d6e156d3-a7b9-4f8b-80fd-bfc1ec178e4d",
   "metadata": {},
   "outputs": [],
   "source": []
  },
  {
   "cell_type": "markdown",
   "id": "1d843a6f-1726-4850-94aa-4d4644074ccd",
   "metadata": {},
   "source": [
    "* **Create pretty labels for time plots**"
   ]
  },
  {
   "cell_type": "code",
   "execution_count": null,
   "id": "191ad35d-79fc-4afc-ac35-c10b4a2d3690",
   "metadata": {},
   "outputs": [],
   "source": []
  },
  {
   "cell_type": "markdown",
   "id": "ffc7e850-1ae8-4b65-83ca-7ae5aa9f71c3",
   "metadata": {},
   "source": [
    "* **Visualize the number of days of each month that fall into each bin by year (e.g. x=month, y=n_days, hue=temp_bin) or st similar** "
   ]
  },
  {
   "cell_type": "code",
   "execution_count": null,
   "id": "b4e00247-2c82-4b0d-b648-3937ecc6d0ee",
   "metadata": {},
   "outputs": [],
   "source": []
  },
  {
   "cell_type": "markdown",
   "id": "167aa86f-6c5d-4b0c-a62f-0387073138a2",
   "metadata": {},
   "source": [
    "  "
   ]
  },
  {
   "cell_type": "markdown",
   "id": "8e8d9383-bf4d-4eb4-9447-1635ac56c305",
   "metadata": {},
   "source": [
    "  "
   ]
  },
  {
   "cell_type": "markdown",
   "id": "6b2f6bd9-8000-4206-b693-d5facea10cd2",
   "metadata": {},
   "source": [
    "  "
   ]
  },
  {
   "cell_type": "markdown",
   "id": "33ebe58c-0802-45bb-a72a-cfce1bc1f432",
   "metadata": {},
   "source": [
    "  "
   ]
  },
  {
   "cell_type": "markdown",
   "id": "1a6ce0a7-e85e-4257-8550-4c2629dc57d4",
   "metadata": {},
   "source": [
    "  "
   ]
  },
  {
   "cell_type": "markdown",
   "id": "b0a97b90-2d6c-4ffd-aece-6fdb17f46fee",
   "metadata": {},
   "source": [
    "  "
   ]
  },
  {
   "cell_type": "markdown",
   "id": "f0b920dd-af94-416c-b4ca-34e753ecc1ea",
   "metadata": {},
   "source": [
    "> Explore the birdstrikes dataset."
   ]
  },
  {
   "cell_type": "code",
   "execution_count": null,
   "id": "023fa0f4-bcd6-46c9-83fd-8440c49f85ac",
   "metadata": {},
   "outputs": [],
   "source": [
    "df = data.birdstrikes()\n",
    "df.head()"
   ]
  }
 ],
 "metadata": {
  "kernelspec": {
   "display_name": "Python 3 (ipykernel)",
   "language": "python",
   "name": "python3"
  },
  "language_info": {
   "codemirror_mode": {
    "name": "ipython",
    "version": 3
   },
   "file_extension": ".py",
   "mimetype": "text/x-python",
   "name": "python",
   "nbconvert_exporter": "python",
   "pygments_lexer": "ipython3",
   "version": "3.10.9"
  }
 },
 "nbformat": 4,
 "nbformat_minor": 5
}
